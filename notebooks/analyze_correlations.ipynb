{
 "cells": [
  {
   "cell_type": "code",
   "execution_count": 17,
   "id": "a6aa7df3",
   "metadata": {},
   "outputs": [],
   "source": [
    "import numpy as np\n",
    "import matplotlib.pylab as pl\n",
    "import os\n",
    "import h5py"
   ]
  },
  {
   "cell_type": "markdown",
   "id": "36482d94",
   "metadata": {},
   "source": [
    "## define parameters"
   ]
  },
  {
   "cell_type": "code",
   "execution_count": 24,
   "id": "82787b0c",
   "metadata": {},
   "outputs": [],
   "source": [
    "N=10\n",
    "K=8\n",
    "M_sys=1\n",
    "M_train=1\n",
    "P=1000000\n",
    "T=int(1e4)\n",
    "epochs=200\n",
    "data_seed=1"
   ]
  },
  {
   "cell_type": "markdown",
   "id": "f6b488be",
   "metadata": {},
   "source": [
    "store"
   ]
  },
  {
   "cell_type": "code",
   "execution_count": 3,
   "id": "c27be56a",
   "metadata": {},
   "outputs": [
    {
     "ename": "FileNotFoundError",
     "evalue": "[Errno 2] No such file or directory: '../hashlist_N_10_K_8_Msys_1_T_10000_P_1000000_Mtrain_1_Ep_200_dataseed_1.npy'",
     "output_type": "error",
     "traceback": [
      "\u001b[0;31m---------------------------------------------------------------------------\u001b[0m",
      "\u001b[0;31mFileNotFoundError\u001b[0m                         Traceback (most recent call last)",
      "Cell \u001b[0;32mIn[3], line 2\u001b[0m\n\u001b[1;32m      1\u001b[0m hashlist_filename \u001b[38;5;241m=\u001b[39m \u001b[38;5;124mf\u001b[39m\u001b[38;5;124m\"\u001b[39m\u001b[38;5;124m../hashlist_N_\u001b[39m\u001b[38;5;132;01m{\u001b[39;00mN\u001b[38;5;132;01m}\u001b[39;00m\u001b[38;5;124m_K_\u001b[39m\u001b[38;5;132;01m{\u001b[39;00mK\u001b[38;5;132;01m}\u001b[39;00m\u001b[38;5;124m_Msys_\u001b[39m\u001b[38;5;132;01m{\u001b[39;00mM_sys\u001b[38;5;132;01m}\u001b[39;00m\u001b[38;5;124m_T_\u001b[39m\u001b[38;5;132;01m{\u001b[39;00mT\u001b[38;5;132;01m}\u001b[39;00m\u001b[38;5;124m_P_\u001b[39m\u001b[38;5;132;01m{\u001b[39;00m\u001b[38;5;28mint\u001b[39m(P)\u001b[38;5;132;01m}\u001b[39;00m\u001b[38;5;124m_Mtrain_\u001b[39m\u001b[38;5;132;01m{\u001b[39;00mM_train\u001b[38;5;132;01m}\u001b[39;00m\u001b[38;5;124m_Ep_\u001b[39m\u001b[38;5;132;01m{\u001b[39;00mepochs\u001b[38;5;132;01m}\u001b[39;00m\u001b[38;5;124m_dataseed_\u001b[39m\u001b[38;5;132;01m{\u001b[39;00mdata_seed\u001b[38;5;132;01m}\u001b[39;00m\u001b[38;5;124m.npy\u001b[39m\u001b[38;5;124m\"\u001b[39m\n\u001b[0;32m----> 2\u001b[0m hash_lists\u001b[38;5;241m=\u001b[39m\u001b[43mnp\u001b[49m\u001b[38;5;241;43m.\u001b[39;49m\u001b[43mload\u001b[49m\u001b[43m(\u001b[49m\u001b[43mhashlist_filename\u001b[49m\u001b[43m,\u001b[49m\u001b[43mallow_pickle\u001b[49m\u001b[38;5;241;43m=\u001b[39;49m\u001b[38;5;28;43;01mTrue\u001b[39;49;00m\u001b[43m)\u001b[49m\u001b[38;5;241m.\u001b[39mitem()\n\u001b[1;32m      3\u001b[0m hash_list_keys\u001b[38;5;241m=\u001b[39m[\n\u001b[1;32m      4\u001b[0m     \u001b[38;5;124m'\u001b[39m\u001b[38;5;124mbitpop_data\u001b[39m\u001b[38;5;124m'\u001b[39m,\n\u001b[1;32m      5\u001b[0m     \u001b[38;5;124m'\u001b[39m\u001b[38;5;124msimple_train\u001b[39m\u001b[38;5;124m'\u001b[39m,\n\u001b[0;32m   (...)\u001b[0m\n\u001b[1;32m      8\u001b[0m     \u001b[38;5;124m'\u001b[39m\u001b[38;5;124mmatch_data\u001b[39m\u001b[38;5;124m'\u001b[39m\n\u001b[1;32m      9\u001b[0m ]\n",
      "File \u001b[0;32m~/miniconda3/lib/python3.10/site-packages/numpy/lib/npyio.py:405\u001b[0m, in \u001b[0;36mload\u001b[0;34m(file, mmap_mode, allow_pickle, fix_imports, encoding, max_header_size)\u001b[0m\n\u001b[1;32m    403\u001b[0m     own_fid \u001b[38;5;241m=\u001b[39m \u001b[38;5;28;01mFalse\u001b[39;00m\n\u001b[1;32m    404\u001b[0m \u001b[38;5;28;01melse\u001b[39;00m:\n\u001b[0;32m--> 405\u001b[0m     fid \u001b[38;5;241m=\u001b[39m stack\u001b[38;5;241m.\u001b[39menter_context(\u001b[38;5;28;43mopen\u001b[39;49m\u001b[43m(\u001b[49m\u001b[43mos_fspath\u001b[49m\u001b[43m(\u001b[49m\u001b[43mfile\u001b[49m\u001b[43m)\u001b[49m\u001b[43m,\u001b[49m\u001b[43m \u001b[49m\u001b[38;5;124;43m\"\u001b[39;49m\u001b[38;5;124;43mrb\u001b[39;49m\u001b[38;5;124;43m\"\u001b[39;49m\u001b[43m)\u001b[49m)\n\u001b[1;32m    406\u001b[0m     own_fid \u001b[38;5;241m=\u001b[39m \u001b[38;5;28;01mTrue\u001b[39;00m\n\u001b[1;32m    408\u001b[0m \u001b[38;5;66;03m# Code to distinguish from NumPy binary files and pickles.\u001b[39;00m\n",
      "\u001b[0;31mFileNotFoundError\u001b[0m: [Errno 2] No such file or directory: '../hashlist_N_10_K_8_Msys_1_T_10000_P_1000000_Mtrain_1_Ep_200_dataseed_1.npy'"
     ]
    }
   ],
   "source": [
    "hashlist_filename = f\"../hashlist_N_{N}_K_{K}_Msys_{M_sys}_T_{T}_P_{int(P)}_Mtrain_{M_train}_Ep_{epochs}_dataseed_{data_seed}.npy\"\n",
    "hash_lists=np.load(hashlist_filename,allow_pickle=True).item()\n",
    "hash_list_keys=[\n",
    "    'bitpop_data',\n",
    "    'simple_train',\n",
    "    'simple_data',\n",
    "    'match_train',\n",
    "    'match_data'\n",
    "]"
   ]
  },
  {
   "cell_type": "markdown",
   "id": "1377d222",
   "metadata": {},
   "source": [
    "## Plot action-action correlations"
   ]
  },
  {
   "cell_type": "code",
   "execution_count": 30,
   "id": "76b38c10",
   "metadata": {},
   "outputs": [],
   "source": [
    "def get_action_data(hashh, get_pref_actions=False,data_seed=0):\n",
    "    outdir = '../output'\n",
    "    # data_dir =f'data_{hashh}'\n",
    "    data_dir =hashh\n",
    "\n",
    "    data_filename = os.path.join(outdir, data_dir, 'data.h5')\n",
    "    # load the hdf data\n",
    "    with h5py.File(data_filename, 'r') as f:\n",
    "        datasets = {}\n",
    "        for group_name, group in f.items():\n",
    "            datasets[group_name] = {key: np.array(\n",
    "                value) for key, value in group.items()}\n",
    "    print(datasets.keys())\n",
    "    data = datasets[f\"train_dataset_{data_seed}\"]\n",
    "    states = data[\"states\"]\n",
    "    actions = data[\"actions\"]\n",
    "    if get_pref_actions:\n",
    "        preferred_actions = data[\"preferred_actions\"]\n",
    "        return actions,preferred_actions\n",
    "    else:\n",
    "        return actions\n",
    "def get_corr_matrix(data_matrix):\n",
    "    n_samples,n_agents = data_matrix.shape\n",
    "    corr_matrix = np.zeros([n_agents] * 2)\n",
    "    for i in range(n_agents):\n",
    "        for j in range(n_agents):\n",
    "            if i < j:\n",
    "                corr_matrix[i, j] = 2 * \\\n",
    "                    np.mean(data_matrix[:,i] == data_matrix[:,j]) - 1    \n",
    "    return corr_matrix + corr_matrix.T + np.identity(n_agents)"
   ]
  },
  {
   "cell_type": "code",
   "execution_count": 25,
   "id": "9fc2668c",
   "metadata": {},
   "outputs": [
    {
     "ename": "FileNotFoundError",
     "evalue": "[Errno 2] No such file or directory: '../hashlist_N_10_K_8_Msys_1_T_10000_P_1000000_Mtrain_1_Ep_200_dataseed_1.npy'",
     "output_type": "error",
     "traceback": [
      "\u001b[0;31m---------------------------------------------------------------------------\u001b[0m",
      "\u001b[0;31mFileNotFoundError\u001b[0m                         Traceback (most recent call last)",
      "Cell \u001b[0;32mIn[25], line 3\u001b[0m\n\u001b[1;32m      1\u001b[0m \u001b[38;5;28;01mfor\u001b[39;00m data_seed \u001b[38;5;129;01min\u001b[39;00m [\u001b[38;5;241m1\u001b[39m]:\n\u001b[1;32m      2\u001b[0m     hashlist_filename \u001b[38;5;241m=\u001b[39m \u001b[38;5;124mf\u001b[39m\u001b[38;5;124m\"\u001b[39m\u001b[38;5;124m../hashlist_N_\u001b[39m\u001b[38;5;132;01m{\u001b[39;00mN\u001b[38;5;132;01m}\u001b[39;00m\u001b[38;5;124m_K_\u001b[39m\u001b[38;5;132;01m{\u001b[39;00mK\u001b[38;5;132;01m}\u001b[39;00m\u001b[38;5;124m_Msys_\u001b[39m\u001b[38;5;132;01m{\u001b[39;00mM_sys\u001b[38;5;132;01m}\u001b[39;00m\u001b[38;5;124m_T_\u001b[39m\u001b[38;5;132;01m{\u001b[39;00mT\u001b[38;5;132;01m}\u001b[39;00m\u001b[38;5;124m_P_\u001b[39m\u001b[38;5;132;01m{\u001b[39;00m\u001b[38;5;28mint\u001b[39m(P)\u001b[38;5;132;01m}\u001b[39;00m\u001b[38;5;124m_Mtrain_\u001b[39m\u001b[38;5;132;01m{\u001b[39;00mM_train\u001b[38;5;132;01m}\u001b[39;00m\u001b[38;5;124m_Ep_\u001b[39m\u001b[38;5;132;01m{\u001b[39;00mepochs\u001b[38;5;132;01m}\u001b[39;00m\u001b[38;5;124m_dataseed_\u001b[39m\u001b[38;5;132;01m{\u001b[39;00mdata_seed\u001b[38;5;132;01m}\u001b[39;00m\u001b[38;5;124m.npy\u001b[39m\u001b[38;5;124m\"\u001b[39m\n\u001b[0;32m----> 3\u001b[0m     hash_lists\u001b[38;5;241m=\u001b[39m\u001b[43mnp\u001b[49m\u001b[38;5;241;43m.\u001b[39;49m\u001b[43mload\u001b[49m\u001b[43m(\u001b[49m\u001b[43mhashlist_filename\u001b[49m\u001b[43m,\u001b[49m\u001b[43mallow_pickle\u001b[49m\u001b[38;5;241;43m=\u001b[39;49m\u001b[38;5;28;43;01mTrue\u001b[39;49;00m\u001b[43m)\u001b[49m\u001b[38;5;241m.\u001b[39mitem()\n\u001b[1;32m      4\u001b[0m     hash_list_keys\u001b[38;5;241m=\u001b[39m[\n\u001b[1;32m      5\u001b[0m         \u001b[38;5;124m'\u001b[39m\u001b[38;5;124mbitpop_data\u001b[39m\u001b[38;5;124m'\u001b[39m,\n\u001b[1;32m      6\u001b[0m         \u001b[38;5;124m'\u001b[39m\u001b[38;5;124msimple_train\u001b[39m\u001b[38;5;124m'\u001b[39m,\n\u001b[0;32m   (...)\u001b[0m\n\u001b[1;32m      9\u001b[0m         \u001b[38;5;124m'\u001b[39m\u001b[38;5;124mmatch_data\u001b[39m\u001b[38;5;124m'\u001b[39m\n\u001b[1;32m     10\u001b[0m     ]\n\u001b[1;32m     12\u001b[0m     corrvec\u001b[38;5;241m=\u001b[39m[\u001b[38;5;241m0\u001b[39m,\u001b[38;5;241m0.2\u001b[39m,\u001b[38;5;241m0.4\u001b[39m,\u001b[38;5;241m0.6\u001b[39m,\u001b[38;5;241m0.8\u001b[39m,\u001b[38;5;241m1.0\u001b[39m]\n",
      "File \u001b[0;32m~/miniconda3/envs/abstract/lib/python3.10/site-packages/numpy/lib/npyio.py:427\u001b[0m, in \u001b[0;36mload\u001b[0;34m(file, mmap_mode, allow_pickle, fix_imports, encoding, max_header_size)\u001b[0m\n\u001b[1;32m    425\u001b[0m     own_fid \u001b[38;5;241m=\u001b[39m \u001b[38;5;28;01mFalse\u001b[39;00m\n\u001b[1;32m    426\u001b[0m \u001b[38;5;28;01melse\u001b[39;00m:\n\u001b[0;32m--> 427\u001b[0m     fid \u001b[38;5;241m=\u001b[39m stack\u001b[38;5;241m.\u001b[39menter_context(\u001b[38;5;28;43mopen\u001b[39;49m\u001b[43m(\u001b[49m\u001b[43mos_fspath\u001b[49m\u001b[43m(\u001b[49m\u001b[43mfile\u001b[49m\u001b[43m)\u001b[49m\u001b[43m,\u001b[49m\u001b[43m \u001b[49m\u001b[38;5;124;43m\"\u001b[39;49m\u001b[38;5;124;43mrb\u001b[39;49m\u001b[38;5;124;43m\"\u001b[39;49m\u001b[43m)\u001b[49m)\n\u001b[1;32m    428\u001b[0m     own_fid \u001b[38;5;241m=\u001b[39m \u001b[38;5;28;01mTrue\u001b[39;00m\n\u001b[1;32m    430\u001b[0m \u001b[38;5;66;03m# Code to distinguish from NumPy binary files and pickles.\u001b[39;00m\n",
      "\u001b[0;31mFileNotFoundError\u001b[0m: [Errno 2] No such file or directory: '../hashlist_N_10_K_8_Msys_1_T_10000_P_1000000_Mtrain_1_Ep_200_dataseed_1.npy'"
     ]
    }
   ],
   "source": [
    "for data_seed in [1]:\n",
    "    # hashlist_filename = f\"../hashlist_N_{N}_K_{K}_Msys_{M_sys}_T_{T}_P_{int(P)}_Mtrain_{M_train}_Ep_{epochs}_dataseed_{data_seed}.npy\"\n",
    "    # hash_lists=np.load(hashlist_filename,allow_pickle=True).item()\n",
    "    # hash_list_keys=[\n",
    "    #     'bitpop_data',\n",
    "    #     'simple_train',\n",
    "    #     'simple_data',\n",
    "    #     'match_train',\n",
    "    #     'match_data'\n",
    "    # ]\n",
    "\n",
    "    corrvec=[0,0.2,0.4,0.6,0.8,1.0]\n",
    "    net_names = ['bitpop','simple']#,'match']\n",
    "    corr_matrices={}\n",
    "    for net_name in net_names:\n",
    "        hash_list=hash_lists[net_name+'_data']\n",
    "        corr_matrices[net_name]={}\n",
    "        for corr,hashh in zip(corrvec,hash_list):\n",
    "            if net_name=='bitpop':\n",
    "                actions,pref_actions=get_action_data(hashh,get_pref_actions=True,data_seed=data_seed)\n",
    "            else:\n",
    "                actions= get_action_data(hashh)\n",
    "\n",
    "            actions = (actions==pref_actions[np.newaxis,:])\n",
    "            corr_matrices[net_name][corr]=get_corr_matrix(actions)\n",
    "            \n",
    "    # fig, ax = pl.subplots(len(net_names), len(corrvec), figsize=(3*len(net_names), 3*len(corrvec)))\n",
    "    fig, ax = pl.subplots(2, len(corrvec), figsize=(3*(len(corrvec)),3*2))\n",
    "    figt,axt=pl.subplots(2,2,figsize=(6,6))\n",
    "    figs,axs=pl.subplots()\n",
    "    colors=pl.cm.get_cmap('viridis')(np.linspace(0,1,len(corrvec)))\n",
    "    net_data={}\n",
    "    for nit,net_name in enumerate(net_names):\n",
    "        \n",
    "        df=pd.DataFrame(columns=('pcorr','rho'))\n",
    "        nbins=41\n",
    "        count_store=np.zeros((len(corrvec),nbins-1))\n",
    "        means=[]\n",
    "        stds=[]\n",
    "        for rit, rho in enumerate(corrvec):\n",
    "            cmtr=corr_matrices[net_name][rho]\n",
    "            ax[0, rit].set_title(f\"rho={rho}\")\n",
    "            ax[nit, rit].imshow(cmtr,vmin=0,vmax=1)\n",
    "            mask=np.tril(np.ones(cmtr.shape,dtype=bool))\n",
    "            means.append(np.mean(cmtr[mask]))\n",
    "            stds.append(np.std(cmtr[mask]))\n",
    "            counts, bins =np.histogram(cmtr[mask],bins=np.linspace(-1,1,nbins))\n",
    "            count_store[rit,:]=counts\n",
    "            axt[nit,0].bar(bins[:-1],count_store[rit,:],width=0.1,color=colors[rit])\n",
    "        axt[nit,1].fill_between(x=corrvec,y1=np.array(means)+np.array(stds),y2=np.array(means)-np.array(stds),color='lightgray')\n",
    "        axt[nit,1].plot(corrvec,means,'k-')\n",
    "        for rit,corr in enumerate(corrvec):\n",
    "            axt[nit,1].plot([corr],[means[rit]],'ko',mfc=colors[rit],clip_on=False,zorder=4)\n",
    "        net_data[net_name]=means\n",
    "        axt[nit,1].set_ylabel('avg. measured correlation')\n",
    "        axt[nit,1].plot([0,1],[0,1],'k--')\n",
    "    #     sns.lineplot(data=df,ax=axt, x='pcorr',y='rho',errorbar='sd')\n",
    "    #     axt[nit,0].set_xlim(-0.2,1)\n",
    "        axt[nit,1].set_ylim(0,1)\n",
    "        axt[nit,1].set_xlim(0,1)\n",
    "        \n",
    "\n",
    "\n",
    "        ax[nit, 0].set_ylabel(net_name)\n",
    "    axs.plot(net_data['bitpop'],net_data['simple'],'o-')\n",
    "    axs.plot([0,1],[0,1],'k--')\n",
    "\n",
    "    axt[1,1].set_xlabel('correlation parameter')\n",
    "    axt[1,0].set_xlabel('measured correlation')\n",
    "    axt[0,0].set_ylabel('count')\n",
    "    axt[1,0].set_ylabel('count')\n",
    "    axt[0,0].text(.1, .9, 'bitpop', ha='left', va='top', transform=axt[0,0].transAxes)\n",
    "    axt[1,0].text(.1, .9, 'simpletask', ha='left', va='top', transform=axt[1,0].transAxes)\n",
    "\n",
    "    fig.tight_layout()\n",
    "    figt.tight_layout()\n",
    "    # axt.set_ylim(0,1)"
   ]
  },
  {
   "cell_type": "code",
   "execution_count": 35,
   "id": "0e83877a",
   "metadata": {},
   "outputs": [],
   "source": [
    "import seaborn as sns\n",
    "import pandas as pd"
   ]
  },
  {
   "cell_type": "markdown",
   "id": "8d03e2bf-c800-4c58-be67-f8e3306d5485",
   "metadata": {},
   "source": [
    "## Generate data with new code"
   ]
  },
  {
   "cell_type": "code",
   "execution_count": 50,
   "id": "c62ec9b3-9796-4c1a-bc5a-77e43460e8db",
   "metadata": {},
   "outputs": [],
   "source": [
    "import os\n",
    "os.chdir('../')\n",
    "from data_utils import gen_logit_dataset"
   ]
  },
  {
   "cell_type": "code",
   "execution_count": 45,
   "id": "a6a51dbc-5250-463d-9424-39eb8deba567",
   "metadata": {},
   "outputs": [],
   "source": [
    "#variation\n",
    "wstates = [0., 1., 10.]\n",
    "corrs = [0.0, 0.2, 0.4, 0.6, 0.8, 1.0]"
   ]
  },
  {
   "cell_type": "code",
   "execution_count": 10,
   "id": "66559133-2b63-4f20-9d26-5c8c467c6490",
   "metadata": {},
   "outputs": [],
   "source": [
    "dataset_config = {\n",
    "    \"num_train_samples\": 10000,\n",
    "    \"num_test_samples\": 2,\n",
    "    \"outdir\" : \"output/\",\n",
    "    \"num_actions\": 2,\n",
    "    \"num_agents\": 10,\n",
    "    \"state_dim\": 7,\n",
    "    \"model_name\":\"logit\",\n",
    "    \"corr\": 1.0,\n",
    "    \"state_weight\": 1.0\n",
    "}"
   ]
  },
  {
   "cell_type": "code",
   "execution_count": 51,
   "id": "6b94a250-c0f9-4d82-b619-8ab128b51d3e",
   "metadata": {
    "scrolled": true
   },
   "outputs": [
    {
     "name": "stdout",
     "output_type": "stream",
     "text": [
      "running seed 0 of 2\n",
      "running seed 1 of 2\n",
      "saving data_ab5d83fbd0\n",
      "running seed 0 of 2\n",
      "running seed 1 of 2\n",
      "saving data_db8b584f31\n",
      "running seed 0 of 2\n",
      "running seed 1 of 2\n",
      "saving data_5fa8ef1d07\n",
      "running seed 0 of 2\n",
      "running seed 1 of 2\n",
      "saving data_8869565511\n",
      "running seed 0 of 2\n",
      "running seed 1 of 2\n",
      "saving data_04c59715db\n",
      "running seed 0 of 2\n",
      "running seed 1 of 2\n",
      "saving data_d5a1ea3ae8\n",
      "running seed 0 of 2\n",
      "running seed 1 of 2\n",
      "saving data_ce1e8a4f8b\n",
      "running seed 0 of 2\n",
      "running seed 1 of 2\n",
      "saving data_14f562e952\n",
      "running seed 0 of 2\n",
      "running seed 1 of 2\n",
      "saving data_51bb554c2e\n",
      "running seed 0 of 2\n",
      "running seed 1 of 2\n",
      "saving data_071377d371\n",
      "running seed 0 of 2\n",
      "running seed 1 of 2\n",
      "saving data_2e3110406f\n",
      "running seed 0 of 2\n",
      "running seed 1 of 2\n",
      "saving data_9c4f24b3c6\n",
      "running seed 0 of 2\n",
      "running seed 1 of 2\n",
      "saving data_01e3d710fb\n",
      "running seed 0 of 2\n",
      "running seed 1 of 2\n",
      "saving data_3019e08533\n",
      "running seed 0 of 2\n",
      "running seed 1 of 2\n",
      "saving data_170353fac8\n",
      "running seed 0 of 2\n",
      "running seed 1 of 2\n",
      "saving data_07f20555a5\n",
      "running seed 0 of 2\n",
      "running seed 1 of 2\n",
      "saving data_77dd43275c\n",
      "running seed 0 of 2\n",
      "running seed 1 of 2\n",
      "saving data_f630021e51\n"
     ]
    }
   ],
   "source": [
    "data_dir_store = {}\n",
    "for wstate in wstates:\n",
    "    data_dir_store[wstate]={}\n",
    "    for corr in corrs:\n",
    "        dataset_config['state_weight'] = wstate\n",
    "        dataset_config['corr'] = corr\n",
    "        data_dir_store[wstate][corr]=gen_logit_dataset(dataset_config)"
   ]
  },
  {
   "cell_type": "code",
   "execution_count": 63,
   "id": "fbfe2c20-3e45-45c4-8a3f-7dd4310bb791",
   "metadata": {},
   "outputs": [
    {
     "data": {
      "text/plain": [
       "dict_keys([0.0, 0.2, 0.4, 0.6, 0.8, 1.0])"
      ]
     },
     "execution_count": 63,
     "metadata": {},
     "output_type": "execute_result"
    }
   ],
   "source": [
    "data_dir_store[wstate].keys()"
   ]
  },
  {
   "cell_type": "code",
   "execution_count": 27,
   "id": "a197728f-8a47-43da-94e5-337a80a84807",
   "metadata": {},
   "outputs": [
    {
     "ename": "NameError",
     "evalue": "name 'datasets' is not defined",
     "output_type": "error",
     "traceback": [
      "\u001b[0;31m---------------------------------------------------------------------------\u001b[0m",
      "\u001b[0;31mNameError\u001b[0m                                 Traceback (most recent call last)",
      "Cell \u001b[0;32mIn[27], line 1\u001b[0m\n\u001b[0;32m----> 1\u001b[0m \u001b[43mdatasets\u001b[49m\n",
      "\u001b[0;31mNameError\u001b[0m: name 'datasets' is not defined"
     ]
    }
   ],
   "source": [
    "datasets"
   ]
  },
  {
   "cell_type": "code",
   "execution_count": 47,
   "id": "960f7b5c-4bcd-4c72-a440-ab7eb04d806a",
   "metadata": {},
   "outputs": [
    {
     "data": {
      "text/plain": [
       "dict_keys([0.0, 1.0, 10.0])"
      ]
     },
     "execution_count": 47,
     "metadata": {},
     "output_type": "execute_result"
    }
   ],
   "source": [
    "corr_matrices.keys()"
   ]
  },
  {
   "cell_type": "code",
   "execution_count": 53,
   "id": "bc8abb87-be2f-4a41-baef-86e0f6fffaa0",
   "metadata": {},
   "outputs": [],
   "source": [
    "os.chdir('notebooks/')\n"
   ]
  },
  {
   "cell_type": "code",
   "execution_count": 55,
   "id": "e4f8fe35-1e0d-4a45-8e37-edc2f5e2f7eb",
   "metadata": {},
   "outputs": [
    {
     "data": {
      "text/plain": [
       "[1.0]"
      ]
     },
     "execution_count": 55,
     "metadata": {},
     "output_type": "execute_result"
    }
   ],
   "source": [
    "list(corr_matrices[0.].keys())"
   ]
  },
  {
   "cell_type": "code",
   "execution_count": 33,
   "id": "59072dea-3700-4c17-9e3f-85493a6b467b",
   "metadata": {},
   "outputs": [],
   "source": [
    "import pandas as pd"
   ]
  },
  {
   "cell_type": "code",
   "execution_count": 48,
   "id": "c30f9301-d070-45b3-be56-19e10ee8fdfc",
   "metadata": {},
   "outputs": [
    {
     "data": {
      "text/plain": [
       "[0.0, 0.2, 0.4, 0.6, 0.8, 1.0]"
      ]
     },
     "execution_count": 48,
     "metadata": {},
     "output_type": "execute_result"
    }
   ],
   "source": [
    "corrs"
   ]
  },
  {
   "cell_type": "code",
   "execution_count": 58,
   "id": "ec7ff1d0-8fd8-4b76-ad8a-c72d2fc3217b",
   "metadata": {},
   "outputs": [
    {
     "ename": "KeyError",
     "evalue": "0.0",
     "output_type": "error",
     "traceback": [
      "\u001b[0;31m---------------------------------------------------------------------------\u001b[0m",
      "\u001b[0;31mKeyError\u001b[0m                                  Traceback (most recent call last)",
      "Cell \u001b[0;32mIn[58], line 1\u001b[0m\n\u001b[0;32m----> 1\u001b[0m \u001b[43mcorr_matrices\u001b[49m\u001b[43m[\u001b[49m\u001b[43mwstate\u001b[49m\u001b[43m]\u001b[49m\u001b[43m[\u001b[49m\u001b[38;5;241;43m0.0\u001b[39;49m\u001b[43m]\u001b[49m\n",
      "\u001b[0;31mKeyError\u001b[0m: 0.0"
     ]
    }
   ],
   "source": [
    "corr_matrices[wstate][0.0]"
   ]
  },
  {
   "cell_type": "code",
   "execution_count": 59,
   "id": "538ee8bc-79aa-44a9-98cb-7755b1914361",
   "metadata": {},
   "outputs": [
    {
     "data": {
      "text/plain": [
       "dict_keys([1.0])"
      ]
     },
     "execution_count": 59,
     "metadata": {},
     "output_type": "execute_result"
    }
   ],
   "source": [
    "corr_matrices[wstate].keys()"
   ]
  },
  {
   "cell_type": "code",
   "execution_count": 60,
   "id": "f7ce6f84-b2c3-429e-a967-9dba64247151",
   "metadata": {},
   "outputs": [
    {
     "data": {
      "text/plain": [
       "[0.0, 0.2, 0.4, 0.6, 0.8, 1.0]"
      ]
     },
     "execution_count": 60,
     "metadata": {},
     "output_type": "execute_result"
    }
   ],
   "source": [
    "corrs"
   ]
  },
  {
   "cell_type": "code",
   "execution_count": 62,
   "id": "cc6ea6b1-92b4-447a-86f8-4ecc9604f79a",
   "metadata": {},
   "outputs": [
    {
     "data": {
      "text/plain": [
       "[1.0]"
      ]
     },
     "execution_count": 62,
     "metadata": {},
     "output_type": "execute_result"
    }
   ],
   "source": [
    "list(corr_matrices[0.].keys())"
   ]
  },
  {
   "cell_type": "code",
   "execution_count": 80,
   "id": "2e88444b-3f6c-498f-a30a-dd80d211707c",
   "metadata": {
    "scrolled": true
   },
   "outputs": [
    {
     "name": "stdout",
     "output_type": "stream",
     "text": [
      "dict_keys(['test_dataset_0', 'test_dataset_1', 'train_dataset_0', 'train_dataset_1'])\n",
      "dict_keys(['test_dataset_0', 'test_dataset_1', 'train_dataset_0', 'train_dataset_1'])\n",
      "dict_keys(['test_dataset_0', 'test_dataset_1', 'train_dataset_0', 'train_dataset_1'])\n",
      "dict_keys(['test_dataset_0', 'test_dataset_1', 'train_dataset_0', 'train_dataset_1'])\n",
      "dict_keys(['test_dataset_0', 'test_dataset_1', 'train_dataset_0', 'train_dataset_1'])\n",
      "dict_keys(['test_dataset_0', 'test_dataset_1', 'train_dataset_0', 'train_dataset_1'])\n",
      "dict_keys(['test_dataset_0', 'test_dataset_1', 'train_dataset_0', 'train_dataset_1'])\n",
      "dict_keys(['test_dataset_0', 'test_dataset_1', 'train_dataset_0', 'train_dataset_1'])\n",
      "dict_keys(['test_dataset_0', 'test_dataset_1', 'train_dataset_0', 'train_dataset_1'])\n",
      "dict_keys(['test_dataset_0', 'test_dataset_1', 'train_dataset_0', 'train_dataset_1'])\n",
      "dict_keys(['test_dataset_0', 'test_dataset_1', 'train_dataset_0', 'train_dataset_1'])\n",
      "dict_keys(['test_dataset_0', 'test_dataset_1', 'train_dataset_0', 'train_dataset_1'])\n",
      "dict_keys(['test_dataset_0', 'test_dataset_1', 'train_dataset_0', 'train_dataset_1'])\n",
      "dict_keys(['test_dataset_0', 'test_dataset_1', 'train_dataset_0', 'train_dataset_1'])\n",
      "dict_keys(['test_dataset_0', 'test_dataset_1', 'train_dataset_0', 'train_dataset_1'])\n",
      "dict_keys(['test_dataset_0', 'test_dataset_1', 'train_dataset_0', 'train_dataset_1'])\n",
      "dict_keys(['test_dataset_0', 'test_dataset_1', 'train_dataset_0', 'train_dataset_1'])\n",
      "dict_keys(['test_dataset_0', 'test_dataset_1', 'train_dataset_0', 'train_dataset_1'])\n"
     ]
    },
    {
     "name": "stderr",
     "output_type": "stream",
     "text": [
      "/tmp/ipykernel_4316/961137760.py:18: MatplotlibDeprecationWarning: The get_cmap function was deprecated in Matplotlib 3.7 and will be removed two minor releases later. Use ``matplotlib.colormaps[name]`` or ``matplotlib.colormaps.get_cmap(obj)`` instead.\n",
      "  colors=pl.cm.get_cmap('viridis')(np.linspace(0,1,len(corrs)))\n"
     ]
    },
    {
     "data": {
      "image/png": "[encoded data removed]",
      "text/plain": [
       "<Figure size 1800x900 with 18 Axes>"
      ]
     },
     "metadata": {},
     "output_type": "display_data"
    },
    {
     "data": {
      "image/png": "[encoded data removed]",
      "text/plain": [
       "<Figure size 400x300 with 1 Axes>"
      ]
     },
     "metadata": {},
     "output_type": "display_data"
    }
   ],
   "source": [
    "data_seed=0\n",
    "corrvec=corrs\n",
    "corr_matrices={}\n",
    "for wstate in wstates:\n",
    "    corr_matrices[wstate]={}\n",
    "    for corr in corrs:\n",
    "        hashh=data_dir_store[wstate][corr]\n",
    "        \n",
    "        actions,pref_actions=get_action_data(hashh,get_pref_actions=True,data_seed=data_seed)\n",
    "\n",
    "        actions = (actions==pref_actions[np.newaxis,:])\n",
    "        corr_matrices[wstate][corr]=get_corr_matrix(actions)\n",
    "\n",
    "# fig, ax = pl.subplots(len(net_names), len(corrvec), figsize=(3*len(net_names), 3*len(corrvec)))\n",
    "fig, ax = pl.subplots(len(wstates), len(corrs), figsize=(3*(len(corrs)),3*len(wstates)))\n",
    "figt,axt=pl.subplots(1,1,figsize=(4,3))\n",
    "# figs,axs=pl.subplots()\n",
    "colors=pl.cm.get_cmap('viridis')(np.linspace(0,1,len(corrs)))\n",
    "net_data={}\n",
    "heights=[1.0,0.4,0.15]\n",
    "for nit,wstate in enumerate(corr_matrices.keys()):\n",
    "    \n",
    "    df=pd.DataFrame(columns=('pcorr','rho'))\n",
    "    nbins=41\n",
    "    count_store=np.zeros((len(corrvec),nbins-1))\n",
    "    means=[]\n",
    "    stds=[]\n",
    "    for rit, rho in enumerate(list(corr_matrices[0.].keys())):\n",
    "        cmtr=corr_matrices[wstate][rho]\n",
    "        ax[0, rit].set_title(f\"rho={rho}\")\n",
    "        ax[nit, rit].imshow(cmtr,vmin=0,vmax=1)\n",
    "        mask=np.tril(np.ones(cmtr.shape,dtype=bool))\n",
    "        means.append(np.mean(cmtr[mask]))\n",
    "        stds.append(np.std(cmtr[mask]))\n",
    "        counts, bins =np.histogram(cmtr[mask],bins=np.linspace(-1,1,nbins))\n",
    "        count_store[rit,:]=counts\n",
    "        # axt[nit,0].bar(bins[:-1],count_store[rit,:],width=0.1,color=colors[rit])\n",
    "\n",
    "    axt.fill_between(x=corrvec,y1=np.array(means)+np.array(stds),y2=np.array(means)-np.array(stds),color='lightgray')\n",
    "    axt.plot(corrvec,means,'k-')\n",
    "    for rit,corr in enumerate(corrvec):\n",
    "        axt.plot([corr],[means[rit]],'ko',mfc=colors[rit],clip_on=False,zorder=4)\n",
    "    axt.set_ylabel('avg. measured correlation')\n",
    "    axt.plot([0,1],[0,1],'k--')\n",
    "#     sns.lineplot(data=df,ax=axt, x='pcorr',y='rho',errorbar='sd')\n",
    "#     axt[nit,0].set_xlim(-0.2,1)\n",
    "    axt.set_ylim(0,1)\n",
    "    axt.set_xlim(0,1)\n",
    "    axt.text(1.1, heights[nit], r\"$w_{state}=$\"+str(wstate), ha='left', va='top', transform=axt.transAxes)\n",
    "\n",
    "\n",
    "\n",
    "    # ax.set_ylabel(f\"w={wstate}\")\n",
    "# axs.plot(net_data['bitpop'],net_data['simple'],'o-')\n",
    "# axs.plot([0,1],[0,1],'k--')\n",
    "\n",
    "axt.set_xlabel('correlation parameter')\n",
    "# axt[1,0].set_xlabel('measured correlation')\n",
    "# axt[0,0].set_ylabel('count')\n",
    "# axt[1,0].set_ylabel('count')\n",
    "# axt[0,0].text(.1, .9, 'bitpop', ha='left', va='top', transform=axt[0,0].transAxes)\n",
    "# axt[1,0].text(.1, .9, 'simpletask', ha='left', va='top', transform=axt[1,0].transAxes)\n",
    "figt.savefig('corr.pdf',transparent=None, dpi=300,format='pdf',bbox_inches='tight')\n",
    "fig.tight_layout()\n",
    "figt.tight_layout()\n",
    "# axt.set_ylim(0,1)"
   ]
  },
  {
   "cell_type": "code",
   "execution_count": null,
   "id": "6ccd231d-6180-45b3-8af4-951450f9904d",
   "metadata": {},
   "outputs": [],
   "source": []
  }
 ],
 "metadata": {
  "kernelspec": {
   "display_name": "Python 3 (ipykernel)",
   "language": "python",
   "name": "python3"
  },
  "language_info": {
   "codemirror_mode": {
    "name": "ipython",
    "version": 3
   },
   "file_extension": ".py",
   "mimetype": "text/x-python",
   "name": "python",
   "nbconvert_exporter": "python",
   "pygments_lexer": "ipython3",
   "version": "3.10.13"
  }
 },
 "nbformat": 4,
 "nbformat_minor": 5
}
