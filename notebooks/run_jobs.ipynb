{
 "cells": [
  {
   "cell_type": "code",
   "execution_count": 2,
   "id": "2fef5391-ad97-4461-b677-38c41c8b53a3",
   "metadata": {},
   "outputs": [],
   "source": [
    "import itertools"
   ]
  },
  {
   "cell_type": "code",
   "execution_count": 7,
   "id": "a68ee09b-58c6-4fa8-9bc2-e51032c00a0c",
   "metadata": {},
   "outputs": [
    {
     "name": "stdout",
     "output_type": "stream",
     "text": [
      "python mlp_match.py --N 10 --corr 0.8 --P 500000 --seq_len 16 --training_sample_budget 10000 --use_pos_enc 0 --inter None --S 8 --A 2 --wstate 0.0 --batch_size 8 --num_epochs 100 --learning_rate 0.0005 --data_seed 0 --seed 0 --evaluation_sample_size 10000 --use_wandb 1\n",
      "python mlp_match.py --N 10 --corr 0.8 --P 500000 --seq_len 16 --training_sample_budget 10000 --use_pos_enc 0 --inter None --S 8 --A 2 --wstate 1.0 --batch_size 8 --num_epochs 100 --learning_rate 0.0005 --data_seed 0 --seed 0 --evaluation_sample_size 10000 --use_wandb 1\n",
      "python mlp_match.py --N 10 --corr 0.8 --P 500000 --seq_len 16 --training_sample_budget 10000 --use_pos_enc 0 --inter None --S 8 --A 2 --wstate 10.0 --batch_size 8 --num_epochs 100 --learning_rate 0.0005 --data_seed 0 --seed 0 --evaluation_sample_size 10000 --use_wandb 1\n",
      "python mlp_match.py --N 10 --corr 0.8 --P 500000 --seq_len 16 --training_sample_budget 10000 --use_pos_enc 0 --inter attn --S 8 --A 2 --wstate 0.0 --batch_size 8 --num_epochs 100 --learning_rate 0.0005 --data_seed 0 --seed 0 --evaluation_sample_size 10000 --use_wandb 1\n",
      "python mlp_match.py --N 10 --corr 0.8 --P 500000 --seq_len 16 --training_sample_budget 10000 --use_pos_enc 0 --inter attn --S 8 --A 2 --wstate 1.0 --batch_size 8 --num_epochs 100 --learning_rate 0.0005 --data_seed 0 --seed 0 --evaluation_sample_size 10000 --use_wandb 1\n",
      "python mlp_match.py --N 10 --corr 0.8 --P 500000 --seq_len 16 --training_sample_budget 10000 --use_pos_enc 0 --inter attn --S 8 --A 2 --wstate 10.0 --batch_size 8 --num_epochs 100 --learning_rate 0.0005 --data_seed 0 --seed 0 --evaluation_sample_size 10000 --use_wandb 1\n",
      "python mlp_match.py --N 10 --corr 0.8 --P 500000 --seq_len 16 --training_sample_budget 10000 --use_pos_enc 1 --inter None --S 8 --A 2 --wstate 0.0 --batch_size 8 --num_epochs 100 --learning_rate 0.0005 --data_seed 0 --seed 0 --evaluation_sample_size 10000 --use_wandb 1\n",
      "python mlp_match.py --N 10 --corr 0.8 --P 500000 --seq_len 16 --training_sample_budget 10000 --use_pos_enc 1 --inter None --S 8 --A 2 --wstate 1.0 --batch_size 8 --num_epochs 100 --learning_rate 0.0005 --data_seed 0 --seed 0 --evaluation_sample_size 10000 --use_wandb 1\n",
      "python mlp_match.py --N 10 --corr 0.8 --P 500000 --seq_len 16 --training_sample_budget 10000 --use_pos_enc 1 --inter None --S 8 --A 2 --wstate 10.0 --batch_size 8 --num_epochs 100 --learning_rate 0.0005 --data_seed 0 --seed 0 --evaluation_sample_size 10000 --use_wandb 1\n",
      "python mlp_match.py --N 10 --corr 0.8 --P 500000 --seq_len 16 --training_sample_budget 10000 --use_pos_enc 1 --inter attn --S 8 --A 2 --wstate 0.0 --batch_size 8 --num_epochs 100 --learning_rate 0.0005 --data_seed 0 --seed 0 --evaluation_sample_size 10000 --use_wandb 1\n",
      "python mlp_match.py --N 10 --corr 0.8 --P 500000 --seq_len 16 --training_sample_budget 10000 --use_pos_enc 1 --inter attn --S 8 --A 2 --wstate 1.0 --batch_size 8 --num_epochs 100 --learning_rate 0.0005 --data_seed 0 --seed 0 --evaluation_sample_size 10000 --use_wandb 1\n",
      "python mlp_match.py --N 10 --corr 0.8 --P 500000 --seq_len 16 --training_sample_budget 10000 --use_pos_enc 1 --inter attn --S 8 --A 2 --wstate 10.0 --batch_size 8 --num_epochs 100 --learning_rate 0.0005 --data_seed 0 --seed 0 --evaluation_sample_size 10000 --use_wandb 1\n"
     ]
    }
   ],
   "source": [
    "# Define different values for each argument\n",
    "paras = {\n",
    "    \"N\": [10],\n",
    "    \"corr\": [0.8],\n",
    "    \"P\": [int(5e5)],  # Assuming only one value as per the excerpt\n",
    "    \"seq_len\": [16],  # Assuming only one value as per the excerpt\n",
    "    \"training_sample_budget\": [int(1e4)],  # Assuming only one value as per the excerpt\n",
    "    \"use_pos_enc\": [0, 1], \n",
    "    \"inter\": ['None','attn'],\n",
    "    \"S\": [8],\n",
    "    \"A\": [2],\n",
    "    \"wstate\": [0., 1. ,10.],\n",
    "    \"batch_size\": [8],  # Assuming only one value as per the excerpt\n",
    "    \"num_epochs\": [100],  # Assuming only one value as per the excerpt\n",
    "    \"learning_rate\": [5e-4],  # Assuming only one value as per the excerpt\n",
    "    \"data_seed\": [0],  # Assuming only one value as per the excerpt\n",
    "    \"seed\": [0],  # Assuming only one value as per the excerpt\n",
    "    \"evaluation_sample_size\": [int(1e4)] , # Assuming only one value as per the excerpt\n",
    "    \"use_wandb\": [1]\n",
    "}\n",
    "# Generate all combinations of argument values/\n",
    "all_combinations = itertools.product(*paras.values())\n",
    "# Open the file to write the commands\n",
    "# with open('scripts/commands.txt', 'w') as file:\n",
    "cmds = []\n",
    "for combination in all_combinations:\n",
    "    cmd_str=\"python mlp_match.py \" + ' '.join([f\"--{key} {value}\" for key,value in zip(paras.keys(),combination)])\n",
    "    print(cmd_str)\n",
    "    cmds.append(cmd_str)"
   ]
  },
  {
   "cell_type": "code",
   "execution_count": null,
   "id": "6fb14d86-3e23-4c18-a57e-8beb07262226",
   "metadata": {},
   "outputs": [],
   "source": []
  }
 ],
 "metadata": {
  "kernelspec": {
   "display_name": "Python 3 (ipykernel)",
   "language": "python",
   "name": "python3"
  },
  "language_info": {
   "codemirror_mode": {
    "name": "ipython",
    "version": 3
   },
   "file_extension": ".py",
   "mimetype": "text/x-python",
   "name": "python",
   "nbconvert_exporter": "python",
   "pygments_lexer": "ipython3",
   "version": "3.10.13"
  }
 },
 "nbformat": 4,
 "nbformat_minor": 5
}
