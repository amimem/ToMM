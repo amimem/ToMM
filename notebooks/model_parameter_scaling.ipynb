{
 "cells": [
  {
   "cell_type": "code",
   "execution_count": 1,
   "id": "f20a96f3",
   "metadata": {},
   "outputs": [],
   "source": [
    "#libraries\n",
    "import os\n",
    "from pathlib import Path\n",
    "os.chdir(Path(os.getcwd()).parents[0]) "
   ]
  },
  {
   "cell_type": "code",
   "execution_count": 15,
   "id": "ed623e3c",
   "metadata": {},
   "outputs": [],
   "source": [
    "#libraries\n",
    "import numpy as np\n",
    "import pandas as pd\n",
    "import matplotlib.pyplot as pl\n",
    "import torch\n",
    "from STOMPnet import STOMPnet\n",
    "from utils import MultiChannelNet, get_width, count_parameters\n",
    "from STOMPnet import Decoder\n",
    "import h5py\n",
    "import yaml\n",
    "import json\n",
    "import hashlib\n",
    "import wandb"
   ]
  },
  {
   "cell_type": "markdown",
   "id": "369f5404",
   "metadata": {},
   "source": [
    "Pull a dataset to use to initialize a network"
   ]
  },
  {
   "cell_type": "code",
   "execution_count": 3,
   "id": "c67d7654",
   "metadata": {},
   "outputs": [],
   "source": [
    "def get_runs():\n",
    "    api = wandb.Api()\n",
    "    runs = api.runs(\"STOMP\")\n",
    "    summary_list, config_list, name_list, state_list = [], [], [], []\n",
    "    for run in runs:\n",
    "        # .summary contains output keys/values for\n",
    "        # metrics such as accuracy.\n",
    "        #  We call ._json_dict to omit large files\n",
    "        summary_list.append(run.summary._json_dict)\n",
    "\n",
    "        # .config contains the hyperparameters.\n",
    "        #  We remove special values that start with _.\n",
    "        config_list.append({k: v for k, v in run.config.items() if not k.startswith(\"_\")})\n",
    "\n",
    "        # .name is the human-readable name of the run.\n",
    "        name_list.append(run.name)\n",
    "\n",
    "        state_list.append(run.state)\n",
    "\n",
    "    runs_df = pd.DataFrame(\n",
    "        {\"summary\": summary_list, \"config\": config_list, \"name\": name_list, \"state\": state_list}\n",
    "    )\n",
    "\n",
    "    runs_df.to_csv(\"project.csv\")\n",
    "    runs_df.loc[:,['state','config']].apply(lambda run: run.state+\n",
    "                                           ': N'+str(run.config['num_agents'])+\n",
    "                                           ', P'+str(run.config['P'])+\n",
    "                                           ' '+run.config['model_name'] if run.state=='finished' else run.state,axis=1)\n",
    "    return runs_df\n",
    "runs_df=get_runs()"
   ]
  },
  {
   "cell_type": "code",
   "execution_count": 4,
   "id": "91c67000",
   "metadata": {},
   "outputs": [
    {
     "name": "stdout",
     "output_type": "stream",
     "text": [
      "{\n",
      "    \"L\": 100,\n",
      "    \"M\": 2,\n",
      "    \"P\": 10000000.0,\n",
      "    \"action_space_dim\": 2,\n",
      "    \"batch_size\": 8,\n",
      "    \"checkpoint_interval\": 100,\n",
      "    \"data_dir\": \"data_131101a005\",\n",
      "    \"data_seed\": 0,\n",
      "    \"enc2dec_ratio\": 1,\n",
      "    \"epochs\": 200,\n",
      "    \"learning_rate\": 1e-05,\n",
      "    \"model_name\": \"stomp\",\n",
      "    \"n_features\": 2,\n",
      "    \"n_hidden_layers\": 2,\n",
      "    \"num_action_samples\": 1280,\n",
      "    \"num_agents\": 10,\n",
      "    \"num_codebooks\": 10,\n",
      "    \"num_parameters\": 10005127,\n",
      "    \"outdir\": \"output/\",\n",
      "    \"seed\": 2,\n",
      "    \"state_space_dim\": 3,\n",
      "    \"wandb_entity\": null\n",
      "}\n",
      "{\n",
      "    \"A\": 2,\n",
      "    \"K\": 3,\n",
      "    \"M\": 2,\n",
      "    \"N\": 10,\n",
      "    \"T\": 128,\n",
      "    \"action_selection_method\": \"greedy\",\n",
      "    \"corr\": 0.8,\n",
      "    \"ensemble\": \"mix\",\n",
      "    \"env\": false,\n",
      "    \"ground_model_name\": \"bitpop\",\n",
      "    \"hash\": \"131101a005\",\n",
      "    \"num_episodes\": 1,\n",
      "    \"num_seeds\": 10,\n",
      "    \"num_warmup_steps\": 100,\n",
      "    \"output\": \"output/\",\n",
      "    \"sps\": 16,\n",
      "    \"stablefac\": 8.0,\n",
      "    \"timestamp\": \"20240416_004000\"\n",
      "}\n"
     ]
    }
   ],
   "source": [
    "train_config=runs_df.iloc[0].config\n",
    "print(json.dumps(train_config,sort_keys=True, indent=4))\n",
    "config_filename = train_config['outdir'] + train_config['data_dir'] + '/config.yaml'\n",
    "with open(config_filename, 'r') as f:\n",
    "    data_config = yaml.load(f, Loader=yaml.FullLoader)['file_attrs']\n",
    "    print(json.dumps(data_config,sort_keys=True, indent=4))"
   ]
  },
  {
   "cell_type": "markdown",
   "id": "fe540b27",
   "metadata": {},
   "source": [
    "define function that initializes network"
   ]
  },
  {
   "cell_type": "code",
   "execution_count": 21,
   "id": "8cd6b859",
   "metadata": {
    "code_folding": []
   },
   "outputs": [],
   "source": [
    "def get_untrained_net(training_dict,data_settings,hidden_dim,model_name):\n",
    "    device = \"cuda\" if torch.cuda.is_available() else \"cpu\"\n",
    "    print(f\"Using {device} device\", flush=True)\n",
    "    args=training_dict.copy()\n",
    "    action_space_dim = 2\n",
    "    state_space_dim = data_settings['K']\n",
    "    num_agents = int(data_settings['N'])\n",
    "    # Initialize abstraction system model\n",
    "    n_hidden_layers = args[\"n_hidden_layers\"]\n",
    "    if model_name == 'stomp':\n",
    "        # to match the M generated by joint policy of ground model set as: data_settings['sys_parameters']['jointagent_groundmodel_paras']['M']\n",
    "        net = STOMPnet(\n",
    "            state_space_dim = state_space_dim,\n",
    "            abs_action_space_dim = args[\"L\"],\n",
    "            enc_hidden_dim = hidden_dim,\n",
    "            dec_hidden_dim = int(args[\"enc2dec_ratio\"]*hidden_dim),\n",
    "            num_agents=num_agents,\n",
    "            num_abs_agents = args[\"M\"],\n",
    "            action_space_dim=action_space_dim,\n",
    "            agent_embedding_dim= args[\"n_features\"],\n",
    "            n_hidden_layers=n_hidden_layers,\n",
    "            num_codebooks=args[\"num_codebooks\"]\n",
    "        )\n",
    "    elif model_name == 'single':\n",
    "        net = MultiChannelNet(\n",
    "            n_channels=num_agents,\n",
    "            input_size=state_space_dim,\n",
    "            hidden_layer_width= hidden_dim,\n",
    "            n_hidden_layers=n_hidden_layers,\n",
    "            output_size=action_space_dim\n",
    "        )\n",
    "    elif model_name == 'multi':\n",
    "        net = MultiChannelNet(\n",
    "            n_channels=1,\n",
    "            input_size=state_space_dim,\n",
    "            hidden_layer_width= hidden_dim,\n",
    "            n_hidden_layers=n_hidden_layers,\n",
    "            output_size=num_agents*action_space_dim,\n",
    "            output_dim=(num_agents, action_space_dim)\n",
    "        )\n",
    "    elif model_name == 'decoderonly':\n",
    "        #feeds state directly into decoder by overloading the assigned abstract action input\n",
    "        net = Decoder(\n",
    "            num_agents=num_agents, \n",
    "            abs_action_space_dim=state_space_dim, \n",
    "            action_space_dim=action_space_dim, \n",
    "            agent_embedding_dim=args[\"n_features\"], \n",
    "            n_hidden_layers=n_hidden_layers, \n",
    "            hidden_layer_width=int(args[\"enc2dec_ratio\"]*hidden_dim)\n",
    "        )\n",
    "    else:\n",
    "        print('choose valid model', flush=True)\n",
    "    net.to(device)\n",
    "    return net\n",
    "    "
   ]
  },
  {
   "cell_type": "markdown",
   "id": "06ba099a",
   "metadata": {},
   "source": [
    "Validation"
   ]
  },
  {
   "cell_type": "code",
   "execution_count": 23,
   "id": "56550a2a",
   "metadata": {},
   "outputs": [],
   "source": [
    "model_names = ['stomp', 'decoderonly','multi','single']"
   ]
  },
  {
   "cell_type": "code",
   "execution_count": 89,
   "id": "ca24dfd2",
   "metadata": {
    "scrolled": true
   },
   "outputs": [
    {
     "name": "stdout",
     "output_type": "stream",
     "text": [
      "383\n",
      "Using cpu device\n",
      "383\n",
      "Using cpu device\n",
      "382\n",
      "Using cpu device\n",
      "375\n",
      "Using cpu device\n",
      "1265\n",
      "Using cpu device\n"
     ]
    },
    {
     "name": "stderr",
     "output_type": "stream",
     "text": [
      "/tmp/ipykernel_3317/3402676874.py:28: FutureWarning: The frame.append method is deprecated and will be removed from pandas in a future version. Use pandas.concat instead.\n",
      "  df=df.append({\n",
      "/tmp/ipykernel_3317/3402676874.py:28: FutureWarning: The frame.append method is deprecated and will be removed from pandas in a future version. Use pandas.concat instead.\n",
      "  df=df.append({\n",
      "/tmp/ipykernel_3317/3402676874.py:28: FutureWarning: The frame.append method is deprecated and will be removed from pandas in a future version. Use pandas.concat instead.\n",
      "  df=df.append({\n",
      "/tmp/ipykernel_3317/3402676874.py:28: FutureWarning: The frame.append method is deprecated and will be removed from pandas in a future version. Use pandas.concat instead.\n",
      "  df=df.append({\n"
     ]
    },
    {
     "name": "stdout",
     "output_type": "stream",
     "text": [
      "1265\n",
      "Using cpu device\n"
     ]
    },
    {
     "name": "stderr",
     "output_type": "stream",
     "text": [
      "/tmp/ipykernel_3317/3402676874.py:28: FutureWarning: The frame.append method is deprecated and will be removed from pandas in a future version. Use pandas.concat instead.\n",
      "  df=df.append({\n",
      "/tmp/ipykernel_3317/3402676874.py:28: FutureWarning: The frame.append method is deprecated and will be removed from pandas in a future version. Use pandas.concat instead.\n",
      "  df=df.append({\n"
     ]
    },
    {
     "name": "stdout",
     "output_type": "stream",
     "text": [
      "1265\n",
      "Using cpu device\n",
      "1262\n",
      "Using cpu device\n",
      "4056\n",
      "Using cpu device\n"
     ]
    },
    {
     "name": "stderr",
     "output_type": "stream",
     "text": [
      "/tmp/ipykernel_3317/3402676874.py:28: FutureWarning: The frame.append method is deprecated and will be removed from pandas in a future version. Use pandas.concat instead.\n",
      "  df=df.append({\n",
      "/tmp/ipykernel_3317/3402676874.py:28: FutureWarning: The frame.append method is deprecated and will be removed from pandas in a future version. Use pandas.concat instead.\n",
      "  df=df.append({\n"
     ]
    },
    {
     "name": "stdout",
     "output_type": "stream",
     "text": [
      "4056\n",
      "Using cpu device\n"
     ]
    },
    {
     "name": "stderr",
     "output_type": "stream",
     "text": [
      "/tmp/ipykernel_3317/3402676874.py:28: FutureWarning: The frame.append method is deprecated and will be removed from pandas in a future version. Use pandas.concat instead.\n",
      "  df=df.append({\n"
     ]
    },
    {
     "name": "stdout",
     "output_type": "stream",
     "text": [
      "4056\n",
      "Using cpu device\n"
     ]
    },
    {
     "name": "stderr",
     "output_type": "stream",
     "text": [
      "/tmp/ipykernel_3317/3402676874.py:28: FutureWarning: The frame.append method is deprecated and will be removed from pandas in a future version. Use pandas.concat instead.\n",
      "  df=df.append({\n"
     ]
    },
    {
     "name": "stdout",
     "output_type": "stream",
     "text": [
      "4055\n",
      "Using cpu device\n"
     ]
    },
    {
     "name": "stderr",
     "output_type": "stream",
     "text": [
      "/tmp/ipykernel_3317/3402676874.py:28: FutureWarning: The frame.append method is deprecated and will be removed from pandas in a future version. Use pandas.concat instead.\n",
      "  df=df.append({\n"
     ]
    },
    {
     "name": "stdout",
     "output_type": "stream",
     "text": [
      "12884\n",
      "Using cpu device\n"
     ]
    },
    {
     "name": "stderr",
     "output_type": "stream",
     "text": [
      "/tmp/ipykernel_3317/3402676874.py:28: FutureWarning: The frame.append method is deprecated and will be removed from pandas in a future version. Use pandas.concat instead.\n",
      "  df=df.append({\n"
     ]
    },
    {
     "name": "stdout",
     "output_type": "stream",
     "text": [
      "12884\n",
      "Using cpu device\n"
     ]
    },
    {
     "name": "stderr",
     "output_type": "stream",
     "text": [
      "/tmp/ipykernel_3317/3402676874.py:28: FutureWarning: The frame.append method is deprecated and will be removed from pandas in a future version. Use pandas.concat instead.\n",
      "  df=df.append({\n"
     ]
    },
    {
     "name": "stdout",
     "output_type": "stream",
     "text": [
      "12884\n",
      "Using cpu device\n"
     ]
    },
    {
     "name": "stderr",
     "output_type": "stream",
     "text": [
      "/tmp/ipykernel_3317/3402676874.py:28: FutureWarning: The frame.append method is deprecated and will be removed from pandas in a future version. Use pandas.concat instead.\n",
      "  df=df.append({\n"
     ]
    },
    {
     "name": "stdout",
     "output_type": "stream",
     "text": [
      "12883\n",
      "Using cpu device\n"
     ]
    },
    {
     "name": "stderr",
     "output_type": "stream",
     "text": [
      "/tmp/ipykernel_3317/3402676874.py:28: FutureWarning: The frame.append method is deprecated and will be removed from pandas in a future version. Use pandas.concat instead.\n",
      "  df=df.append({\n"
     ]
    },
    {
     "name": "stdout",
     "output_type": "stream",
     "text": [
      "705\n",
      "Using cpu device\n",
      "705\n",
      "Using cpu device\n",
      "704\n",
      "Using cpu device\n",
      "698\n",
      "Using cpu device\n",
      "2234\n",
      "Using cpu device\n"
     ]
    },
    {
     "name": "stderr",
     "output_type": "stream",
     "text": [
      "/tmp/ipykernel_3317/3402676874.py:28: FutureWarning: The frame.append method is deprecated and will be removed from pandas in a future version. Use pandas.concat instead.\n",
      "  df=df.append({\n",
      "/tmp/ipykernel_3317/3402676874.py:28: FutureWarning: The frame.append method is deprecated and will be removed from pandas in a future version. Use pandas.concat instead.\n",
      "  df=df.append({\n",
      "/tmp/ipykernel_3317/3402676874.py:28: FutureWarning: The frame.append method is deprecated and will be removed from pandas in a future version. Use pandas.concat instead.\n",
      "  df=df.append({\n",
      "/tmp/ipykernel_3317/3402676874.py:28: FutureWarning: The frame.append method is deprecated and will be removed from pandas in a future version. Use pandas.concat instead.\n",
      "  df=df.append({\n",
      "/tmp/ipykernel_3317/3402676874.py:28: FutureWarning: The frame.append method is deprecated and will be removed from pandas in a future version. Use pandas.concat instead.\n",
      "  df=df.append({\n"
     ]
    },
    {
     "name": "stdout",
     "output_type": "stream",
     "text": [
      "2234\n",
      "Using cpu device\n"
     ]
    },
    {
     "name": "stderr",
     "output_type": "stream",
     "text": [
      "/tmp/ipykernel_3317/3402676874.py:28: FutureWarning: The frame.append method is deprecated and will be removed from pandas in a future version. Use pandas.concat instead.\n",
      "  df=df.append({\n"
     ]
    },
    {
     "name": "stdout",
     "output_type": "stream",
     "text": [
      "2234\n",
      "Using cpu device\n",
      "2232\n",
      "Using cpu device\n"
     ]
    },
    {
     "name": "stderr",
     "output_type": "stream",
     "text": [
      "/tmp/ipykernel_3317/3402676874.py:28: FutureWarning: The frame.append method is deprecated and will be removed from pandas in a future version. Use pandas.concat instead.\n",
      "  df=df.append({\n",
      "/tmp/ipykernel_3317/3402676874.py:28: FutureWarning: The frame.append method is deprecated and will be removed from pandas in a future version. Use pandas.concat instead.\n",
      "  df=df.append({\n"
     ]
    },
    {
     "name": "stdout",
     "output_type": "stream",
     "text": [
      "7069\n",
      "Using cpu device\n"
     ]
    },
    {
     "name": "stderr",
     "output_type": "stream",
     "text": [
      "/tmp/ipykernel_3317/3402676874.py:28: FutureWarning: The frame.append method is deprecated and will be removed from pandas in a future version. Use pandas.concat instead.\n",
      "  df=df.append({\n"
     ]
    },
    {
     "name": "stdout",
     "output_type": "stream",
     "text": [
      "7069\n",
      "Using cpu device\n"
     ]
    },
    {
     "name": "stderr",
     "output_type": "stream",
     "text": [
      "/tmp/ipykernel_3317/3402676874.py:28: FutureWarning: The frame.append method is deprecated and will be removed from pandas in a future version. Use pandas.concat instead.\n",
      "  df=df.append({\n"
     ]
    },
    {
     "name": "stdout",
     "output_type": "stream",
     "text": [
      "7069\n",
      "Using cpu device\n"
     ]
    },
    {
     "name": "stderr",
     "output_type": "stream",
     "text": [
      "/tmp/ipykernel_3317/3402676874.py:28: FutureWarning: The frame.append method is deprecated and will be removed from pandas in a future version. Use pandas.concat instead.\n",
      "  df=df.append({\n"
     ]
    },
    {
     "name": "stdout",
     "output_type": "stream",
     "text": [
      "7068\n",
      "Using cpu device\n"
     ]
    },
    {
     "name": "stderr",
     "output_type": "stream",
     "text": [
      "/tmp/ipykernel_3317/3402676874.py:28: FutureWarning: The frame.append method is deprecated and will be removed from pandas in a future version. Use pandas.concat instead.\n",
      "  df=df.append({\n"
     ]
    },
    {
     "name": "stdout",
     "output_type": "stream",
     "text": [
      "22358\n",
      "Using cpu device\n"
     ]
    },
    {
     "name": "stderr",
     "output_type": "stream",
     "text": [
      "/tmp/ipykernel_3317/3402676874.py:28: FutureWarning: The frame.append method is deprecated and will be removed from pandas in a future version. Use pandas.concat instead.\n",
      "  df=df.append({\n"
     ]
    },
    {
     "name": "stdout",
     "output_type": "stream",
     "text": [
      "22358\n",
      "Using cpu device\n"
     ]
    },
    {
     "name": "stderr",
     "output_type": "stream",
     "text": [
      "/tmp/ipykernel_3317/3402676874.py:28: FutureWarning: The frame.append method is deprecated and will be removed from pandas in a future version. Use pandas.concat instead.\n",
      "  df=df.append({\n"
     ]
    },
    {
     "name": "stdout",
     "output_type": "stream",
     "text": [
      "22358\n",
      "Using cpu device\n"
     ]
    },
    {
     "name": "stderr",
     "output_type": "stream",
     "text": [
      "/tmp/ipykernel_3317/3402676874.py:28: FutureWarning: The frame.append method is deprecated and will be removed from pandas in a future version. Use pandas.concat instead.\n",
      "  df=df.append({\n"
     ]
    },
    {
     "name": "stdout",
     "output_type": "stream",
     "text": [
      "22358\n",
      "Using cpu device\n"
     ]
    },
    {
     "name": "stderr",
     "output_type": "stream",
     "text": [
      "/tmp/ipykernel_3317/3402676874.py:28: FutureWarning: The frame.append method is deprecated and will be removed from pandas in a future version. Use pandas.concat instead.\n",
      "  df=df.append({\n"
     ]
    },
    {
     "name": "stdout",
     "output_type": "stream",
     "text": [
      "701\n",
      "Using cpu device\n",
      "658\n",
      "Using cpu device\n",
      "365\n",
      "Using cpu device\n",
      "49\n",
      "Using cpu device\n",
      "2230\n",
      "Using cpu device\n"
     ]
    },
    {
     "name": "stderr",
     "output_type": "stream",
     "text": [
      "/tmp/ipykernel_3317/3402676874.py:28: FutureWarning: The frame.append method is deprecated and will be removed from pandas in a future version. Use pandas.concat instead.\n",
      "  df=df.append({\n",
      "/tmp/ipykernel_3317/3402676874.py:28: FutureWarning: The frame.append method is deprecated and will be removed from pandas in a future version. Use pandas.concat instead.\n",
      "  df=df.append({\n",
      "/tmp/ipykernel_3317/3402676874.py:28: FutureWarning: The frame.append method is deprecated and will be removed from pandas in a future version. Use pandas.concat instead.\n",
      "  df=df.append({\n",
      "/tmp/ipykernel_3317/3402676874.py:28: FutureWarning: The frame.append method is deprecated and will be removed from pandas in a future version. Use pandas.concat instead.\n",
      "  df=df.append({\n",
      "/tmp/ipykernel_3317/3402676874.py:28: FutureWarning: The frame.append method is deprecated and will be removed from pandas in a future version. Use pandas.concat instead.\n",
      "  df=df.append({\n"
     ]
    },
    {
     "name": "stdout",
     "output_type": "stream",
     "text": [
      "2185\n",
      "Using cpu device\n"
     ]
    },
    {
     "name": "stderr",
     "output_type": "stream",
     "text": [
      "/tmp/ipykernel_3317/3402676874.py:28: FutureWarning: The frame.append method is deprecated and will be removed from pandas in a future version. Use pandas.concat instead.\n",
      "  df=df.append({\n"
     ]
    },
    {
     "name": "stdout",
     "output_type": "stream",
     "text": [
      "1790\n",
      "Using cpu device\n"
     ]
    },
    {
     "name": "stderr",
     "output_type": "stream",
     "text": [
      "/tmp/ipykernel_3317/3402676874.py:28: FutureWarning: The frame.append method is deprecated and will be removed from pandas in a future version. Use pandas.concat instead.\n",
      "  df=df.append({\n"
     ]
    },
    {
     "name": "stdout",
     "output_type": "stream",
     "text": [
      "477\n",
      "Using cpu device\n"
     ]
    },
    {
     "name": "stderr",
     "output_type": "stream",
     "text": [
      "/tmp/ipykernel_3317/3402676874.py:28: FutureWarning: The frame.append method is deprecated and will be removed from pandas in a future version. Use pandas.concat instead.\n",
      "  df=df.append({\n"
     ]
    },
    {
     "name": "stdout",
     "output_type": "stream",
     "text": [
      "7065\n",
      "Using cpu device\n"
     ]
    },
    {
     "name": "stderr",
     "output_type": "stream",
     "text": [
      "/tmp/ipykernel_3317/3402676874.py:28: FutureWarning: The frame.append method is deprecated and will be removed from pandas in a future version. Use pandas.concat instead.\n",
      "  df=df.append({\n"
     ]
    },
    {
     "name": "stdout",
     "output_type": "stream",
     "text": [
      "7020\n",
      "Using cpu device\n"
     ]
    },
    {
     "name": "stderr",
     "output_type": "stream",
     "text": [
      "/tmp/ipykernel_3317/3402676874.py:28: FutureWarning: The frame.append method is deprecated and will be removed from pandas in a future version. Use pandas.concat instead.\n",
      "  df=df.append({\n"
     ]
    },
    {
     "name": "stdout",
     "output_type": "stream",
     "text": [
      "6588\n",
      "Using cpu device\n"
     ]
    },
    {
     "name": "stderr",
     "output_type": "stream",
     "text": [
      "/tmp/ipykernel_3317/3402676874.py:28: FutureWarning: The frame.append method is deprecated and will be removed from pandas in a future version. Use pandas.concat instead.\n",
      "  df=df.append({\n"
     ]
    },
    {
     "name": "stdout",
     "output_type": "stream",
     "text": [
      "3659\n",
      "Using cpu device\n"
     ]
    },
    {
     "name": "stderr",
     "output_type": "stream",
     "text": [
      "/tmp/ipykernel_3317/3402676874.py:28: FutureWarning: The frame.append method is deprecated and will be removed from pandas in a future version. Use pandas.concat instead.\n",
      "  df=df.append({\n"
     ]
    },
    {
     "name": "stdout",
     "output_type": "stream",
     "text": [
      "22354\n",
      "Using cpu device\n"
     ]
    },
    {
     "name": "stderr",
     "output_type": "stream",
     "text": [
      "/tmp/ipykernel_3317/3402676874.py:28: FutureWarning: The frame.append method is deprecated and will be removed from pandas in a future version. Use pandas.concat instead.\n",
      "  df=df.append({\n"
     ]
    },
    {
     "name": "stdout",
     "output_type": "stream",
     "text": [
      "22309\n",
      "Using cpu device\n"
     ]
    },
    {
     "name": "stderr",
     "output_type": "stream",
     "text": [
      "/tmp/ipykernel_3317/3402676874.py:28: FutureWarning: The frame.append method is deprecated and will be removed from pandas in a future version. Use pandas.concat instead.\n",
      "  df=df.append({\n"
     ]
    },
    {
     "name": "stdout",
     "output_type": "stream",
     "text": [
      "21865\n",
      "Using cpu device\n"
     ]
    },
    {
     "name": "stderr",
     "output_type": "stream",
     "text": [
      "/tmp/ipykernel_3317/3402676874.py:28: FutureWarning: The frame.append method is deprecated and will be removed from pandas in a future version. Use pandas.concat instead.\n",
      "  df=df.append({\n"
     ]
    },
    {
     "name": "stdout",
     "output_type": "stream",
     "text": [
      "17912\n",
      "Using cpu device\n"
     ]
    },
    {
     "name": "stderr",
     "output_type": "stream",
     "text": [
      "/tmp/ipykernel_3317/3402676874.py:28: FutureWarning: The frame.append method is deprecated and will be removed from pandas in a future version. Use pandas.concat instead.\n",
      "  df=df.append({\n"
     ]
    },
    {
     "name": "stdout",
     "output_type": "stream",
     "text": [
      "222\n",
      "Using cpu device\n",
      "69\n",
      "Using cpu device\n"
     ]
    },
    {
     "name": "stderr",
     "output_type": "stream",
     "text": [
      "/tmp/ipykernel_3317/3402676874.py:28: FutureWarning: The frame.append method is deprecated and will be removed from pandas in a future version. Use pandas.concat instead.\n",
      "  df=df.append({\n",
      "/tmp/ipykernel_3317/3402676874.py:28: FutureWarning: The frame.append method is deprecated and will be removed from pandas in a future version. Use pandas.concat instead.\n",
      "  df=df.append({\n"
     ]
    },
    {
     "name": "stdout",
     "output_type": "stream",
     "text": [
      "21\n",
      "Using cpu device\n"
     ]
    },
    {
     "name": "stderr",
     "output_type": "stream",
     "text": [
      "/tmp/ipykernel_3317/3402676874.py:28: FutureWarning: The frame.append method is deprecated and will be removed from pandas in a future version. Use pandas.concat instead.\n",
      "  df=df.append({\n"
     ]
    },
    {
     "name": "stdout",
     "output_type": "stream",
     "text": [
      "5\n",
      "Using cpu device\n"
     ]
    },
    {
     "name": "stderr",
     "output_type": "stream",
     "text": [
      "/tmp/ipykernel_3317/3402676874.py:28: FutureWarning: The frame.append method is deprecated and will be removed from pandas in a future version. Use pandas.concat instead.\n",
      "  df=df.append({\n"
     ]
    },
    {
     "name": "stdout",
     "output_type": "stream",
     "text": [
      "705\n",
      "Using cpu device\n"
     ]
    },
    {
     "name": "stderr",
     "output_type": "stream",
     "text": [
      "/tmp/ipykernel_3317/3402676874.py:28: FutureWarning: The frame.append method is deprecated and will be removed from pandas in a future version. Use pandas.concat instead.\n",
      "  df=df.append({\n"
     ]
    },
    {
     "name": "stdout",
     "output_type": "stream",
     "text": [
      "222\n",
      "Using cpu device\n"
     ]
    },
    {
     "name": "stderr",
     "output_type": "stream",
     "text": [
      "/tmp/ipykernel_3317/3402676874.py:28: FutureWarning: The frame.append method is deprecated and will be removed from pandas in a future version. Use pandas.concat instead.\n",
      "  df=df.append({\n"
     ]
    },
    {
     "name": "stdout",
     "output_type": "stream",
     "text": [
      "69\n",
      "Using cpu device\n"
     ]
    },
    {
     "name": "stderr",
     "output_type": "stream",
     "text": [
      "/tmp/ipykernel_3317/3402676874.py:28: FutureWarning: The frame.append method is deprecated and will be removed from pandas in a future version. Use pandas.concat instead.\n",
      "  df=df.append({\n"
     ]
    },
    {
     "name": "stdout",
     "output_type": "stream",
     "text": [
      "21\n",
      "Using cpu device\n"
     ]
    },
    {
     "name": "stderr",
     "output_type": "stream",
     "text": [
      "/tmp/ipykernel_3317/3402676874.py:28: FutureWarning: The frame.append method is deprecated and will be removed from pandas in a future version. Use pandas.concat instead.\n",
      "  df=df.append({\n"
     ]
    },
    {
     "name": "stdout",
     "output_type": "stream",
     "text": [
      "2234\n",
      "Using cpu device\n"
     ]
    },
    {
     "name": "stderr",
     "output_type": "stream",
     "text": [
      "/tmp/ipykernel_3317/3402676874.py:28: FutureWarning: The frame.append method is deprecated and will be removed from pandas in a future version. Use pandas.concat instead.\n",
      "  df=df.append({\n"
     ]
    },
    {
     "name": "stdout",
     "output_type": "stream",
     "text": [
      "705\n",
      "Using cpu device\n"
     ]
    },
    {
     "name": "stderr",
     "output_type": "stream",
     "text": [
      "/tmp/ipykernel_3317/3402676874.py:28: FutureWarning: The frame.append method is deprecated and will be removed from pandas in a future version. Use pandas.concat instead.\n",
      "  df=df.append({\n"
     ]
    },
    {
     "name": "stdout",
     "output_type": "stream",
     "text": [
      "222\n",
      "Using cpu device\n"
     ]
    },
    {
     "name": "stderr",
     "output_type": "stream",
     "text": [
      "/tmp/ipykernel_3317/3402676874.py:28: FutureWarning: The frame.append method is deprecated and will be removed from pandas in a future version. Use pandas.concat instead.\n",
      "  df=df.append({\n"
     ]
    },
    {
     "name": "stdout",
     "output_type": "stream",
     "text": [
      "69\n",
      "Using cpu device\n"
     ]
    },
    {
     "name": "stderr",
     "output_type": "stream",
     "text": [
      "/tmp/ipykernel_3317/3402676874.py:28: FutureWarning: The frame.append method is deprecated and will be removed from pandas in a future version. Use pandas.concat instead.\n",
      "  df=df.append({\n"
     ]
    },
    {
     "name": "stdout",
     "output_type": "stream",
     "text": [
      "7069\n",
      "Using cpu device\n"
     ]
    },
    {
     "name": "stderr",
     "output_type": "stream",
     "text": [
      "/tmp/ipykernel_3317/3402676874.py:28: FutureWarning: The frame.append method is deprecated and will be removed from pandas in a future version. Use pandas.concat instead.\n",
      "  df=df.append({\n"
     ]
    },
    {
     "name": "stdout",
     "output_type": "stream",
     "text": [
      "2234\n",
      "Using cpu device\n"
     ]
    },
    {
     "name": "stderr",
     "output_type": "stream",
     "text": [
      "/tmp/ipykernel_3317/3402676874.py:28: FutureWarning: The frame.append method is deprecated and will be removed from pandas in a future version. Use pandas.concat instead.\n",
      "  df=df.append({\n"
     ]
    },
    {
     "name": "stdout",
     "output_type": "stream",
     "text": [
      "705\n",
      "Using cpu device\n"
     ]
    },
    {
     "name": "stderr",
     "output_type": "stream",
     "text": [
      "/tmp/ipykernel_3317/3402676874.py:28: FutureWarning: The frame.append method is deprecated and will be removed from pandas in a future version. Use pandas.concat instead.\n",
      "  df=df.append({\n"
     ]
    },
    {
     "name": "stdout",
     "output_type": "stream",
     "text": [
      "222\n",
      "Using cpu device\n"
     ]
    },
    {
     "name": "stderr",
     "output_type": "stream",
     "text": [
      "/tmp/ipykernel_3317/3402676874.py:28: FutureWarning: The frame.append method is deprecated and will be removed from pandas in a future version. Use pandas.concat instead.\n",
      "  df=df.append({\n",
      "/tmp/ipykernel_3317/3402676874.py:28: FutureWarning: The frame.append method is deprecated and will be removed from pandas in a future version. Use pandas.concat instead.\n",
      "  df=df.append({\n"
     ]
    }
   ],
   "source": [
    "Nvec=[1e1,1e2,1e3,1e4]\n",
    "Pvec= [1e6,1e7,1e8,1e9]\n",
    "df=pd.DataFrame(columns=('model_name','P','N','width','Pactual'))\n",
    "for mit,model_name in enumerate(model_names):\n",
    "    train_config['model_name'] = model_name\n",
    "    for num_paras in Pvec:\n",
    "        train_config['P'] = num_paras\n",
    "        Wvec=[]\n",
    "        for N in Nvec:\n",
    "            data_config['N']=N\n",
    "            solver_dict = {\"model_name\": train_config['model_name'],\n",
    "                \"n_hidden_layers\": train_config['n_hidden_layers'],\n",
    "                \"num_abs_agents\": train_config['M'],\n",
    "                \"abs_action_space_dim\": train_config['L'],\n",
    "                \"n_features\": train_config['n_features'],\n",
    "                \"num_agents\": data_config['N'],\n",
    "                \"state_space_dim\": data_config['K'],\n",
    "                \"action_space_dim\": data_config['A'],\n",
    "                \"enc2dec_ratio\": train_config['enc2dec_ratio'],\n",
    "                \"num_parameters\": train_config['P']\n",
    "                 }\n",
    "            hidden_dim = int(get_width(solver_dict))\n",
    "            print(hidden_dim)\n",
    "            Wvec.append(hidden_dim)        \n",
    "#         data_settings['sys_parameters']['K']=10   \n",
    "            net=get_untrained_net(train_config,data_config,hidden_dim,model_name)\n",
    "            P_actual = count_parameters(net)\n",
    "            df=df.append({\n",
    "                            'model_name':model_name,\n",
    "                            'P':np.log10(train_config['P']),\n",
    "                            'N':N,\n",
    "                            'width':hidden_dim,\n",
    "                            'Pactual':P_actual\n",
    "                        },ignore_index=True)"
   ]
  },
  {
   "cell_type": "code",
   "execution_count": 13,
   "id": "ec2b4392",
   "metadata": {},
   "outputs": [],
   "source": [
    "import seaborn as sns"
   ]
  },
  {
   "cell_type": "code",
   "execution_count": 90,
   "id": "ac4d3e12",
   "metadata": {
    "scrolled": true
   },
   "outputs": [
    {
     "data": {
      "image/png": "[encoded data removed]",
      "text/plain": [
       "<Figure size 1200x300 with 4 Axes>"
      ]
     },
     "metadata": {},
     "output_type": "display_data"
    }
   ],
   "source": [
    "fig,ax=pl.subplots(1,len(model_names),figsize=(3*len(model_names),3))\n",
    "\n",
    "for mit,model_name in enumerate(model_names):\n",
    "    \n",
    "#     ,label=\"{:.2e}\".format(num_paras)\n",
    "    sns.lineplot(data=df.loc[df['model_name']==model_name],\n",
    "                    ax=ax[mit],\n",
    "                    x='N',\n",
    "                    y='width',\n",
    "                    hue='P',\n",
    "                    marker='o',\n",
    "                    legend=False if mit<3 else True)\n",
    "    if mit>0:\n",
    "        ax[mit].set_ylabel(None)\n",
    "    ax[mit].set_xlabel(None)\n",
    "    ax[mit].set_yscale('log')\n",
    "    ax[mit].set_xscale('log')\n",
    "    ax[mit].set_ylim(1e1,1e5)\n",
    "    ax[mit].set_title(model_name)\n",
    "# ax[1].plot(np.logspace(1,4,10),10*np.logspace(1,4,10)[::-1]**(1/2))\n",
    "ax[0].set_ylabel('capacity (hidden layer width, $W$)')\n",
    "h, l = ax[3].get_legend_handles_labels()\n",
    "ax[3].legend(h,[r\"$10^\"+string[0]+r\"$\" for string in l],frameon=False,title=r'$\\# parameters$',loc='center left', bbox_to_anchor=(1, 0.5))  \n",
    "fig.supxlabel(r'system size (number of agents, $N$)')\n",
    "fig.tight_layout()"
   ]
  },
  {
   "cell_type": "code",
   "execution_count": 91,
   "id": "d8690dde",
   "metadata": {},
   "outputs": [],
   "source": [
    "df['relative_error']=(10**df['P']-df['Pactual'])/df['Pactual']"
   ]
  },
  {
   "cell_type": "code",
   "execution_count": 92,
   "id": "c7b2b204",
   "metadata": {},
   "outputs": [
    {
     "data": {
      "text/plain": [
       "<AxesSubplot: >"
      ]
     },
     "execution_count": 92,
     "metadata": {},
     "output_type": "execute_result"
    },
    {
     "data": {
      "image/png": "[encoded data removed]",
      "text/plain": [
       "<Figure size 640x480 with 1 Axes>"
      ]
     },
     "metadata": {},
     "output_type": "display_data"
    }
   ],
   "source": [
    "df[\"relative_error\"].hist(bins=100)"
   ]
  },
  {
   "cell_type": "code",
   "execution_count": null,
   "id": "2751c57a",
   "metadata": {},
   "outputs": [],
   "source": []
  }
 ],
 "metadata": {
  "kernelspec": {
   "display_name": "Python 3 (ipykernel)",
   "language": "python",
   "name": "python3"
  },
  "language_info": {
   "codemirror_mode": {
    "name": "ipython",
    "version": 3
   },
   "file_extension": ".py",
   "mimetype": "text/x-python",
   "name": "python",
   "nbconvert_exporter": "python",
   "pygments_lexer": "ipython3",
   "version": "3.10.13"
  }
 },
 "nbformat": 4,
 "nbformat_minor": 5
}
