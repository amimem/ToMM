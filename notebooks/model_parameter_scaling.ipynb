{
 "cells": [
  {
   "cell_type": "code",
   "execution_count": 1,
   "id": "f20a96f3",
   "metadata": {},
   "outputs": [],
   "source": [
    "#libraries\n",
    "import os\n",
    "from pathlib import Path\n",
    "os.chdir(Path(os.getcwd()).parents[0]) "
   ]
  },
  {
   "cell_type": "code",
   "execution_count": 2,
   "id": "90d43828",
   "metadata": {},
   "outputs": [
    {
     "data": {
      "text/plain": [
       "'/mnt/c/Users/maxpu/Dropbox/scripts/Projects/abstraction'"
      ]
     },
     "execution_count": 2,
     "metadata": {},
     "output_type": "execute_result"
    }
   ],
   "source": [
    "pwd"
   ]
  },
  {
   "cell_type": "code",
   "execution_count": 3,
   "id": "ed623e3c",
   "metadata": {},
   "outputs": [],
   "source": [
    "#libraries\n",
    "import numpy as np\n",
    "import pandas as pd\n",
    "import matplotlib.pyplot as pl\n",
    "import torch\n",
    "# from STOMPnet import STOMPnet,Decoder\n",
    "# from STOMPnet2 import STOMPnet2\n",
    "# from utils import MultiChannelNet, get_width, count_parameters\n",
    "from models import get_width\n",
    "import h5py\n",
    "import yaml\n",
    "import json\n",
    "import hashlib\n",
    "import wandb"
   ]
  },
  {
   "cell_type": "markdown",
   "id": "369f5404",
   "metadata": {},
   "source": [
    "Pull a dataset to use to initialize a network"
   ]
  },
  {
   "cell_type": "code",
   "execution_count": 4,
   "id": "c67d7654",
   "metadata": {},
   "outputs": [],
   "source": [
    "def get_runs():\n",
    "    api = wandb.Api()\n",
    "    runs = api.runs(\"STOMP\")\n",
    "    summary_list, config_list, name_list, state_list = [], [], [], []\n",
    "    for run in runs:\n",
    "        # .summary contains output keys/values for\n",
    "        # metrics such as accuracy.\n",
    "        #  We call ._json_dict to omit large files\n",
    "        summary_list.append(run.summary._json_dict)\n",
    "\n",
    "        # .config contains the hyperparameters.\n",
    "        #  We remove special values that start with _.\n",
    "        config_list.append({k: v for k, v in run.config.items() if not k.startswith(\"_\")})\n",
    "\n",
    "        # .name is the human-readable name of the run.\n",
    "        name_list.append(run.name)\n",
    "\n",
    "        state_list.append(run.state)\n",
    "\n",
    "    runs_df = pd.DataFrame(\n",
    "        {\"summary\": summary_list, \"config\": config_list, \"name\": name_list, \"state\": state_list}\n",
    "    )\n",
    "\n",
    "    runs_df.to_csv(\"project.csv\")\n",
    "    runs_df.loc[:,['state','config']].apply(lambda run: run.state+\n",
    "                                           ': N'+str(run.config['num_agents'])+\n",
    "                                           ', P'+str(run.config['P'])+\n",
    "                                           ' '+run.config['model_name'] if run.state=='finished' else run.state,axis=1)\n",
    "    return runs_df\n",
    "runs_df=get_runs()"
   ]
  },
  {
   "cell_type": "code",
   "execution_count": 5,
   "id": "91c67000",
   "metadata": {
    "scrolled": true
   },
   "outputs": [
    {
     "name": "stdout",
     "output_type": "stream",
     "text": [
      "{\n",
      "    \"L\": 100,\n",
      "    \"M\": 2,\n",
      "    \"P\": 10000000.0,\n",
      "    \"action_space_dim\": 2,\n",
      "    \"batch_size\": 8,\n",
      "    \"checkpoint_interval\": 100,\n",
      "    \"data_dir\": \"data_75816d80b9/\",\n",
      "    \"data_seed\": 0,\n",
      "    \"enc2dec_ratio\": 1,\n",
      "    \"epochs\": 100,\n",
      "    \"learning_rate\": 0.0001,\n",
      "    \"model_name\": \"stomp2\",\n",
      "    \"n_features\": 128,\n",
      "    \"n_hidden_layers\": 2,\n",
      "    \"num_action_samples\": 1280,\n",
      "    \"num_agents\": 10,\n",
      "    \"num_codebooks\": 10,\n",
      "    \"num_parameters\": 1300,\n",
      "    \"outdir\": \"output/\",\n",
      "    \"seed\": 0,\n",
      "    \"state_space_dim\": 3,\n",
      "    \"wandb_entity\": null\n",
      "}\n",
      "{\n",
      "    \"A\": 2,\n",
      "    \"K\": 3,\n",
      "    \"M\": 2,\n",
      "    \"N\": 10,\n",
      "    \"T\": 128,\n",
      "    \"action_selection_method\": \"greedy\",\n",
      "    \"corr\": 1.0,\n",
      "    \"ensemble\": \"sum\",\n",
      "    \"env\": false,\n",
      "    \"ground_model_name\": \"bitpop\",\n",
      "    \"hash\": \"75816d80b9\",\n",
      "    \"num_episodes\": 1,\n",
      "    \"num_seeds\": 10,\n",
      "    \"num_warmup_steps\": 100,\n",
      "    \"output\": \"output/\",\n",
      "    \"sps\": 16,\n",
      "    \"stablefac\": 8.0,\n",
      "    \"timestamp\": \"20240415_220711\"\n",
      "}\n"
     ]
    }
   ],
   "source": [
    "train_config=runs_df.iloc[0].config\n",
    "print(json.dumps(train_config,sort_keys=True, indent=4))\n",
    "config_filename = train_config['outdir'] + train_config['data_dir'] + 'config.yaml'\n",
    "with open(config_filename, 'r') as f:\n",
    "    data_config = yaml.load(f, Loader=yaml.FullLoader)['file_attrs']\n",
    "    print(json.dumps(data_config,sort_keys=True, indent=4))"
   ]
  },
  {
   "cell_type": "markdown",
   "id": "fe540b27",
   "metadata": {},
   "source": [
    "define function that initializes network"
   ]
  },
  {
   "cell_type": "code",
   "execution_count": 6,
   "id": "8cd6b859",
   "metadata": {
    "code_folding": []
   },
   "outputs": [],
   "source": [
    "def get_untrained_net(training_dict,data_settings,hidden_dim,model_name):\n",
    "#     device = \"cuda\" if torch.cuda.is_available() else \"cpu\"\n",
    "#     print(f\"Using {device} device\", flush=True)\n",
    "    args=training_dict.copy()\n",
    "    action_space_dim = 2\n",
    "    state_space_dim = data_settings['K']\n",
    "    num_agents = int(data_settings['N'])\n",
    "    # Initialize abstraction system model\n",
    "    n_hidden_layers = args[\"n_hidden_layers\"]\n",
    "    if model_name == 'stomp':\n",
    "        # to match the M generated by joint policy of ground model set as: data_settings['sys_parameters']['jointagent_groundmodel_paras']['M']\n",
    "        net = STOMPnet(\n",
    "            state_space_dim = state_space_dim,\n",
    "            abs_action_space_dim = args[\"L\"],\n",
    "            enc_hidden_dim = hidden_dim,\n",
    "            dec_hidden_dim = int(args[\"enc2dec_ratio\"]*hidden_dim),\n",
    "            num_agents=num_agents,\n",
    "            num_abs_agents = args[\"M\"],\n",
    "            action_space_dim=action_space_dim,\n",
    "            agent_embedding_dim= args[\"n_features\"],\n",
    "            n_hidden_layers=n_hidden_layers,\n",
    "            num_codebooks=args[\"num_codebooks\"]\n",
    "        )\n",
    "    elif model_name == 'stomp2':\n",
    "        # to match the M generated by joint policy of ground model set as: data_settings['sys_parameters']['jointagent_groundmodel_paras']['M']\n",
    "        net = STOMPnet2(\n",
    "            state_space_dim = state_space_dim, \n",
    "            dec_hidden_dim = hidden_dim, \n",
    "            num_agents=num_agents, \n",
    "            num_abs_agents = args[\"M\"], \n",
    "            action_space_dim=action_space_dim, \n",
    "            agent_embedding_dim=args[\"n_features\"], \n",
    "            n_hidden_layers=n_hidden_layers\n",
    "        )\n",
    "    elif model_name == 'single':\n",
    "        net = MultiChannelNet(\n",
    "            n_channels=num_agents,\n",
    "            input_size=state_space_dim,\n",
    "            hidden_layer_width= hidden_dim,\n",
    "            n_hidden_layers=n_hidden_layers,\n",
    "            output_size=action_space_dim\n",
    "        )\n",
    "    elif model_name == 'multi':\n",
    "        net = MultiChannelNet(\n",
    "            n_channels=1,\n",
    "            input_size=state_space_dim,\n",
    "            hidden_layer_width= hidden_dim,\n",
    "            n_hidden_layers=n_hidden_layers,\n",
    "            output_size=num_agents*action_space_dim,\n",
    "            output_dim=(num_agents, action_space_dim)\n",
    "        )\n",
    "    elif model_name == 'decoderonly':\n",
    "        #feeds state directly into decoder by overloading the assigned abstract action input\n",
    "        net = Decoder(\n",
    "            num_agents=num_agents, \n",
    "            abs_action_space_dim=state_space_dim, \n",
    "            action_space_dim=action_space_dim, \n",
    "            agent_embedding_dim=args[\"n_features\"], \n",
    "            n_hidden_layers=n_hidden_layers, \n",
    "            hidden_layer_width=int(args[\"enc2dec_ratio\"]*hidden_dim)\n",
    "        )\n",
    "    else:\n",
    "        print('choose valid model', flush=True)\n",
    "#     net.to(device)\n",
    "    return net\n",
    "    "
   ]
  },
  {
   "cell_type": "markdown",
   "id": "06ba099a",
   "metadata": {},
   "source": [
    "Validation"
   ]
  },
  {
   "cell_type": "code",
   "execution_count": 7,
   "id": "56550a2a",
   "metadata": {},
   "outputs": [],
   "source": [
    "model_names = ['stomp', 'stomp2','decoderonly','multi','single']"
   ]
  },
  {
   "cell_type": "code",
   "execution_count": 9,
   "id": "ca24dfd2",
   "metadata": {
    "scrolled": false
   },
   "outputs": [
    {
     "name": "stdout",
     "output_type": "stream",
     "text": [
      "6\n",
      "310\n",
      "-999960.0\n",
      "383.223338915282\n",
      "6\n",
      "310\n",
      "-999600.0\n",
      "383.149992868495\n",
      "6\n",
      "310\n",
      "-996000.0\n",
      "382.41580764691554\n",
      "6\n",
      "310\n",
      "-960000.0\n",
      "375.0\n",
      "6\n",
      "310\n",
      "-9999960.0\n",
      "1265.4169759061692\n",
      "6\n",
      "310\n",
      "-9999600.0\n",
      "1265.3937424016478\n",
      "6\n",
      "310\n",
      "-9996000.0\n",
      "1265.161384359621\n"
     ]
    },
    {
     "name": "stderr",
     "output_type": "stream",
     "text": [
      "/tmp/ipykernel_12640/543664163.py:29: FutureWarning: The frame.append method is deprecated and will be removed from pandas in a future version. Use pandas.concat instead.\n",
      "  df=df.append({\n",
      "/tmp/ipykernel_12640/543664163.py:29: FutureWarning: The frame.append method is deprecated and will be removed from pandas in a future version. Use pandas.concat instead.\n",
      "  df=df.append({\n",
      "/tmp/ipykernel_12640/543664163.py:29: FutureWarning: The frame.append method is deprecated and will be removed from pandas in a future version. Use pandas.concat instead.\n",
      "  df=df.append({\n",
      "/tmp/ipykernel_12640/543664163.py:29: FutureWarning: The frame.append method is deprecated and will be removed from pandas in a future version. Use pandas.concat instead.\n",
      "  df=df.append({\n",
      "/tmp/ipykernel_12640/543664163.py:29: FutureWarning: The frame.append method is deprecated and will be removed from pandas in a future version. Use pandas.concat instead.\n",
      "  df=df.append({\n",
      "/tmp/ipykernel_12640/543664163.py:29: FutureWarning: The frame.append method is deprecated and will be removed from pandas in a future version. Use pandas.concat instead.\n",
      "  df=df.append({\n",
      "/tmp/ipykernel_12640/543664163.py:29: FutureWarning: The frame.append method is deprecated and will be removed from pandas in a future version. Use pandas.concat instead.\n",
      "  df=df.append({\n",
      "/tmp/ipykernel_12640/543664163.py:29: FutureWarning: The frame.append method is deprecated and will be removed from pandas in a future version. Use pandas.concat instead.\n",
      "  df=df.append({\n"
     ]
    },
    {
     "name": "stdout",
     "output_type": "stream",
     "text": [
      "6\n",
      "310\n",
      "-9960000.0\n",
      "1262.8354996532921\n",
      "6\n",
      "310\n",
      "-99999960.0\n",
      "4056.7304887166188\n"
     ]
    },
    {
     "name": "stderr",
     "output_type": "stream",
     "text": [
      "/tmp/ipykernel_12640/543664163.py:29: FutureWarning: The frame.append method is deprecated and will be removed from pandas in a future version. Use pandas.concat instead.\n",
      "  df=df.append({\n"
     ]
    },
    {
     "name": "stdout",
     "output_type": "stream",
     "text": [
      "6\n",
      "310\n",
      "-99999600.0\n",
      "4056.7231403864257\n"
     ]
    },
    {
     "name": "stderr",
     "output_type": "stream",
     "text": [
      "/tmp/ipykernel_12640/543664163.py:29: FutureWarning: The frame.append method is deprecated and will be removed from pandas in a future version. Use pandas.concat instead.\n",
      "  df=df.append({\n"
     ]
    },
    {
     "name": "stdout",
     "output_type": "stream",
     "text": [
      "6\n",
      "310\n",
      "-99996000.0\n",
      "4056.649656357023\n"
     ]
    },
    {
     "name": "stderr",
     "output_type": "stream",
     "text": [
      "/tmp/ipykernel_12640/543664163.py:29: FutureWarning: The frame.append method is deprecated and will be removed from pandas in a future version. Use pandas.concat instead.\n",
      "  df=df.append({\n"
     ]
    },
    {
     "name": "stdout",
     "output_type": "stream",
     "text": [
      "6\n",
      "310\n",
      "-99960000.0\n",
      "4055.9147433013713\n"
     ]
    },
    {
     "name": "stderr",
     "output_type": "stream",
     "text": [
      "/tmp/ipykernel_12640/543664163.py:29: FutureWarning: The frame.append method is deprecated and will be removed from pandas in a future version. Use pandas.concat instead.\n",
      "  df=df.append({\n"
     ]
    },
    {
     "name": "stdout",
     "output_type": "stream",
     "text": [
      "6\n",
      "310\n",
      "-999999960.0\n",
      "12884.136742585166\n"
     ]
    },
    {
     "name": "stderr",
     "output_type": "stream",
     "text": [
      "/tmp/ipykernel_12640/543664163.py:29: FutureWarning: The frame.append method is deprecated and will be removed from pandas in a future version. Use pandas.concat instead.\n",
      "  df=df.append({\n"
     ]
    },
    {
     "name": "stdout",
     "output_type": "stream",
     "text": [
      "6\n",
      "310\n",
      "-999999600.0\n",
      "12884.134418799556\n"
     ]
    },
    {
     "name": "stderr",
     "output_type": "stream",
     "text": [
      "/tmp/ipykernel_12640/543664163.py:29: FutureWarning: The frame.append method is deprecated and will be removed from pandas in a future version. Use pandas.concat instead.\n",
      "  df=df.append({\n"
     ]
    },
    {
     "name": "stdout",
     "output_type": "stream",
     "text": [
      "6\n",
      "310\n",
      "-999996000.0\n",
      "12884.11118092044\n"
     ]
    },
    {
     "name": "stderr",
     "output_type": "stream",
     "text": [
      "/tmp/ipykernel_12640/543664163.py:29: FutureWarning: The frame.append method is deprecated and will be removed from pandas in a future version. Use pandas.concat instead.\n",
      "  df=df.append({\n"
     ]
    },
    {
     "name": "stdout",
     "output_type": "stream",
     "text": [
      "6\n",
      "310\n",
      "-999960000.0\n",
      "12883.878799828703\n"
     ]
    },
    {
     "name": "stderr",
     "output_type": "stream",
     "text": [
      "/tmp/ipykernel_12640/543664163.py:29: FutureWarning: The frame.append method is deprecated and will be removed from pandas in a future version. Use pandas.concat instead.\n",
      "  df=df.append({\n",
      "/tmp/ipykernel_12640/543664163.py:29: FutureWarning: The frame.append method is deprecated and will be removed from pandas in a future version. Use pandas.concat instead.\n",
      "  df=df.append({\n",
      "/tmp/ipykernel_12640/543664163.py:29: FutureWarning: The frame.append method is deprecated and will be removed from pandas in a future version. Use pandas.concat instead.\n",
      "  df=df.append({\n",
      "/tmp/ipykernel_12640/543664163.py:29: FutureWarning: The frame.append method is deprecated and will be removed from pandas in a future version. Use pandas.concat instead.\n",
      "  df=df.append({\n",
      "/tmp/ipykernel_12640/543664163.py:29: FutureWarning: The frame.append method is deprecated and will be removed from pandas in a future version. Use pandas.concat instead.\n",
      "  df=df.append({\n",
      "/tmp/ipykernel_12640/543664163.py:29: FutureWarning: The frame.append method is deprecated and will be removed from pandas in a future version. Use pandas.concat instead.\n",
      "  df=df.append({\n",
      "/tmp/ipykernel_12640/543664163.py:29: FutureWarning: The frame.append method is deprecated and will be removed from pandas in a future version. Use pandas.concat instead.\n",
      "  df=df.append({\n",
      "/tmp/ipykernel_12640/543664163.py:29: FutureWarning: The frame.append method is deprecated and will be removed from pandas in a future version. Use pandas.concat instead.\n",
      "  df=df.append({\n",
      "/tmp/ipykernel_12640/543664163.py:29: FutureWarning: The frame.append method is deprecated and will be removed from pandas in a future version. Use pandas.concat instead.\n",
      "  df=df.append({\n",
      "/tmp/ipykernel_12640/543664163.py:29: FutureWarning: The frame.append method is deprecated and will be removed from pandas in a future version. Use pandas.concat instead.\n",
      "  df=df.append({\n",
      "/tmp/ipykernel_12640/543664163.py:29: FutureWarning: The frame.append method is deprecated and will be removed from pandas in a future version. Use pandas.concat instead.\n",
      "  df=df.append({\n",
      "/tmp/ipykernel_12640/543664163.py:29: FutureWarning: The frame.append method is deprecated and will be removed from pandas in a future version. Use pandas.concat instead.\n",
      "  df=df.append({\n",
      "/tmp/ipykernel_12640/543664163.py:29: FutureWarning: The frame.append method is deprecated and will be removed from pandas in a future version. Use pandas.concat instead.\n",
      "  df=df.append({\n",
      "/tmp/ipykernel_12640/543664163.py:29: FutureWarning: The frame.append method is deprecated and will be removed from pandas in a future version. Use pandas.concat instead.\n",
      "  df=df.append({\n",
      "/tmp/ipykernel_12640/543664163.py:29: FutureWarning: The frame.append method is deprecated and will be removed from pandas in a future version. Use pandas.concat instead.\n",
      "  df=df.append({\n",
      "/tmp/ipykernel_12640/543664163.py:29: FutureWarning: The frame.append method is deprecated and will be removed from pandas in a future version. Use pandas.concat instead.\n",
      "  df=df.append({\n",
      "/tmp/ipykernel_12640/543664163.py:29: FutureWarning: The frame.append method is deprecated and will be removed from pandas in a future version. Use pandas.concat instead.\n",
      "  df=df.append({\n",
      "/tmp/ipykernel_12640/543664163.py:29: FutureWarning: The frame.append method is deprecated and will be removed from pandas in a future version. Use pandas.concat instead.\n",
      "  df=df.append({\n",
      "/tmp/ipykernel_12640/543664163.py:29: FutureWarning: The frame.append method is deprecated and will be removed from pandas in a future version. Use pandas.concat instead.\n",
      "  df=df.append({\n",
      "/tmp/ipykernel_12640/543664163.py:29: FutureWarning: The frame.append method is deprecated and will be removed from pandas in a future version. Use pandas.concat instead.\n",
      "  df=df.append({\n",
      "/tmp/ipykernel_12640/543664163.py:29: FutureWarning: The frame.append method is deprecated and will be removed from pandas in a future version. Use pandas.concat instead.\n",
      "  df=df.append({\n",
      "/tmp/ipykernel_12640/543664163.py:29: FutureWarning: The frame.append method is deprecated and will be removed from pandas in a future version. Use pandas.concat instead.\n",
      "  df=df.append({\n",
      "/tmp/ipykernel_12640/543664163.py:29: FutureWarning: The frame.append method is deprecated and will be removed from pandas in a future version. Use pandas.concat instead.\n",
      "  df=df.append({\n",
      "/tmp/ipykernel_12640/543664163.py:29: FutureWarning: The frame.append method is deprecated and will be removed from pandas in a future version. Use pandas.concat instead.\n",
      "  df=df.append({\n",
      "/tmp/ipykernel_12640/543664163.py:29: FutureWarning: The frame.append method is deprecated and will be removed from pandas in a future version. Use pandas.concat instead.\n",
      "  df=df.append({\n",
      "/tmp/ipykernel_12640/543664163.py:29: FutureWarning: The frame.append method is deprecated and will be removed from pandas in a future version. Use pandas.concat instead.\n",
      "  df=df.append({\n",
      "/tmp/ipykernel_12640/543664163.py:29: FutureWarning: The frame.append method is deprecated and will be removed from pandas in a future version. Use pandas.concat instead.\n",
      "  df=df.append({\n",
      "/tmp/ipykernel_12640/543664163.py:29: FutureWarning: The frame.append method is deprecated and will be removed from pandas in a future version. Use pandas.concat instead.\n",
      "  df=df.append({\n",
      "/tmp/ipykernel_12640/543664163.py:29: FutureWarning: The frame.append method is deprecated and will be removed from pandas in a future version. Use pandas.concat instead.\n",
      "  df=df.append({\n",
      "/tmp/ipykernel_12640/543664163.py:29: FutureWarning: The frame.append method is deprecated and will be removed from pandas in a future version. Use pandas.concat instead.\n",
      "  df=df.append({\n",
      "/tmp/ipykernel_12640/543664163.py:29: FutureWarning: The frame.append method is deprecated and will be removed from pandas in a future version. Use pandas.concat instead.\n",
      "  df=df.append({\n",
      "/tmp/ipykernel_12640/543664163.py:29: FutureWarning: The frame.append method is deprecated and will be removed from pandas in a future version. Use pandas.concat instead.\n",
      "  df=df.append({\n",
      "/tmp/ipykernel_12640/543664163.py:29: FutureWarning: The frame.append method is deprecated and will be removed from pandas in a future version. Use pandas.concat instead.\n",
      "  df=df.append({\n",
      "/tmp/ipykernel_12640/543664163.py:29: FutureWarning: The frame.append method is deprecated and will be removed from pandas in a future version. Use pandas.concat instead.\n",
      "  df=df.append({\n",
      "/tmp/ipykernel_12640/543664163.py:29: FutureWarning: The frame.append method is deprecated and will be removed from pandas in a future version. Use pandas.concat instead.\n",
      "  df=df.append({\n",
      "/tmp/ipykernel_12640/543664163.py:29: FutureWarning: The frame.append method is deprecated and will be removed from pandas in a future version. Use pandas.concat instead.\n",
      "  df=df.append({\n",
      "/tmp/ipykernel_12640/543664163.py:29: FutureWarning: The frame.append method is deprecated and will be removed from pandas in a future version. Use pandas.concat instead.\n",
      "  df=df.append({\n",
      "/tmp/ipykernel_12640/543664163.py:29: FutureWarning: The frame.append method is deprecated and will be removed from pandas in a future version. Use pandas.concat instead.\n",
      "  df=df.append({\n",
      "/tmp/ipykernel_12640/543664163.py:29: FutureWarning: The frame.append method is deprecated and will be removed from pandas in a future version. Use pandas.concat instead.\n",
      "  df=df.append({\n",
      "/tmp/ipykernel_12640/543664163.py:29: FutureWarning: The frame.append method is deprecated and will be removed from pandas in a future version. Use pandas.concat instead.\n",
      "  df=df.append({\n",
      "/tmp/ipykernel_12640/543664163.py:29: FutureWarning: The frame.append method is deprecated and will be removed from pandas in a future version. Use pandas.concat instead.\n",
      "  df=df.append({\n",
      "/tmp/ipykernel_12640/543664163.py:29: FutureWarning: The frame.append method is deprecated and will be removed from pandas in a future version. Use pandas.concat instead.\n",
      "  df=df.append({\n",
      "/tmp/ipykernel_12640/543664163.py:29: FutureWarning: The frame.append method is deprecated and will be removed from pandas in a future version. Use pandas.concat instead.\n",
      "  df=df.append({\n",
      "/tmp/ipykernel_12640/543664163.py:29: FutureWarning: The frame.append method is deprecated and will be removed from pandas in a future version. Use pandas.concat instead.\n",
      "  df=df.append({\n"
     ]
    },
    {
     "name": "stderr",
     "output_type": "stream",
     "text": [
      "/tmp/ipykernel_12640/543664163.py:29: FutureWarning: The frame.append method is deprecated and will be removed from pandas in a future version. Use pandas.concat instead.\n",
      "  df=df.append({\n",
      "/tmp/ipykernel_12640/543664163.py:29: FutureWarning: The frame.append method is deprecated and will be removed from pandas in a future version. Use pandas.concat instead.\n",
      "  df=df.append({\n",
      "/tmp/ipykernel_12640/543664163.py:29: FutureWarning: The frame.append method is deprecated and will be removed from pandas in a future version. Use pandas.concat instead.\n",
      "  df=df.append({\n",
      "/tmp/ipykernel_12640/543664163.py:29: FutureWarning: The frame.append method is deprecated and will be removed from pandas in a future version. Use pandas.concat instead.\n",
      "  df=df.append({\n",
      "/tmp/ipykernel_12640/543664163.py:29: FutureWarning: The frame.append method is deprecated and will be removed from pandas in a future version. Use pandas.concat instead.\n",
      "  df=df.append({\n",
      "/tmp/ipykernel_12640/543664163.py:29: FutureWarning: The frame.append method is deprecated and will be removed from pandas in a future version. Use pandas.concat instead.\n",
      "  df=df.append({\n",
      "/tmp/ipykernel_12640/543664163.py:29: FutureWarning: The frame.append method is deprecated and will be removed from pandas in a future version. Use pandas.concat instead.\n",
      "  df=df.append({\n",
      "/tmp/ipykernel_12640/543664163.py:29: FutureWarning: The frame.append method is deprecated and will be removed from pandas in a future version. Use pandas.concat instead.\n",
      "  df=df.append({\n",
      "/tmp/ipykernel_12640/543664163.py:29: FutureWarning: The frame.append method is deprecated and will be removed from pandas in a future version. Use pandas.concat instead.\n",
      "  df=df.append({\n",
      "/tmp/ipykernel_12640/543664163.py:29: FutureWarning: The frame.append method is deprecated and will be removed from pandas in a future version. Use pandas.concat instead.\n",
      "  df=df.append({\n",
      "/tmp/ipykernel_12640/543664163.py:29: FutureWarning: The frame.append method is deprecated and will be removed from pandas in a future version. Use pandas.concat instead.\n",
      "  df=df.append({\n",
      "/tmp/ipykernel_12640/543664163.py:29: FutureWarning: The frame.append method is deprecated and will be removed from pandas in a future version. Use pandas.concat instead.\n",
      "  df=df.append({\n",
      "/tmp/ipykernel_12640/543664163.py:29: FutureWarning: The frame.append method is deprecated and will be removed from pandas in a future version. Use pandas.concat instead.\n",
      "  df=df.append({\n",
      "/tmp/ipykernel_12640/543664163.py:29: FutureWarning: The frame.append method is deprecated and will be removed from pandas in a future version. Use pandas.concat instead.\n",
      "  df=df.append({\n",
      "/tmp/ipykernel_12640/543664163.py:29: FutureWarning: The frame.append method is deprecated and will be removed from pandas in a future version. Use pandas.concat instead.\n",
      "  df=df.append({\n",
      "/tmp/ipykernel_12640/543664163.py:29: FutureWarning: The frame.append method is deprecated and will be removed from pandas in a future version. Use pandas.concat instead.\n",
      "  df=df.append({\n",
      "/tmp/ipykernel_12640/543664163.py:29: FutureWarning: The frame.append method is deprecated and will be removed from pandas in a future version. Use pandas.concat instead.\n",
      "  df=df.append({\n",
      "/tmp/ipykernel_12640/543664163.py:29: FutureWarning: The frame.append method is deprecated and will be removed from pandas in a future version. Use pandas.concat instead.\n",
      "  df=df.append({\n",
      "/tmp/ipykernel_12640/543664163.py:29: FutureWarning: The frame.append method is deprecated and will be removed from pandas in a future version. Use pandas.concat instead.\n",
      "  df=df.append({\n",
      "/tmp/ipykernel_12640/543664163.py:29: FutureWarning: The frame.append method is deprecated and will be removed from pandas in a future version. Use pandas.concat instead.\n",
      "  df=df.append({\n",
      "/tmp/ipykernel_12640/543664163.py:29: FutureWarning: The frame.append method is deprecated and will be removed from pandas in a future version. Use pandas.concat instead.\n",
      "  df=df.append({\n"
     ]
    }
   ],
   "source": [
    "Nvec=[1e1,1e2,1e3,1e4]\n",
    "Pvec= [1e6,1e7,1e8,1e9]\n",
    "df=pd.DataFrame(columns=('model_name','P','N','width','Pactual'))\n",
    "for mit,model_name in enumerate(model_names):\n",
    "    train_config['model_name'] = model_name\n",
    "    for num_paras in Pvec:\n",
    "        train_config['P'] = num_paras\n",
    "        train_config[\"n_features\"]= 2\n",
    "        Wvec=[]\n",
    "        for N in Nvec:\n",
    "            data_config['N']=N\n",
    "            solver_dict = {\"model_name\": train_config['model_name'],\n",
    "                \"n_hidden_layers\": train_config['n_hidden_layers'],\n",
    "                \"num_abs_agents\": train_config['M'],\n",
    "                \"abs_action_space_dim\": train_config['L'],\n",
    "                \"n_features\": train_config['n_features'],\n",
    "                \"num_agents\": data_config['N'],\n",
    "                \"state_space_dim\": data_config['K'],\n",
    "                \"action_space_dim\": data_config['A'],\n",
    "                \"enc2dec_ratio\": train_config['enc2dec_ratio'],\n",
    "                \"num_parameters\": train_config['P']\n",
    "                 }\n",
    "            hidden_dim = int(get_width(solver_dict))\n",
    "#             print(hidden_dim)\n",
    "            Wvec.append(hidden_dim)        \n",
    "#         data_settings['sys_parameters']['K']=10   \n",
    "            net=get_untrained_net(train_config,data_config,hidden_dim,model_name)\n",
    "            P_actual = count_parameters(net)\n",
    "            df=df.append({\n",
    "                            'model_name':model_name,\n",
    "                            'P':np.log10(train_config['P']),\n",
    "                            'N':N,\n",
    "                            'width':hidden_dim,\n",
    "                            'Pactual':P_actual\n",
    "                        },ignore_index=True)"
   ]
  },
  {
   "cell_type": "code",
   "execution_count": 10,
   "id": "ec2b4392",
   "metadata": {},
   "outputs": [],
   "source": [
    "import seaborn as sns"
   ]
  },
  {
   "cell_type": "code",
   "execution_count": 14,
   "id": "ac4d3e12",
   "metadata": {
    "scrolled": true
   },
   "outputs": [
    {
     "data": {
      "image/png": "[encoded data removed]",
      "text/plain": [
       "<Figure size 1500x300 with 5 Axes>"
      ]
     },
     "metadata": {},
     "output_type": "display_data"
    }
   ],
   "source": [
    "fig,ax=pl.subplots(1,len(model_names),figsize=(3*len(model_names),3))\n",
    "\n",
    "for mit,model_name in enumerate(model_names):\n",
    "    \n",
    "#     ,label=\"{:.2e}\".format(num_paras)\n",
    "    sns.lineplot(data=df.loc[df['model_name']==model_name],\n",
    "                    ax=ax[mit],\n",
    "                    x='N',\n",
    "                    y='width',\n",
    "                    hue='P',\n",
    "                    marker='o',\n",
    "                    legend=False if mit<3 else True)\n",
    "    if mit>0:\n",
    "        ax[mit].set_ylabel(None)\n",
    "    ax[mit].set_xlabel(None)\n",
    "    ax[mit].set_yscale('log')\n",
    "    ax[mit].set_xscale('log')\n",
    "    ax[mit].set_ylim(1e1,1e5)\n",
    "    ax[mit].set_title(model_name)\n",
    "# ax[1].plot(np.logspace(1,4,10),10*np.logspace(1,4,10)[::-1]**(1/2))\n",
    "ax[0].set_ylabel('capacity (hidden layer width, $W$)')\n",
    "h, l = ax[len(model_names)-1].get_legend_handles_labels()\n",
    "ax[len(model_names)-1].legend(h,[r\"$10^\"+string[0]+r\"$\" for string in l],frameon=False,title=r'$\\# parameters$',loc='center left', bbox_to_anchor=(1, 0.5))  \n",
    "fig.supxlabel(r'system size (number of agents, $N$)')\n",
    "fig.tight_layout()"
   ]
  },
  {
   "cell_type": "code",
   "execution_count": 15,
   "id": "d8690dde",
   "metadata": {},
   "outputs": [],
   "source": [
    "df['relative_error']=(10**df['P']-df['Pactual'])/df['Pactual']"
   ]
  },
  {
   "cell_type": "code",
   "execution_count": 16,
   "id": "c7b2b204",
   "metadata": {},
   "outputs": [
    {
     "data": {
      "text/plain": [
       "<AxesSubplot: >"
      ]
     },
     "execution_count": 16,
     "metadata": {},
     "output_type": "execute_result"
    },
    {
     "data": {
      "image/png": "[encoded data removed]",
      "text/plain": [
       "<Figure size 640x480 with 1 Axes>"
      ]
     },
     "metadata": {},
     "output_type": "display_data"
    }
   ],
   "source": [
    "df[\"relative_error\"].hist(bins=100)"
   ]
  },
  {
   "cell_type": "markdown",
   "id": "f269eae0",
   "metadata": {},
   "source": [
    "now count parameters"
   ]
  },
  {
   "cell_type": "code",
   "execution_count": 16,
   "id": "4cb9c6ab",
   "metadata": {},
   "outputs": [
    {
     "data": {
      "text/plain": [
       "{'A': 2,\n",
       " 'K': 4,\n",
       " 'M': 2,\n",
       " 'N': 10000.0,\n",
       " 'T': 16,\n",
       " 'action_selection_method': 'greedy',\n",
       " 'corr': 0.8,\n",
       " 'ensemble': 'sum',\n",
       " 'env': False,\n",
       " 'ground_model_name': 'bitpop',\n",
       " 'hash': 'deb6fe1a1c',\n",
       " 'num_episodes': 1,\n",
       " 'num_seeds': 10,\n",
       " 'num_warmup_steps': 100,\n",
       " 'output': 'output/',\n",
       " 'sps': 1,\n",
       " 'stablefac': 8.0,\n",
       " 'timestamp': '20240420_110852'}"
      ]
     },
     "execution_count": 16,
     "metadata": {},
     "output_type": "execute_result"
    }
   ],
   "source": [
    "data_config"
   ]
  },
  {
   "cell_type": "code",
   "execution_count": 20,
   "id": "8701c9bb",
   "metadata": {
    "scrolled": true
   },
   "outputs": [
    {
     "name": "stdout",
     "output_type": "stream",
     "text": [
      "Using cpu device\n",
      "Using cpu device\n",
      "Using cpu device\n",
      "Using cpu device\n",
      "Using cpu device\n",
      "Using cpu device\n",
      "Using cpu device\n",
      "Using cpu device\n",
      "Using cpu device\n",
      "Using cpu device\n",
      "Using cpu device\n",
      "Using cpu device\n",
      "Using cpu device\n",
      "Using cpu device\n",
      "Using cpu device\n"
     ]
    },
    {
     "name": "stderr",
     "output_type": "stream",
     "text": [
      "/tmp/ipykernel_11389/1746127858.py:12: FutureWarning: The frame.append method is deprecated and will be removed from pandas in a future version. Use pandas.concat instead.\n",
      "  df=df.append({\n",
      "/tmp/ipykernel_11389/1746127858.py:12: FutureWarning: The frame.append method is deprecated and will be removed from pandas in a future version. Use pandas.concat instead.\n",
      "  df=df.append({\n",
      "/tmp/ipykernel_11389/1746127858.py:12: FutureWarning: The frame.append method is deprecated and will be removed from pandas in a future version. Use pandas.concat instead.\n",
      "  df=df.append({\n",
      "/tmp/ipykernel_11389/1746127858.py:12: FutureWarning: The frame.append method is deprecated and will be removed from pandas in a future version. Use pandas.concat instead.\n",
      "  df=df.append({\n",
      "/tmp/ipykernel_11389/1746127858.py:12: FutureWarning: The frame.append method is deprecated and will be removed from pandas in a future version. Use pandas.concat instead.\n",
      "  df=df.append({\n",
      "/tmp/ipykernel_11389/1746127858.py:12: FutureWarning: The frame.append method is deprecated and will be removed from pandas in a future version. Use pandas.concat instead.\n",
      "  df=df.append({\n",
      "/tmp/ipykernel_11389/1746127858.py:12: FutureWarning: The frame.append method is deprecated and will be removed from pandas in a future version. Use pandas.concat instead.\n",
      "  df=df.append({\n",
      "/tmp/ipykernel_11389/1746127858.py:12: FutureWarning: The frame.append method is deprecated and will be removed from pandas in a future version. Use pandas.concat instead.\n",
      "  df=df.append({\n",
      "/tmp/ipykernel_11389/1746127858.py:12: FutureWarning: The frame.append method is deprecated and will be removed from pandas in a future version. Use pandas.concat instead.\n",
      "  df=df.append({\n",
      "/tmp/ipykernel_11389/1746127858.py:12: FutureWarning: The frame.append method is deprecated and will be removed from pandas in a future version. Use pandas.concat instead.\n",
      "  df=df.append({\n",
      "/tmp/ipykernel_11389/1746127858.py:12: FutureWarning: The frame.append method is deprecated and will be removed from pandas in a future version. Use pandas.concat instead.\n",
      "  df=df.append({\n",
      "/tmp/ipykernel_11389/1746127858.py:12: FutureWarning: The frame.append method is deprecated and will be removed from pandas in a future version. Use pandas.concat instead.\n",
      "  df=df.append({\n",
      "/tmp/ipykernel_11389/1746127858.py:12: FutureWarning: The frame.append method is deprecated and will be removed from pandas in a future version. Use pandas.concat instead.\n",
      "  df=df.append({\n",
      "/tmp/ipykernel_11389/1746127858.py:12: FutureWarning: The frame.append method is deprecated and will be removed from pandas in a future version. Use pandas.concat instead.\n",
      "  df=df.append({\n"
     ]
    },
    {
     "name": "stdout",
     "output_type": "stream",
     "text": [
      "Using cpu device\n"
     ]
    },
    {
     "name": "stderr",
     "output_type": "stream",
     "text": [
      "/tmp/ipykernel_11389/1746127858.py:12: FutureWarning: The frame.append method is deprecated and will be removed from pandas in a future version. Use pandas.concat instead.\n",
      "  df=df.append({\n",
      "/tmp/ipykernel_11389/1746127858.py:12: FutureWarning: The frame.append method is deprecated and will be removed from pandas in a future version. Use pandas.concat instead.\n",
      "  df=df.append({\n"
     ]
    }
   ],
   "source": [
    "Nvec=[1e1,1e2,1e3,1e4]\n",
    "hidden_dim =200\n",
    "df=pd.DataFrame(columns=('model_name','P','N','width','Pactual'))\n",
    "for mit,model_name in enumerate(model_names):\n",
    "    train_config['model_name'] = model_name\n",
    "    train_config['hidden_dim'] = hidden_dim\n",
    "    Wvec=[]\n",
    "    for N in Nvec:\n",
    "        data_config['N']=N   \n",
    "        net=get_untrained_net(train_config,data_config,hidden_dim,model_name)\n",
    "        P_actual = count_parameters(net)\n",
    "        df=df.append({\n",
    "                        'model_name':model_name,\n",
    "                        'N':N,\n",
    "                        'Pactual':P_actual\n",
    "                    },ignore_index=True)"
   ]
  },
  {
   "cell_type": "code",
   "execution_count": 21,
   "id": "39fd5c3e",
   "metadata": {},
   "outputs": [
    {
     "data": {
      "text/html": [
       "<div>\n",
       "<style scoped>\n",
       "    .dataframe tbody tr th:only-of-type {\n",
       "        vertical-align: middle;\n",
       "    }\n",
       "\n",
       "    .dataframe tbody tr th {\n",
       "        vertical-align: top;\n",
       "    }\n",
       "\n",
       "    .dataframe thead th {\n",
       "        text-align: right;\n",
       "    }\n",
       "</style>\n",
       "<table border=\"1\" class=\"dataframe\">\n",
       "  <thead>\n",
       "    <tr style=\"text-align: right;\">\n",
       "      <th></th>\n",
       "      <th>model_name</th>\n",
       "      <th>P</th>\n",
       "      <th>N</th>\n",
       "      <th>width</th>\n",
       "      <th>Pactual</th>\n",
       "    </tr>\n",
       "  </thead>\n",
       "  <tbody>\n",
       "    <tr>\n",
       "      <th>0</th>\n",
       "      <td>stomp</td>\n",
       "      <td>NaN</td>\n",
       "      <td>10.0</td>\n",
       "      <td>NaN</td>\n",
       "      <td>304442</td>\n",
       "    </tr>\n",
       "    <tr>\n",
       "      <th>1</th>\n",
       "      <td>stomp</td>\n",
       "      <td>NaN</td>\n",
       "      <td>100.0</td>\n",
       "      <td>NaN</td>\n",
       "      <td>304802</td>\n",
       "    </tr>\n",
       "    <tr>\n",
       "      <th>2</th>\n",
       "      <td>stomp</td>\n",
       "      <td>NaN</td>\n",
       "      <td>1000.0</td>\n",
       "      <td>NaN</td>\n",
       "      <td>308402</td>\n",
       "    </tr>\n",
       "    <tr>\n",
       "      <th>3</th>\n",
       "      <td>stomp</td>\n",
       "      <td>NaN</td>\n",
       "      <td>10000.0</td>\n",
       "      <td>NaN</td>\n",
       "      <td>344402</td>\n",
       "    </tr>\n",
       "    <tr>\n",
       "      <th>4</th>\n",
       "      <td>decoderonly</td>\n",
       "      <td>NaN</td>\n",
       "      <td>10.0</td>\n",
       "      <td>NaN</td>\n",
       "      <td>82222</td>\n",
       "    </tr>\n",
       "    <tr>\n",
       "      <th>5</th>\n",
       "      <td>decoderonly</td>\n",
       "      <td>NaN</td>\n",
       "      <td>100.0</td>\n",
       "      <td>NaN</td>\n",
       "      <td>82402</td>\n",
       "    </tr>\n",
       "    <tr>\n",
       "      <th>6</th>\n",
       "      <td>decoderonly</td>\n",
       "      <td>NaN</td>\n",
       "      <td>1000.0</td>\n",
       "      <td>NaN</td>\n",
       "      <td>84202</td>\n",
       "    </tr>\n",
       "    <tr>\n",
       "      <th>7</th>\n",
       "      <td>decoderonly</td>\n",
       "      <td>NaN</td>\n",
       "      <td>10000.0</td>\n",
       "      <td>NaN</td>\n",
       "      <td>102202</td>\n",
       "    </tr>\n",
       "    <tr>\n",
       "      <th>8</th>\n",
       "      <td>multi</td>\n",
       "      <td>NaN</td>\n",
       "      <td>10.0</td>\n",
       "      <td>NaN</td>\n",
       "      <td>85420</td>\n",
       "    </tr>\n",
       "    <tr>\n",
       "      <th>9</th>\n",
       "      <td>multi</td>\n",
       "      <td>NaN</td>\n",
       "      <td>100.0</td>\n",
       "      <td>NaN</td>\n",
       "      <td>121600</td>\n",
       "    </tr>\n",
       "    <tr>\n",
       "      <th>10</th>\n",
       "      <td>multi</td>\n",
       "      <td>NaN</td>\n",
       "      <td>1000.0</td>\n",
       "      <td>NaN</td>\n",
       "      <td>483400</td>\n",
       "    </tr>\n",
       "    <tr>\n",
       "      <th>11</th>\n",
       "      <td>multi</td>\n",
       "      <td>NaN</td>\n",
       "      <td>10000.0</td>\n",
       "      <td>NaN</td>\n",
       "      <td>4101400</td>\n",
       "    </tr>\n",
       "    <tr>\n",
       "      <th>12</th>\n",
       "      <td>single</td>\n",
       "      <td>NaN</td>\n",
       "      <td>10.0</td>\n",
       "      <td>NaN</td>\n",
       "      <td>818020</td>\n",
       "    </tr>\n",
       "    <tr>\n",
       "      <th>13</th>\n",
       "      <td>single</td>\n",
       "      <td>NaN</td>\n",
       "      <td>100.0</td>\n",
       "      <td>NaN</td>\n",
       "      <td>8180200</td>\n",
       "    </tr>\n",
       "    <tr>\n",
       "      <th>14</th>\n",
       "      <td>single</td>\n",
       "      <td>NaN</td>\n",
       "      <td>1000.0</td>\n",
       "      <td>NaN</td>\n",
       "      <td>81802000</td>\n",
       "    </tr>\n",
       "    <tr>\n",
       "      <th>15</th>\n",
       "      <td>single</td>\n",
       "      <td>NaN</td>\n",
       "      <td>10000.0</td>\n",
       "      <td>NaN</td>\n",
       "      <td>818020000</td>\n",
       "    </tr>\n",
       "  </tbody>\n",
       "</table>\n",
       "</div>"
      ],
      "text/plain": [
       "     model_name    P        N width    Pactual\n",
       "0         stomp  NaN     10.0   NaN     304442\n",
       "1         stomp  NaN    100.0   NaN     304802\n",
       "2         stomp  NaN   1000.0   NaN     308402\n",
       "3         stomp  NaN  10000.0   NaN     344402\n",
       "4   decoderonly  NaN     10.0   NaN      82222\n",
       "5   decoderonly  NaN    100.0   NaN      82402\n",
       "6   decoderonly  NaN   1000.0   NaN      84202\n",
       "7   decoderonly  NaN  10000.0   NaN     102202\n",
       "8         multi  NaN     10.0   NaN      85420\n",
       "9         multi  NaN    100.0   NaN     121600\n",
       "10        multi  NaN   1000.0   NaN     483400\n",
       "11        multi  NaN  10000.0   NaN    4101400\n",
       "12       single  NaN     10.0   NaN     818020\n",
       "13       single  NaN    100.0   NaN    8180200\n",
       "14       single  NaN   1000.0   NaN   81802000\n",
       "15       single  NaN  10000.0   NaN  818020000"
      ]
     },
     "execution_count": 21,
     "metadata": {},
     "output_type": "execute_result"
    }
   ],
   "source": [
    "df"
   ]
  },
  {
   "cell_type": "code",
   "execution_count": 39,
   "id": "0b0b91c0",
   "metadata": {},
   "outputs": [
    {
     "data": {
      "image/png": "[encoded data removed]",
      "text/plain": [
       "<Figure size 500x300 with 1 Axes>"
      ]
     },
     "metadata": {},
     "output_type": "display_data"
    }
   ],
   "source": [
    "fig,ax=pl.subplots(1,1,figsize=(5,3))\n",
    "\n",
    "for mit,model_name in enumerate(model_names):\n",
    "#     ,label=\"{:.2e}\".format(num_paras)\n",
    "    sns.lineplot(data=df.loc[df['model_name']==model_name],\n",
    "                    ax=ax,\n",
    "                    x='N',\n",
    "                    y='Pactual',\n",
    "                    marker='o',\n",
    "#                     legend=False if mit<3 else True\n",
    "                 label=model_name\n",
    "                )\n",
    "    ax.set_xlabel(r'system size (number of agents, $N$)')\n",
    "    ax.set_yscale('log')\n",
    "    ax.set_xscale('log')\n",
    "    ax.set_ylim(1e4,1e9)\n",
    "# ax[1].plot(np.logspace(1,4,10),10*np.logspace(1,4,10)[::-1]**(1/2))\n",
    "ax.set_ylabel('model size (number of parameters)')\n",
    "# h, l = ax[3].get_legend_handles_labels()\n",
    "ax.legend(frameon=False,title=r'model',loc='center left', bbox_to_anchor=(1, 0.5))  \n",
    "fig.tight_layout()"
   ]
  },
  {
   "cell_type": "code",
   "execution_count": 46,
   "id": "f4675878",
   "metadata": {
    "scrolled": true
   },
   "outputs": [
    {
     "data": {
      "image/png": "[encoded data removed]",
      "text/plain": [
       "<Figure size 640x480 with 1 Axes>"
      ]
     },
     "metadata": {},
     "output_type": "display_data"
    }
   ],
   "source": [
    "y=4-16*np.log(1-(1-0.01)**(1/np.array(Nvec)))\n",
    "fig,ax=pl.subplots()\n",
    "ax.plot(Nvec,y)\n",
    "ax.set_xscale('log')"
   ]
  },
  {
   "cell_type": "code",
   "execution_count": 88,
   "id": "7b3bf453",
   "metadata": {},
   "outputs": [
    {
     "data": {
      "text/plain": [
       "[10.0,\n",
       " 74.98942093324558,\n",
       " 562.341325190349,\n",
       " 4216.965034285822,\n",
       " 31622.776601683792,\n",
       " 237137.37056616554,\n",
       " 1778279.410038923,\n",
       " 13335214.32163324,\n",
       " 100000000.0]"
      ]
     },
     "execution_count": 88,
     "metadata": {},
     "output_type": "execute_result"
    }
   ],
   "source": [
    "list(np.logspace(1,8,9))"
   ]
  },
  {
   "cell_type": "code",
   "execution_count": 164,
   "id": "426c9953",
   "metadata": {
    "scrolled": false
   },
   "outputs": [
    {
     "data": {
      "text/plain": [
       "Text(0.5, 1.0, '$(\\\\epsilon,\\\\delta)=(10^{-2},10^{-2})$ PAC lower bound')"
      ]
     },
     "execution_count": 164,
     "metadata": {},
     "output_type": "execute_result"
    },
    {
     "data": {
      "image/png": "[encoded data removed]",
      "text/plain": [
       "<Figure size 300x300 with 1 Axes>"
      ]
     },
     "metadata": {},
     "output_type": "display_data"
    }
   ],
   "source": [
    "import matplotlib.ticker as ticker\n",
    "fig,ax=pl.subplots(figsize=(3,3))\n",
    "action_space_size=np.logspace(0,4,300)\n",
    "Nvec=np.logspace(0,4,100)\n",
    "X, Y = np.meshgrid(Nvec, action_space_size)\n",
    "eps=0.01\n",
    "delta=0.01\n",
    "Z=np.log10(Y*(4-16*np.log10(1-(1-delta)**(1/X)))/eps**2)\n",
    "ax.set_xscale('log')\n",
    "ax.set_yscale('log')\n",
    "levels=np.arange(6,11,1)\n",
    "CS = pl.contour(X, \n",
    "                Y, \n",
    "                Z, \n",
    "                levels,\n",
    "                extent=[X[0], X[-1], Y[0], Y[-1]],\n",
    "                colors='black'\n",
    "               )\n",
    "fmt = {}\n",
    "strs = [r'$10^{'+str(x)+'}$' for x in levels]\n",
    "for l, s in zip(CS.levels, strs):\n",
    "    fmt[l] = s\n",
    "\n",
    "# Label every other level using strings\n",
    "ax.clabel(CS, CS.levels, inline=True, fmt=fmt, fontsize=10)\n",
    "\n",
    "# pl.imshow(Z, origin='lower',\n",
    "#            cmap='RdGy', alpha=0.5)\n",
    "# cbar=pl.colorbar();\n",
    "# cbar.ax.set_ylabel('# of joint actions')#, rotation=270)\n",
    "# cbar.ax.get_yaxis().set_ticks([])\n",
    "ax.set_xlabel('number of agents')\n",
    "ax.set_ylabel('action space size')\n",
    "ax.set_title(r'$(\\epsilon,\\delta)=(10^{-2},10^{-2})$ PAC lower bound')"
   ]
  },
  {
   "cell_type": "code",
   "execution_count": null,
   "id": "92a14a46",
   "metadata": {},
   "outputs": [],
   "source": []
  }
 ],
 "metadata": {
  "kernelspec": {
   "display_name": "Python 3 (ipykernel)",
   "language": "python",
   "name": "python3"
  },
  "language_info": {
   "codemirror_mode": {
    "name": "ipython",
    "version": 3
   },
   "file_extension": ".py",
   "mimetype": "text/x-python",
   "name": "python",
   "nbconvert_exporter": "python",
   "pygments_lexer": "ipython3",
   "version": "3.10.13"
  }
 },
 "nbformat": 4,
 "nbformat_minor": 5
}
