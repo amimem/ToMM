{
 "cells": [
  {
   "cell_type": "code",
   "execution_count": null,
   "id": "962d0189",
   "metadata": {},
   "outputs": [],
   "source": [
    "#libraries\n",
    "import numpy as np\n",
    "import pandas as pd\n",
    "import matplotlib.pyplot as pl\n",
    "import torch\n",
    "from models import STOMP\n",
    "import os\n",
    "import h5py\n",
    "import yaml\n",
    "import json"
   ]
  },
  {
   "cell_type": "markdown",
   "id": "7cd9bfaf",
   "metadata": {},
   "source": [
    "get data"
   ]
  },
  {
   "cell_type": "code",
   "execution_count": null,
   "id": "b24799df",
   "metadata": {},
   "outputs": [],
   "source": [
    "out_dir = \"output/\"\n",
    "data_settings = np.load(out_dir + data_settings_str + \".npy\", allow_pickle=True).item()\n",
    "\n",
    "data_root = out_dir +data_settings_str + f\"_dataseed_{seed_idx}\"\n",
    "training_data = np.load(data_root+\".npy\", allow_pickle=True).item()\n",
    "experiment_label = 'lossgoesdownexample'\n",
    "training_root = out_dir + experiment_label + data_settings_str + f\"_dataseed_{seed_idx}\"+training_settings_str\n",
    "training_dict = np.load(training_root + \".npy\", allow_pickle=True).item()\n",
    "trained_model_state_dict = torch.load(out_dir + data_settings_str + f\"_dataseed_{seed_idx}\"+training_settings_str + '_state_dict.pt')\n",
    "import json\n",
    "print('data_settings')\n",
    "print(json.dumps(data_settings,sort_keys=True, indent=4))\n",
    "print('\\ntraining_data')\n",
    "for key in trained_model_state_dict.keys():\n",
    "    print(key+\" \"+str(trained_model_state_dict[key].requires_grad))\n",
    "print(json.dumps(training_dict,sort_keys=True, indent=4))\n",
    "print(f\"\\nmodel has {sum(p.numel() for p in trained_model_state_dict.values())} parameters grouped as:\")"
   ]
  }
 ],
 "metadata": {
  "kernelspec": {
   "display_name": "Python 3 (ipykernel)",
   "language": "python",
   "name": "python3"
  },
  "language_info": {
   "codemirror_mode": {
    "name": "ipython",
    "version": 3
   },
   "file_extension": ".py",
   "mimetype": "text/x-python",
   "name": "python",
   "nbconvert_exporter": "python",
   "pygments_lexer": "ipython3",
   "version": "3.10.13"
  }
 },
 "nbformat": 4,
 "nbformat_minor": 5
}
