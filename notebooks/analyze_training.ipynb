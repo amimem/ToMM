{
 "cells": [
  {
   "cell_type": "code",
   "execution_count": 1,
   "id": "2af226eb",
   "metadata": {},
   "outputs": [],
   "source": [
    "#libraries\n",
    "import numpy as np\n",
    "import pandas as pd\n",
    "import matplotlib.pyplot as pl\n",
    "import torch\n",
    "from STOMPnet import STOMPnet\n",
    "from utils import MultiChannelNet\n",
    "import os\n",
    "import h5py\n",
    "import yaml\n",
    "import json"
   ]
  },
  {
   "cell_type": "markdown",
   "id": "599dd8c9",
   "metadata": {},
   "source": [
    "This notebook loads all objects produced by the program with the following hashes"
   ]
  },
  {
   "cell_type": "code",
   "execution_count": 2,
   "id": "07cdc248",
   "metadata": {},
   "outputs": [],
   "source": [
    "data_hash ='a505fc258b'\n",
    "train_hash = '8058f0b1ba'"
   ]
  },
  {
   "cell_type": "markdown",
   "id": "9142e342",
   "metadata": {},
   "source": [
    "Set paths"
   ]
  },
  {
   "cell_type": "code",
   "execution_count": 13,
   "id": "de0f5899",
   "metadata": {},
   "outputs": [],
   "source": [
    "outdir = 'output/'\n",
    "data_dir = f'data_{data_hash}/'\n",
    "data_filename = os.path.join(outdir, data_dir, 'data.h5')\n",
    "config_filename = os.path.join(outdir, data_dir, 'config.yaml')\n",
    "save_dir = os.path.join(outdir, data_dir, 'training_results/')\n",
    "train_info_dir = os.path.join(save_dir, train_hash)"
   ]
  },
  {
   "cell_type": "markdown",
   "id": "2ec0bbb2",
   "metadata": {},
   "source": [
    "Load dataset objects"
   ]
  },
  {
   "cell_type": "code",
   "execution_count": 22,
   "id": "0abe9a5b",
   "metadata": {},
   "outputs": [
    {
     "name": "stdout",
     "output_type": "stream",
     "text": [
      "{\n",
      "    \"A\": 2,\n",
      "    \"K\": 3,\n",
      "    \"M\": 2,\n",
      "    \"N\": 4,\n",
      "    \"T\": 128,\n",
      "    \"action_selection_method\": \"greedy\",\n",
      "    \"corr\": 1.0,\n",
      "    \"ensemble\": \"sum\",\n",
      "    \"env\": false,\n",
      "    \"ground_model_name\": \"bitpop\",\n",
      "    \"num_episodes\": 1,\n",
      "    \"num_seeds\": 10,\n",
      "    \"output\": \"output/\",\n",
      "    \"sps\": 16,\n",
      "    \"stablefac\": 8.0,\n",
      "    \"timestamp\": \"20240326_164234\"\n",
      "}\n"
     ]
    }
   ],
   "source": [
    "# load the hdf data (one file for each seed)\n",
    "with h5py.File(data_filename, 'r') as f:\n",
    "    datasets = {}\n",
    "    for group_name, group in f.items():\n",
    "        datasets[group_name] = {key: np.array(\n",
    "            value) for key, value in group.items()}\n",
    "# load the config file\n",
    "with open(config_filename, 'r') as f:\n",
    "    config = yaml.load(f, Loader=yaml.FullLoader)\n",
    "    print(json.dumps(config['file_attrs'],sort_keys=True, indent=4))"
   ]
  },
  {
   "cell_type": "markdown",
   "id": "4d633084",
   "metadata": {},
   "source": [
    "Load training objects"
   ]
  },
  {
   "cell_type": "code",
   "execution_count": 28,
   "id": "c91fc79f",
   "metadata": {
    "scrolled": false
   },
   "outputs": [
    {
     "name": "stdout",
     "output_type": "stream",
     "text": [
      "{\n",
      "    \"L\": 100,\n",
      "    \"M\": 2,\n",
      "    \"P\": 100000.0,\n",
      "    \"batch_size\": 16,\n",
      "    \"data_dir\": \"data_a505fc258b/\",\n",
      "    \"data_seed\": 0,\n",
      "    \"epochs\": 20,\n",
      "    \"interval\": 5,\n",
      "    \"learning_rate\": 5e-05,\n",
      "    \"model_name\": \"stomp\",\n",
      "    \"n_features\": 2,\n",
      "    \"num_codebooks\": 10,\n",
      "    \"outdir\": \"output/\",\n",
      "    \"seed\": 0\n",
      "}\n",
      "dict_keys(['loss', 'accuracy'])\n"
     ]
    }
   ],
   "source": [
    "# load the training arguments\n",
    "with open(train_info_dir + \"/args.yaml\", 'r') as f:\n",
    "    training_args = yaml.load(f, Loader=yaml.FullLoader)\n",
    "    print(json.dumps(training_args,sort_keys=True, indent=4))\n",
    "# load results\n",
    "results = np.load(train_info_dir + \"/results.npy\", allow_pickle=True).item()\n",
    "print(results.keys())\n",
    "#load final state dict\n",
    "state_dict_final = torch.load(train_info_dir + \"/state_dict_final.pt\")\n",
    "#load checkpoints\n",
    "state_dict_checkpoints = [torch.load(train_info_dir + f\"/state_dict_{epoch}.pt\") \n",
    "                          for epoch in range(5,training_args['epochs']+1,5)]"
   ]
  },
  {
   "cell_type": "markdown",
   "id": "0e164271",
   "metadata": {},
   "source": [
    "bring into a function"
   ]
  },
  {
   "cell_type": "code",
   "execution_count": 3,
   "id": "b48760e7",
   "metadata": {},
   "outputs": [],
   "source": [
    "def get_all(data_hash,train_hash):\n",
    "    \n",
    "    #get paths\n",
    "    outdir = 'output/'\n",
    "    data_dir = f'data_{data_hash}/'\n",
    "    data_filename = os.path.join(outdir, data_dir, 'data.h5')\n",
    "    config_filename = os.path.join(outdir, data_dir, 'config.yaml')\n",
    "    save_dir = os.path.join(outdir, data_dir, 'training_results/')\n",
    "    train_info_dir = os.path.join(save_dir, train_hash)\n",
    "    \n",
    "    # load the hdf data (one file for each seed)\n",
    "    with h5py.File(data_filename, 'r') as f:\n",
    "        datasets = {}\n",
    "        for group_name, group in f.items():\n",
    "            datasets[group_name] = {key: np.array(\n",
    "                value) for key, value in group.items()}\n",
    "    \n",
    "    # load the config file\n",
    "    with open(config_filename, 'r') as f:\n",
    "        data_config = yaml.load(f, Loader=yaml.FullLoader)\n",
    "        \n",
    "    # load the training arguments\n",
    "    with open(train_info_dir + \"/args.yaml\", 'r') as f:\n",
    "        training_args = yaml.load(f, Loader=yaml.FullLoader)\n",
    "    \n",
    "    # load results\n",
    "    results = np.load(train_info_dir + \"/results.npy\", allow_pickle=True).item()\n",
    "    \n",
    "    #load final state dict\n",
    "    state_dict_final = torch.load(train_info_dir + \"/state_dict_final.pt\")\n",
    "    \n",
    "    #load checkpoints\n",
    "    state_dict_checkpoints = [torch.load(train_info_dir + f\"/state_dict_{epoch}.pt\") \n",
    "                              for epoch in range(5,training_args['epochs']+1,5)]\n",
    "    \n",
    "    return data_config, datasets, training_args, results, state_dict_final, state_dict_checkpoints"
   ]
  },
  {
   "cell_type": "code",
   "execution_count": 4,
   "id": "3cf22ce1",
   "metadata": {},
   "outputs": [],
   "source": [
    "data_config, datasets, training_args, results, state_dict_final, state_dict_checkpoints=get_all(data_hash,train_hash)"
   ]
  },
  {
   "cell_type": "markdown",
   "id": "16cdc0b1",
   "metadata": {},
   "source": [
    "Now, load data from a multiple runs"
   ]
  },
  {
   "cell_type": "code",
   "execution_count": null,
   "id": "ebbceaef",
   "metadata": {},
   "outputs": [],
   "source": [
    "def get_perf_data(train_hash,data_hash):\n",
    "    outdir = 'output/'\n",
    "    data_dir = f'data_{data_hash}/'\n",
    "    data_filename = os.path.join(outdir, data_dir, 'data.h5')\n",
    "    config_filename = os.path.join(outdir, data_dir, 'config.yaml')\n",
    "    save_dir = os.path.join(outdir, data_dir, 'training_results/')\n",
    "    train_info_dir = os.path.join(save_dir, train_hash)\n",
    "    results = np.load(train_info_dir + \"/results.npy\", allow_pickle=True).item()\n",
    "    return results\n",
    "\n",
    "def get_data_hash (N,data_paras=data_config):\n",
    "    data_paras['N']=N\n",
    "    data_hash = data_hash_function(data_paras) #TODO!!!\n",
    "    return data_hash\n",
    "\n",
    "def get_train_hash (P, model_name,train_paras=training_args):\n",
    "    train_paras['P']=P\n",
    "    train_paras['model_name']=model_name\n",
    "    train_hash = train_hash_function(train_paras) #TODO!!!\n",
    "    return train_hash"
   ]
  },
  {
   "cell_type": "code",
   "execution_count": null,
   "id": "b9d38ed1",
   "metadata": {},
   "outputs": [],
   "source": [
    "N_list = [1e1, 1e2, 1e3, 1e4]\n",
    "model_name_list= ['stomp','single','multis']\n",
    "P_list = [1e5, 1e6, 1e7, 1e8, 1e9]\n",
    "perf_data={}\n",
    "for nit,N in enumerate(N_list):\n",
    "    data_hash = get_data_hash(N, data_paras)\n",
    "    perf_data[N]={}\n",
    "    for pit,P in enumerate(P_list):\n",
    "        perf_data[N][P]={}\n",
    "        for mit,model_name in enumerate(model_name_list):\n",
    "            train_hash = get_train_hash(N,P,train_paras)\n",
    "            perf_data[N][P][model_name] = get_perf_data(train_hash,data_hash)"
   ]
  },
  {
   "cell_type": "markdown",
   "id": "b99f19e8",
   "metadata": {},
   "source": [
    "plot accuracy and loss"
   ]
  },
  {
   "cell_type": "code",
   "execution_count": null,
   "id": "ab25207a",
   "metadata": {},
   "outputs": [],
   "source": [
    "fig,ax=pl.subplots(2,1,figsize=(10,6))\n",
    "mkr=['-','--',':']\n",
    "colors=pl.cm.get_cmap('viridis')(np.linspace(0, 1, len(P_list)))\n",
    "for mit,model_name in enumerate(model_name_list):\n",
    "    for pit,P in enumerate(P_list):\n",
    "        if mit==0:\n",
    "            ax[0].plot(perf_dict[N][P][model_name]['loss'],mkr[mit],color=colors[pit],label=model_name)\n",
    "        else:\n",
    "            ax[0].plot(perf_dict[N][P][model_name]['loss'],mkr[mit],color=colors[pit])\n",
    "        ax[0].set_ylabel('per-agent action loss')\n",
    "        ax[0].set_xlabel('epoch')\n",
    "        ax[0].set_ylim(0,0.05)\n",
    "        if git==0:\n",
    "            ax[1].plot(perf_dict[N][P][model_name]['accuracy'],mkr[mit],color=colors[pit],label=P)\n",
    "        else:\n",
    "            ax[1].plot(perf_dict[N][P][model_name]['accuracy'],mkr[mit],color=colors[pit])\n",
    "        ax[1].set_ylabel('action prediction accuracy')\n",
    "        ax[1].set_xlabel('epoch')\n",
    "        ax[1].set_ylim(0,1)\n",
    "ax[0].legend(frameon=False,bbox_to_anchor=(1.2, 1.05),title='training seed')\n",
    "ax[1].legend(frameon=False,bbox_to_anchor=(1.01, 1.05),title='model')\n",
    "fig.suptitle(data_settings_str+'\\n'+training_settings_str)\n",
    "#     acc == (true == mdl(x).max(1).item() / true.size(0)\n",
    "fig.tight_layout()\n",
    "fig.savefig('results_fig.png', transparent=True, bbox_inches=\"tight\", dpi=300)"
   ]
  }
 ],
 "metadata": {
  "kernelspec": {
   "display_name": "Python 3 (ipykernel)",
   "language": "python",
   "name": "python3"
  },
  "language_info": {
   "codemirror_mode": {
    "name": "ipython",
    "version": 3
   },
   "file_extension": ".py",
   "mimetype": "text/x-python",
   "name": "python",
   "nbconvert_exporter": "python",
   "pygments_lexer": "ipython3",
   "version": "3.10.13"
  }
 },
 "nbformat": 4,
 "nbformat_minor": 5
}
