{
 "cells": [
  {
   "cell_type": "code",
   "execution_count": 1,
   "id": "a0a71e56",
   "metadata": {},
   "outputs": [],
   "source": [
    "from data_gen import generate_data\n",
    "from train import train\n",
    "import numpy as np\n",
    "import pandas as pd"
   ]
  },
  {
   "cell_type": "code",
   "execution_count": 2,
   "id": "e868e15e",
   "metadata": {},
   "outputs": [],
   "source": [
    "# default args\n",
    "datagen_args={}\n",
    "datagen_args['T'] = 1000\n",
    "datagen_args['corr'] = 1.0\n",
    "datagen_args['A'] = 2\n",
    "datagen_args['N'] = 10\n",
    "datagen_args['M'] = 1\n",
    "datagen_args['K'] = 8\n",
    "datagen_args['num_seeds'] = 2\n",
    "datagen_args['action_selection_method'] = 'greedy'\n",
    "datagen_args['ensemble'] = 'sum'\n",
    "datagen_args['ground_model_name'] = 'bitpop'\n",
    "datagen_args['output'] = 'output/'\n",
    "\n",
    "train_args = {}\n",
    "train_args['model_name']='stomp'\n",
    "train_args['P']=1e6\n",
    "train_args['M']=1\n",
    "train_args['L']=100\n",
    "train_args['n_hidden_layers']=2\n",
    "train_args['n_features']=2\n",
    "train_args['num_codebooks']=10\n",
    "train_args['enc2dec_ratio']=1\n",
    "train_args['epochs']=20\n",
    "train_args['learning_rate']=5e-5\n",
    "train_args['batch_size']=8\n",
    "train_args['outdir']='output/'\n",
    "train_args['data_dir']=''\n",
    "train_args['seed']=0\n",
    "train_args['data_seed']=0\n",
    "train_args['use_lr_scheduler']=False\n",
    "train_args['step_LR']=30\n",
    "train_args['gamma']=0.1\n",
    "train_args['checkpoint_interval']=100\n",
    "train_args['wandb_entity_name']=None\n",
    "train_args['wandb_group_name']=None\n",
    "train_args['wandb_job_type_name']=None"
   ]
  },
  {
   "cell_type": "code",
   "execution_count": 3,
   "id": "2ee4b700",
   "metadata": {},
   "outputs": [],
   "source": [
    "# variable parameters\n",
    "corrvec=[0,1] # [0, 0.5, 1.0]   # agent pairwise action correlation\n",
    "Nvec=np.array([10,100]) # [1e1,1e2,1e3,1e4]   # number of agents\n",
    "single_agent_capacity = 256*100\n",
    "Pvec=Nvec*single_agent_capacity  # number of parameters\n",
    "\n",
    "# datagen vars\n",
    "K=8             # state space dimension\n",
    "M_sys=1         # number of agent groups\n",
    "T=int(1e4)      # number of samples to learn from\n",
    "data_seed = 0   # seed of data generation\n",
    "\n",
    "# train vars\n",
    "M_train=1       # assumed number of agent groups\n",
    "epochs=1\n",
    "\n",
    "datagen_args['K']=K\n",
    "datagen_args['M']=M_sys\n",
    "datagen_args['T']=T\n",
    "datagen_args['ground_model_name'] = 'bitpop'\n",
    "\n",
    "train_args['model_name']='single'\n",
    "train_args['M']=M_train\n",
    "train_args['data_seed']=data_seed\n",
    "train_args['epochs']=epochs"
   ]
  },
  {
   "cell_type": "code",
   "execution_count": 4,
   "id": "8052b773",
   "metadata": {},
   "outputs": [
    {
     "name": "stdout",
     "output_type": "stream",
     "text": [
      "bitpop\n",
      "running seed 0 of 2\n",
      "running seed 1 of 2\n",
      "saving data_d1bac3a730\n",
      "bitpop\n",
      "running seed 0 of 2\n",
      "running seed 1 of 2\n",
      "saving data_4cace0bd77\n",
      "bitpop\n",
      "running seed 0 of 2\n",
      "running seed 1 of 2\n",
      "saving data_104df71b36\n",
      "bitpop\n",
      "running seed 0 of 2\n",
      "running seed 1 of 2\n",
      "saving data_ab133d9f57\n"
     ]
    }
   ],
   "source": [
    "# generate data from bitpop\n",
    "hashtype='bitpop_data'\n",
    "hash_data_list=[]\n",
    "for corr in corrvec:\n",
    "    datagen_args['corr']=corr\n",
    "    for N in Nvec:\n",
    "        datagen_args['N']=N\n",
    "        bitpop_data_hash=generate_data(datagen_args.copy())\n",
    "        hash_data_list.append((corr,N,-1,hashtype,bitpop_data_hash))\n",
    "df=pd.DataFrame(hash_data_list,columns=['corr','N','P','hashtype','hash'])"
   ]
  },
  {
   "cell_type": "code",
   "execution_count": 5,
   "id": "44966db8",
   "metadata": {},
   "outputs": [
    {
     "name": "stdout",
     "output_type": "stream",
     "text": [
      "Using cpu device\n",
      "seed 0 training of single model with modelsize 10 for 1 epochs using batchsize 8 and LR 5e-05\n",
      "wandb run name: 4c842ab635_20240523-162941\n",
      "using data:output/data_d1bac3a730/data.h5\n",
      "{'file_attrs': {'A': 2, 'K': 8, 'M': 1, 'N': 10, 'T': 10000, 'action_selection_method': 'greedy', 'corr': 0, 'ensemble': 'sum', 'ground_model_name': 'bitpop', 'hash': 'd1bac3a730', 'num_seeds': 2, 'output': 'output/', 'timestamp': '20240523_162928'}}\n",
      "state_dim: (10000, 8)\n",
      "10\n",
      "hidden_dim=0\n",
      "number of parameters: 20\n",
      "gap between P and num_parameters:  -10\n"
     ]
    },
    {
     "name": "stderr",
     "output_type": "stream",
     "text": [
      "/home/mptouzel/miniconda3/lib/python3.10/site-packages/torch/nn/init.py:452: UserWarning: Initializing zero-element tensors is a no-op\n",
      "  warnings.warn(\"Initializing zero-element tensors is a no-op\")\n"
     ]
    },
    {
     "name": "stdout",
     "output_type": "stream",
     "text": [
      "pre training loss: 0.08664339780807495, acc: 0.48552\n"
     ]
    },
    {
     "ename": "KeyboardInterrupt",
     "evalue": "",
     "output_type": "error",
     "traceback": [
      "\u001b[0;31m---------------------------------------------------------------------------\u001b[0m",
      "\u001b[0;31mKeyboardInterrupt\u001b[0m                         Traceback (most recent call last)",
      "Cell \u001b[0;32mIn[5], line 9\u001b[0m\n\u001b[1;32m      6\u001b[0m         train_args[\u001b[38;5;124m'\u001b[39m\u001b[38;5;124mdata_dir\u001b[39m\u001b[38;5;124m'\u001b[39m]\u001b[38;5;241m=\u001b[39m\u001b[38;5;124m'\u001b[39m\u001b[38;5;124mdata_\u001b[39m\u001b[38;5;124m'\u001b[39m \u001b[38;5;241m+\u001b[39m df\u001b[38;5;241m.\u001b[39mloc[\n\u001b[1;32m      7\u001b[0m             (df[\u001b[38;5;124m'\u001b[39m\u001b[38;5;124mcorr\u001b[39m\u001b[38;5;124m'\u001b[39m]\u001b[38;5;241m==\u001b[39mcorr) \u001b[38;5;241m&\u001b[39m (df[\u001b[38;5;124m'\u001b[39m\u001b[38;5;124mN\u001b[39m\u001b[38;5;124m'\u001b[39m]\u001b[38;5;241m==\u001b[39mN) \u001b[38;5;241m&\u001b[39m (df[\u001b[38;5;124m'\u001b[39m\u001b[38;5;124mhashtype\u001b[39m\u001b[38;5;124m'\u001b[39m]\u001b[38;5;241m==\u001b[39m\u001b[38;5;124m'\u001b[39m\u001b[38;5;124mbitpop_data\u001b[39m\u001b[38;5;124m'\u001b[39m),\u001b[38;5;124m'\u001b[39m\u001b[38;5;124mhash\u001b[39m\u001b[38;5;124m'\u001b[39m]\u001b[38;5;241m.\u001b[39mvalues[\u001b[38;5;241m0\u001b[39m]\n\u001b[1;32m      8\u001b[0m         train_args[\u001b[38;5;124m'\u001b[39m\u001b[38;5;124mP\u001b[39m\u001b[38;5;124m'\u001b[39m]\u001b[38;5;241m=\u001b[39mPvec[nit]\n\u001b[0;32m----> 9\u001b[0m         train_simple_hash\u001b[38;5;241m=\u001b[39m\u001b[43mtrain\u001b[49m\u001b[43m(\u001b[49m\u001b[43mtrain_args\u001b[49m\u001b[38;5;241;43m.\u001b[39;49m\u001b[43mcopy\u001b[49m\u001b[43m(\u001b[49m\u001b[43m)\u001b[49m\u001b[43m)\u001b[49m\n\u001b[1;32m     10\u001b[0m         hash_data_list\u001b[38;5;241m.\u001b[39mappend((corr,N,Pvec[nit],hashtype,bitpop_data_hash))\n\u001b[1;32m     11\u001b[0m dftmp\u001b[38;5;241m=\u001b[39mpd\u001b[38;5;241m.\u001b[39mDataFrame(hash_data_list,columns\u001b[38;5;241m=\u001b[39m[\u001b[38;5;124m'\u001b[39m\u001b[38;5;124mcorr\u001b[39m\u001b[38;5;124m'\u001b[39m,\u001b[38;5;124m'\u001b[39m\u001b[38;5;124mN\u001b[39m\u001b[38;5;124m'\u001b[39m,\u001b[38;5;124m'\u001b[39m\u001b[38;5;124mP\u001b[39m\u001b[38;5;124m'\u001b[39m,\u001b[38;5;124m'\u001b[39m\u001b[38;5;124mhashtype\u001b[39m\u001b[38;5;124m'\u001b[39m,\u001b[38;5;124m'\u001b[39m\u001b[38;5;124mhash\u001b[39m\u001b[38;5;124m'\u001b[39m])\n",
      "File \u001b[0;32m/mnt/c/Users/maxpu/Dropbox/scripts/Projects/abstraction/train.py:270\u001b[0m, in \u001b[0;36mtrain\u001b[0;34m(args)\u001b[0m\n\u001b[1;32m    266\u001b[0m optimizer\u001b[38;5;241m.\u001b[39mzero_grad()\n\u001b[1;32m    267\u001b[0m loss \u001b[38;5;241m=\u001b[39m \u001b[38;5;28msum\u001b[39m(criterion(torch\u001b[38;5;241m.\u001b[39msqueeze(\n\u001b[1;32m    268\u001b[0m     action_logit_vectors[:, agent_idx, :]), labels[:, agent_idx]) \n\u001b[1;32m    269\u001b[0m     \u001b[38;5;28;01mfor\u001b[39;00m agent_idx \u001b[38;5;129;01min\u001b[39;00m \u001b[38;5;28mrange\u001b[39m(num_agents))\n\u001b[0;32m--> 270\u001b[0m \u001b[43mloss\u001b[49m\u001b[38;5;241;43m.\u001b[39;49m\u001b[43mbackward\u001b[49m\u001b[43m(\u001b[49m\u001b[43m)\u001b[49m\n\u001b[1;32m    271\u001b[0m optimizer\u001b[38;5;241m.\u001b[39mstep()\n\u001b[1;32m    273\u001b[0m \u001b[38;5;28;01mif\u001b[39;00m args[\u001b[38;5;124m'\u001b[39m\u001b[38;5;124muse_lr_scheduler\u001b[39m\u001b[38;5;124m'\u001b[39m]:\n",
      "File \u001b[0;32m~/miniconda3/lib/python3.10/site-packages/torch/_tensor.py:525\u001b[0m, in \u001b[0;36mTensor.backward\u001b[0;34m(self, gradient, retain_graph, create_graph, inputs)\u001b[0m\n\u001b[1;32m    515\u001b[0m \u001b[38;5;28;01mif\u001b[39;00m has_torch_function_unary(\u001b[38;5;28mself\u001b[39m):\n\u001b[1;32m    516\u001b[0m     \u001b[38;5;28;01mreturn\u001b[39;00m handle_torch_function(\n\u001b[1;32m    517\u001b[0m         Tensor\u001b[38;5;241m.\u001b[39mbackward,\n\u001b[1;32m    518\u001b[0m         (\u001b[38;5;28mself\u001b[39m,),\n\u001b[0;32m   (...)\u001b[0m\n\u001b[1;32m    523\u001b[0m         inputs\u001b[38;5;241m=\u001b[39minputs,\n\u001b[1;32m    524\u001b[0m     )\n\u001b[0;32m--> 525\u001b[0m \u001b[43mtorch\u001b[49m\u001b[38;5;241;43m.\u001b[39;49m\u001b[43mautograd\u001b[49m\u001b[38;5;241;43m.\u001b[39;49m\u001b[43mbackward\u001b[49m\u001b[43m(\u001b[49m\n\u001b[1;32m    526\u001b[0m \u001b[43m    \u001b[49m\u001b[38;5;28;43mself\u001b[39;49m\u001b[43m,\u001b[49m\u001b[43m \u001b[49m\u001b[43mgradient\u001b[49m\u001b[43m,\u001b[49m\u001b[43m \u001b[49m\u001b[43mretain_graph\u001b[49m\u001b[43m,\u001b[49m\u001b[43m \u001b[49m\u001b[43mcreate_graph\u001b[49m\u001b[43m,\u001b[49m\u001b[43m \u001b[49m\u001b[43minputs\u001b[49m\u001b[38;5;241;43m=\u001b[39;49m\u001b[43minputs\u001b[49m\n\u001b[1;32m    527\u001b[0m \u001b[43m\u001b[49m\u001b[43m)\u001b[49m\n",
      "File \u001b[0;32m~/miniconda3/lib/python3.10/site-packages/torch/autograd/__init__.py:267\u001b[0m, in \u001b[0;36mbackward\u001b[0;34m(tensors, grad_tensors, retain_graph, create_graph, grad_variables, inputs)\u001b[0m\n\u001b[1;32m    262\u001b[0m     retain_graph \u001b[38;5;241m=\u001b[39m create_graph\n\u001b[1;32m    264\u001b[0m \u001b[38;5;66;03m# The reason we repeat the same comment below is that\u001b[39;00m\n\u001b[1;32m    265\u001b[0m \u001b[38;5;66;03m# some Python versions print out the first line of a multi-line function\u001b[39;00m\n\u001b[1;32m    266\u001b[0m \u001b[38;5;66;03m# calls in the traceback and some print out the last line\u001b[39;00m\n\u001b[0;32m--> 267\u001b[0m \u001b[43m_engine_run_backward\u001b[49m\u001b[43m(\u001b[49m\n\u001b[1;32m    268\u001b[0m \u001b[43m    \u001b[49m\u001b[43mtensors\u001b[49m\u001b[43m,\u001b[49m\n\u001b[1;32m    269\u001b[0m \u001b[43m    \u001b[49m\u001b[43mgrad_tensors_\u001b[49m\u001b[43m,\u001b[49m\n\u001b[1;32m    270\u001b[0m \u001b[43m    \u001b[49m\u001b[43mretain_graph\u001b[49m\u001b[43m,\u001b[49m\n\u001b[1;32m    271\u001b[0m \u001b[43m    \u001b[49m\u001b[43mcreate_graph\u001b[49m\u001b[43m,\u001b[49m\n\u001b[1;32m    272\u001b[0m \u001b[43m    \u001b[49m\u001b[43minputs\u001b[49m\u001b[43m,\u001b[49m\n\u001b[1;32m    273\u001b[0m \u001b[43m    \u001b[49m\u001b[43mallow_unreachable\u001b[49m\u001b[38;5;241;43m=\u001b[39;49m\u001b[38;5;28;43;01mTrue\u001b[39;49;00m\u001b[43m,\u001b[49m\n\u001b[1;32m    274\u001b[0m \u001b[43m    \u001b[49m\u001b[43maccumulate_grad\u001b[49m\u001b[38;5;241;43m=\u001b[39;49m\u001b[38;5;28;43;01mTrue\u001b[39;49;00m\u001b[43m,\u001b[49m\n\u001b[1;32m    275\u001b[0m \u001b[43m\u001b[49m\u001b[43m)\u001b[49m\n",
      "File \u001b[0;32m~/miniconda3/lib/python3.10/site-packages/torch/autograd/graph.py:744\u001b[0m, in \u001b[0;36m_engine_run_backward\u001b[0;34m(t_outputs, *args, **kwargs)\u001b[0m\n\u001b[1;32m    742\u001b[0m     unregister_hooks \u001b[38;5;241m=\u001b[39m _register_logging_hooks_on_whole_graph(t_outputs)\n\u001b[1;32m    743\u001b[0m \u001b[38;5;28;01mtry\u001b[39;00m:\n\u001b[0;32m--> 744\u001b[0m     \u001b[38;5;28;01mreturn\u001b[39;00m \u001b[43mVariable\u001b[49m\u001b[38;5;241;43m.\u001b[39;49m\u001b[43m_execution_engine\u001b[49m\u001b[38;5;241;43m.\u001b[39;49m\u001b[43mrun_backward\u001b[49m\u001b[43m(\u001b[49m\u001b[43m  \u001b[49m\u001b[38;5;66;43;03m# Calls into the C++ engine to run the backward pass\u001b[39;49;00m\n\u001b[1;32m    745\u001b[0m \u001b[43m        \u001b[49m\u001b[43mt_outputs\u001b[49m\u001b[43m,\u001b[49m\u001b[43m \u001b[49m\u001b[38;5;241;43m*\u001b[39;49m\u001b[43margs\u001b[49m\u001b[43m,\u001b[49m\u001b[43m \u001b[49m\u001b[38;5;241;43m*\u001b[39;49m\u001b[38;5;241;43m*\u001b[39;49m\u001b[43mkwargs\u001b[49m\n\u001b[1;32m    746\u001b[0m \u001b[43m    \u001b[49m\u001b[43m)\u001b[49m  \u001b[38;5;66;03m# Calls into the C++ engine to run the backward pass\u001b[39;00m\n\u001b[1;32m    747\u001b[0m \u001b[38;5;28;01mfinally\u001b[39;00m:\n\u001b[1;32m    748\u001b[0m     \u001b[38;5;28;01mif\u001b[39;00m attach_logging_hooks:\n",
      "\u001b[0;31mKeyboardInterrupt\u001b[0m: "
     ]
    }
   ],
   "source": [
    "# train simple\n",
    "hashtype='train_simple'\n",
    "hash_data_list=[]\n",
    "for corr in corrvec:\n",
    "    for nit,N in enumerate(Nvec):\n",
    "        train_args['data_dir']='data_' + df.loc[\n",
    "            (df['corr']==corr) & (df['N']==N) & (df['hashtype']=='bitpop_data'),'hash'].values[0]\n",
    "        train_args['P']=Pvec[nit]\n",
    "        train_simple_hash=train(train_args.copy())\n",
    "        hash_data_list.append((corr,N,Pvec[nit],hashtype,bitpop_data_hash))\n",
    "dftmp=pd.DataFrame(hash_data_list,columns=['corr','N','P','hashtype','hash'])\n",
    "df=pd.concat((df,dftmp))"
   ]
  },
  {
   "cell_type": "code",
   "execution_count": null,
   "id": "7899d4bf",
   "metadata": {},
   "outputs": [],
   "source": [
    "# generate data from trained simple\n",
    "hashtype = 'simple_data'\n",
    "hash_data_list=[]\n",
    "for corr in corrvec:\n",
    "    for nit,N in enumerate(Nvec):\n",
    "        data_hash=df.loc[\n",
    "            (df['corr']==corr) & (df['N']==N) & (df['hashtype']=='bitpop_data'),'hash'].values[0]\n",
    "        train_hash=df.loc[\n",
    "            (df['corr']==corr) & (df['N']==N) & (df['hashtype']=='train_simple'),'hash'].values[0]\n",
    "        datagen_args['ground_model_name'] = data_hash+'/'+train_hash\n",
    "        simple_data_hash=generate_data(datagen_args.copy())\n",
    "        hash_data_list.append((corr,N,Pvec[nit],hashtype,bitpop_data_hash))\n",
    "dftmp=pd.DataFrame(hash_data_list,columns=['corr','N','P','hashtype','hash'])\n",
    "df=pd.concat((df,dftmp))"
   ]
  },
  {
   "cell_type": "code",
   "execution_count": null,
   "id": "7e1f11a8",
   "metadata": {},
   "outputs": [],
   "source": [
    "# store\n",
    "data_store={}\n",
    "data_store['datagen_args']=datagen_args\n",
    "data_store['train_args']=train_args\n",
    "data_store['hashes']=df\n",
    "data_filename = f\"hashlist_K_{K}_Msys_{M_sys}_T_{T}_Mtrain_{M_train}_Ep_{epochs}_dataseed_{data_seed}\"\n",
    "np.save(data_filename+\".npy\",data_store)\n",
    "df.to_csv(data_filename, index=False)"
   ]
  },
  {
   "cell_type": "code",
   "execution_count": null,
   "id": "91451e33",
   "metadata": {},
   "outputs": [],
   "source": [
    "\n",
    "# #train match\n",
    "# train_args['model_name']='match'\n",
    "# match_train_hashes = []\n",
    "# for data_hash in simple_data_hashes:\n",
    "#   train_args['data_dir']='data_'+data_hash\n",
    "#   match_train_hashes.append(train(train_args.copy()))\n",
    "# # write_hashes(match_train_hashes,'match_train')\n",
    "# hashlist_dict['match_train']=match_train_hashes\n",
    "# print(''.join(['\\n']*10))\n",
    "# np.save(hashlist_filename,hashlist_dict)\n",
    "\n",
    "# #train mlp\n",
    "# train_args['model_name']='match'\n",
    "# match_train_hashes = []\n",
    "# for data_hash in simple_data_hashes:\n",
    "#   train_args['data_dir']='data_'+data_hash\n",
    "#   match_train_hashes.append(train(train_args.copy()))\n",
    "# # write_hashes(match_train_hashes,'match_train')\n",
    "# hashlist_dict['match_train']=match_train_hashes\n",
    "# print(''.join(['\\n']*10))\n",
    "# np.save(hashlist_filename,hashlist_dict)\n",
    "\n",
    "# #generate data from trained match\n",
    "# match_data_hashes=[]\n",
    "# for datahash,trainhash in zip(simple_data_hashes,match_train_hashes):\n",
    "#   datagen_args['ground_model_name'] = datahash+'/'+trainhash\n",
    "#   match_data_hashes.append(generate_data(datagen_args.copy()))\n",
    "# write_hashes(match_data_hashes,'match_data')\n",
    "# hashlist_dict['match_data']=match_data_hashes\n",
    "# print(''.join(['\\n']*10))\n",
    "\n",
    "# np.save(hashlist_filename,hashlist_dict)\n",
    "\n",
    "\n",
    "# def write_hashes(hash_list,hash_name,file_name=hashlist_filename):\n",
    "#   with open(file_name,'a') as f:\n",
    "#       f.write(hash_name)\n",
    "#       for ha in hash_list:\n",
    "#           f.write(ha)\n",
    "# write_hashes(bitpop_data_hashes,'bitpop_data')\n",
    "# write_hashes(simple_train_hashes,'simple_train')\n",
    "# write_hashes(simple_data_hashes,'single_data')\n"
   ]
  }
 ],
 "metadata": {
  "kernelspec": {
   "display_name": "Python 3 (ipykernel)",
   "language": "python",
   "name": "python3"
  },
  "language_info": {
   "codemirror_mode": {
    "name": "ipython",
    "version": 3
   },
   "file_extension": ".py",
   "mimetype": "text/x-python",
   "name": "python",
   "nbconvert_exporter": "python",
   "pygments_lexer": "ipython3",
   "version": "3.10.13"
  }
 },
 "nbformat": 4,
 "nbformat_minor": 5
}
