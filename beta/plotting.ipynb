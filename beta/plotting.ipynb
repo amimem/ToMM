{
 "cells": [
  {
   "cell_type": "code",
   "execution_count": 116,
   "metadata": {},
   "outputs": [],
   "source": [
    "import pandas as pd"
   ]
  },
  {
   "cell_type": "code",
   "execution_count": 117,
   "metadata": {},
   "outputs": [],
   "source": [
    "# load results.csv\n",
    "df = pd.read_csv('results_2.csv')"
   ]
  },
  {
   "cell_type": "code",
   "execution_count": 118,
   "metadata": {},
   "outputs": [
    {
     "data": {
      "text/html": [
       "<div>\n",
       "<style scoped>\n",
       "    .dataframe tbody tr th:only-of-type {\n",
       "        vertical-align: middle;\n",
       "    }\n",
       "\n",
       "    .dataframe tbody tr th {\n",
       "        vertical-align: top;\n",
       "    }\n",
       "\n",
       "    .dataframe thead th {\n",
       "        text-align: right;\n",
       "    }\n",
       "</style>\n",
       "<table border=\"1\" class=\"dataframe\">\n",
       "  <thead>\n",
       "    <tr style=\"text-align: right;\">\n",
       "      <th></th>\n",
       "      <th>data_hash</th>\n",
       "      <th>num_agents</th>\n",
       "      <th>num_groups</th>\n",
       "      <th>state_dim</th>\n",
       "      <th>num_actions</th>\n",
       "      <th>sequence_length</th>\n",
       "      <th>hidden_size</th>\n",
       "      <th>num_hidden_layers</th>\n",
       "      <th>epoch</th>\n",
       "      <th>loss</th>\n",
       "      <th>accuracy</th>\n",
       "    </tr>\n",
       "  </thead>\n",
       "  <tbody>\n",
       "    <tr>\n",
       "      <th>0</th>\n",
       "      <td>data_e94dbedcea</td>\n",
       "      <td>4</td>\n",
       "      <td>4</td>\n",
       "      <td>64</td>\n",
       "      <td>8</td>\n",
       "      <td>4</td>\n",
       "      <td>32</td>\n",
       "      <td>1</td>\n",
       "      <td>0</td>\n",
       "      <td>1.782997</td>\n",
       "      <td>0.356243</td>\n",
       "    </tr>\n",
       "    <tr>\n",
       "      <th>1</th>\n",
       "      <td>data_e94dbedcea</td>\n",
       "      <td>4</td>\n",
       "      <td>4</td>\n",
       "      <td>64</td>\n",
       "      <td>8</td>\n",
       "      <td>4</td>\n",
       "      <td>32</td>\n",
       "      <td>1</td>\n",
       "      <td>1</td>\n",
       "      <td>1.710232</td>\n",
       "      <td>0.390445</td>\n",
       "    </tr>\n",
       "    <tr>\n",
       "      <th>2</th>\n",
       "      <td>data_e94dbedcea</td>\n",
       "      <td>4</td>\n",
       "      <td>4</td>\n",
       "      <td>64</td>\n",
       "      <td>8</td>\n",
       "      <td>4</td>\n",
       "      <td>32</td>\n",
       "      <td>1</td>\n",
       "      <td>2</td>\n",
       "      <td>1.671928</td>\n",
       "      <td>0.407974</td>\n",
       "    </tr>\n",
       "    <tr>\n",
       "      <th>3</th>\n",
       "      <td>data_e94dbedcea</td>\n",
       "      <td>4</td>\n",
       "      <td>4</td>\n",
       "      <td>64</td>\n",
       "      <td>8</td>\n",
       "      <td>4</td>\n",
       "      <td>32</td>\n",
       "      <td>1</td>\n",
       "      <td>3</td>\n",
       "      <td>1.641551</td>\n",
       "      <td>0.420839</td>\n",
       "    </tr>\n",
       "    <tr>\n",
       "      <th>4</th>\n",
       "      <td>data_e94dbedcea</td>\n",
       "      <td>4</td>\n",
       "      <td>4</td>\n",
       "      <td>64</td>\n",
       "      <td>8</td>\n",
       "      <td>4</td>\n",
       "      <td>32</td>\n",
       "      <td>1</td>\n",
       "      <td>4</td>\n",
       "      <td>1.615447</td>\n",
       "      <td>0.434793</td>\n",
       "    </tr>\n",
       "  </tbody>\n",
       "</table>\n",
       "</div>"
      ],
      "text/plain": [
       "         data_hash  num_agents  num_groups  state_dim  num_actions  \\\n",
       "0  data_e94dbedcea           4           4         64            8   \n",
       "1  data_e94dbedcea           4           4         64            8   \n",
       "2  data_e94dbedcea           4           4         64            8   \n",
       "3  data_e94dbedcea           4           4         64            8   \n",
       "4  data_e94dbedcea           4           4         64            8   \n",
       "\n",
       "   sequence_length  hidden_size  num_hidden_layers  epoch      loss  accuracy  \n",
       "0                4           32                  1      0  1.782997  0.356243  \n",
       "1                4           32                  1      1  1.710232  0.390445  \n",
       "2                4           32                  1      2  1.671928  0.407974  \n",
       "3                4           32                  1      3  1.641551  0.420839  \n",
       "4                4           32                  1      4  1.615447  0.434793  "
      ]
     },
     "execution_count": 118,
     "metadata": {},
     "output_type": "execute_result"
    }
   ],
   "source": [
    "df.head()"
   ]
  },
  {
   "cell_type": "code",
   "execution_count": null,
   "metadata": {},
   "outputs": [],
   "source": [
    "# choose only epoch 9 of the df\n",
    "df = df[df['epoch'] == 9]"
   ]
  },
  {
   "cell_type": "code",
   "execution_count": null,
   "metadata": {},
   "outputs": [],
   "source": [
    "# I want to get unique (num_agents, sequence_length, hidden_size, num_hidden_layers)\n",
    "gp = df.groupby(['num_agents', 'sequence_length', 'hidden_size', 'num_hidden_layers'])"
   ]
  },
  {
   "cell_type": "code",
   "execution_count": null,
   "metadata": {},
   "outputs": [],
   "source": [
    "# how many rows are there for each group\n",
    "gp.size()"
   ]
  },
  {
   "cell_type": "code",
   "execution_count": null,
   "metadata": {},
   "outputs": [],
   "source": [
    "# get the accuracy of each group\n",
    "acc = gp['accuracy'].mean()"
   ]
  },
  {
   "cell_type": "code",
   "execution_count": null,
   "metadata": {},
   "outputs": [],
   "source": [
    "acc"
   ]
  },
  {
   "cell_type": "code",
   "execution_count": null,
   "metadata": {},
   "outputs": [],
   "source": [
    "df.loc[:, 'hidden_size_x_num_hidden_layers'] = df['hidden_size'] * df['num_hidden_layers']"
   ]
  },
  {
   "cell_type": "code",
   "execution_count": null,
   "metadata": {},
   "outputs": [],
   "source": [
    "df.head()"
   ]
  },
  {
   "cell_type": "code",
   "execution_count": null,
   "metadata": {},
   "outputs": [],
   "source": [
    "import seaborn as sns\n",
    "import matplotlib.pyplot as plt\n",
    "\n",
    "# Plot accuracy based on hidden_size x num_hidden_layers\n",
    "lm = sns.lmplot(x='hidden_size_x_num_hidden_layers', y='accuracy', data=df)\n",
    "lm.ax.set_xscale('log', base=2)\n",
    "plt.title('Accuracy based on hidden_size x num_hidden_layers')\n",
    "\n",
    "# Plot accuracy based on sequence_length\n",
    "lm = sns.lmplot(x='sequence_length', y='accuracy', data=df)\n",
    "lm.ax.set_xscale('log', base=2)\n",
    "plt.title('Accuracy based on sequence_length')\n",
    "\n",
    "# Plot accuracy based on num_agents\n",
    "lm = sns.lmplot(x='num_agents', y='accuracy', data=df)\n",
    "lm.ax.set_xscale('log', base=2)\n",
    "lm.ax.set_yscale('log', base=2)\n",
    "plt.title('Accuracy based on num_agents')\n",
    "\n",
    "plt.show()"
   ]
  },
  {
   "cell_type": "code",
   "execution_count": null,
   "metadata": {},
   "outputs": [],
   "source": [
    "import numpy as np\n",
    "from scipy.stats import linregress\n",
    "\n",
    "# Convert columns to log scale\n",
    "df['log_num_agents'] = np.log2(df['num_agents'])\n",
    "df['log_accuracy'] = np.log2(df['accuracy'])\n",
    "\n",
    "# Fit a line to the log-log plot\n",
    "slope, intercept, r_value, p_value, std_err = linregress(df['log_num_agents'], df['log_accuracy'])\n",
    "\n",
    "# Plot accuracy based on num_agents on log-log scale\n",
    "lm = sns.lmplot(x='log_num_agents', y='log_accuracy', data=df, line_kws={'label':\"y={0:.1f}x+{1:.1f}\".format(slope,intercept)})\n",
    "\n",
    "plt.title('Accuracy based on num_agents')\n",
    "plt.legend()\n",
    "\n",
    "plt.show()"
   ]
  },
  {
   "cell_type": "code",
   "execution_count": 136,
   "metadata": {},
   "outputs": [],
   "source": [
    "# load the dataframe from results.csv\n",
    "df = pd.read_csv('results_2.csv')\n",
    "\n",
    "# choose only epoch 9 of the df\n",
    "df = df[df['epoch'] == 9]\n",
    "\n",
    "# I want to get unique (num_agents, sequence_length, hidden_size x num_hidden_layers)\n",
    "df.loc[:, 'hidden_size_x_num_hidden_layers'] = df['hidden_size'] * df['num_hidden_layers']"
   ]
  },
  {
   "cell_type": "code",
   "execution_count": 137,
   "metadata": {},
   "outputs": [],
   "source": [
    "# I want to get unique (num_agents, sequence_length, hidden_size, num_hidden_layers) and their corresponding last epoch accuracy ( where epoch == 9)\n",
    "last_epoch_acc = df.groupby(['num_agents', 'sequence_length', 'hidden_size', 'num_hidden_layers'])['accuracy'].max()"
   ]
  },
  {
   "cell_type": "code",
   "execution_count": 149,
   "metadata": {},
   "outputs": [],
   "source": [
    "# I want to get unique (num_agents, sequence_length, hidden_size, num_hidden_layers) and their corresponding last epoch accuracy ( where epoch == 9)\n",
    "last_epoch_loss = df.groupby(['num_agents', 'sequence_length', 'hidden_size', 'num_hidden_layers'])['loss'].min()"
   ]
  },
  {
   "cell_type": "code",
   "execution_count": 138,
   "metadata": {},
   "outputs": [
    {
     "data": {
      "text/plain": [
       "num_agents  sequence_length  hidden_size  num_hidden_layers\n",
       "1           4                32           1                    0.887370\n",
       "                             64           2                    0.877602\n",
       "                             128          4                    0.884260\n",
       "                             256          8                    0.884851\n",
       "            8                32           1                    0.874953\n",
       "                                                                 ...   \n",
       "32          16               256          8                    0.350590\n",
       "            32               32           1                    0.358327\n",
       "                             64           2                    0.347890\n",
       "                             128          4                    0.357473\n",
       "                             256          8                    0.354359\n",
       "Name: accuracy, Length: 96, dtype: float64"
      ]
     },
     "execution_count": 138,
     "metadata": {},
     "output_type": "execute_result"
    }
   ],
   "source": [
    "last_epoch_acc"
   ]
  },
  {
   "cell_type": "code",
   "execution_count": 139,
   "metadata": {},
   "outputs": [],
   "source": [
    "# only choose num_agents = [4, 8, 16, 32]\n",
    "df = df[df['num_agents'].isin([4, 8, 16, 32])]"
   ]
  },
  {
   "cell_type": "code",
   "execution_count": 148,
   "metadata": {},
   "outputs": [
    {
     "data": {
      "image/png": "[encoded data removed]",
      "text/plain": [
       "<Figure size 500x500 with 1 Axes>"
      ]
     },
     "metadata": {},
     "output_type": "display_data"
    }
   ],
   "source": [
    "import numpy as np\n",
    "from scipy.stats import linregress\n",
    "\n",
    "# Convert columns to log scale\n",
    "df['log_num_agents'] = np.log2(df['num_agents'])\n",
    "df['log_accuracy'] = np.log2(df['accuracy'])\n",
    "df['log_loss'] = np.log2(df['loss'])\n",
    "\n",
    "# Fit a line to the log-log plot\n",
    "slope, intercept, r_value, p_value, std_err = linregress(df['log_num_agents'], df['log_loss'])\n",
    "\n",
    "# Plot accuracy based on num_agents on log-log scale\n",
    "lm = sns.lmplot(x='log_num_agents', y='log_loss', data=df, line_kws={'label':\"y={0:.1f}x+{1:.1f}\".format(slope,intercept)})\n",
    "\n",
    "plt.title('Accuracy based on num_agents')\n",
    "plt.legend()\n",
    "\n",
    "plt.show()"
   ]
  },
  {
   "cell_type": "code",
   "execution_count": 141,
   "metadata": {},
   "outputs": [
    {
     "name": "stdout",
     "output_type": "stream",
     "text": [
      "Slope: -0.20153399185334372\n",
      "Intercept: -0.6532978948616288\n"
     ]
    }
   ],
   "source": [
    "print('Slope:', slope)\n",
    "print('Intercept:', intercept)"
   ]
  },
  {
   "cell_type": "code",
   "execution_count": 151,
   "metadata": {},
   "outputs": [
    {
     "name": "stdout",
     "output_type": "stream",
     "text": [
      "The extrapolated loss for 1 agents is 0.3503907348172958, 1.2749058719109658\n",
      "The extrapolated loss for 2 agents is 0.46614590043374016, 1.381414144147564\n"
     ]
    }
   ],
   "source": [
    "num_agents_list = [1,2]\n",
    "\n",
    "for num_agents in num_agents_list:\n",
    "    # Check if there's a record for 32 agents\n",
    "    if num_agents in last_epoch_loss.index.get_level_values('num_agents'):\n",
    "        # Retrieve the accuracy from the DataFrame\n",
    "        accuracy = last_epoch_loss.loc[num_agents].max()\n",
    "        print(f\"The loss for {num_agents} agents is {np.log2(accuracy)}, {accuracy}\")\n",
    "\n",
    "    # Extrapolate the accuracy using the linear regression model\n",
    "    # print('Slope:', slope)\n",
    "    # print('Intercept:', intercept)\n",
    "    log_num_agents = np.log2(num_agents)\n",
    "    log_accuracy = slope * log_num_agents + intercept\n",
    "    accuracy = 2**log_accuracy\n",
    "    print(f\"The extrapolated loss for {num_agents} agents is {log_accuracy}, {accuracy}\")"
   ]
  },
  {
   "cell_type": "code",
   "execution_count": null,
   "metadata": {},
   "outputs": [],
   "source": [
    "# Transform data to log2 scale\n",
    "df_log2 = df.copy()\n",
    "df_log2['num_agents'] = np.log2(df['num_agents'])\n",
    "df_log2['sequence_length'] = np.log2(df['sequence_length'])\n",
    "df_log2['hidden_size_x_num_hidden_layers'] = np.log2(df['hidden_size_x_num_hidden_layers'])\n",
    "df_log2['accuracy'] = df['accuracy']"
   ]
  },
  {
   "cell_type": "code",
   "execution_count": null,
   "metadata": {},
   "outputs": [],
   "source": [
    "fig = plt.figure(figsize=(10, 7))\n",
    "ax = fig.add_subplot(111, projection='3d')\n",
    "\n",
    "ax.scatter(df_log2['hidden_size_x_num_hidden_layers'], df_log2['sequence_length'], df_log2['accuracy'], c=df['accuracy'], cmap='viridis')\n",
    "\n",
    "ax.set_xlabel('hidden_size_x_num_hidden_layers (log2)')\n",
    "ax.set_ylabel('sequence_length (log2)')\n",
    "ax.set_zlabel('accuracy (log2)')\n",
    "\n",
    "plt.title('Accuracy based on hidden_size_x_num_hidden_layers and sequence_length')\n",
    "plt.show()"
   ]
  },
  {
   "cell_type": "code",
   "execution_count": null,
   "metadata": {},
   "outputs": [],
   "source": [
    "def plot_3d(df, x, y, z):\n",
    "    fig = plt.figure(figsize=(10, 7))\n",
    "    ax = fig.add_subplot(111, projection='3d')\n",
    "\n",
    "    sc = ax.scatter(df_log2[x], df_log2[y], df_log2[z], c=df[z], cmap='viridis')\n",
    "\n",
    "    ax.set_xlabel(x)\n",
    "    ax.set_ylabel(y)\n",
    "    ax.set_zlabel(z)\n",
    "\n",
    "    plt.title(f'{z} based on {x} and {y}')\n",
    "\n",
    "    plt.colorbar(sc)\n",
    "\n",
    "    plt.show()\n",
    "\n",
    "# List of variables\n",
    "variables = ['num_agents', 'sequence_length', 'hidden_size_x_num_hidden_layers']\n",
    "\n",
    "# Generate 3D plots for all 2-combinations of variables\n",
    "for i in range(len(variables)):\n",
    "    for j in range(i+1, len(variables)):\n",
    "        for k in range(len(variables)):\n",
    "            if k != i and k != j:\n",
    "                plot_3d(df, variables[i], variables[j], variables[k])"
   ]
  },
  {
   "cell_type": "code",
   "execution_count": null,
   "metadata": {},
   "outputs": [],
   "source": [
    "def plot_3d(df, x, y, z):\n",
    "    fig = plt.figure(figsize=(10, 7))\n",
    "    ax = fig.add_subplot(111, projection='3d')\n",
    "\n",
    "    # Select only the columns you're interested in\n",
    "    df = df[[x, y, z, 'accuracy']]\n",
    "\n",
    "    # Group by z variable and calculate mean accuracy\n",
    "    grouped = df.groupby(z).mean()\n",
    "\n",
    "    # Plot x and y variables on x and y axes, and mean accuracy on z axis\n",
    "    sc = ax.scatter(grouped[x], grouped[y], grouped['accuracy'], c=grouped.index, cmap='viridis')\n",
    "\n",
    "    ax.set_xlabel(x)\n",
    "    ax.set_ylabel(y)\n",
    "    ax.set_zlabel('Mean Accuracy')\n",
    "\n",
    "    plt.title(f'Mean Accuracy based on {x} and {y}')\n",
    "\n",
    "    plt.colorbar(sc)\n",
    "\n",
    "    plt.show()\n",
    "\n",
    "# List of variables\n",
    "variables = ['num_agents', 'sequence_length', 'hidden_size_x_num_hidden_layers']\n",
    "\n",
    "# Generate 3D plots for all 2-combinations of variables\n",
    "for i in range(len(variables)):\n",
    "    for j in range(i+1, len(variables)):\n",
    "        for k in range(len(variables)):\n",
    "            if k != i and k != j:\n",
    "                plot_3d(df_log2, variables[i], variables[j], variables[k])"
   ]
  },
  {
   "cell_type": "code",
   "execution_count": null,
   "metadata": {},
   "outputs": [],
   "source": [
    " df.dtypes"
   ]
  },
  {
   "cell_type": "code",
   "execution_count": null,
   "metadata": {},
   "outputs": [],
   "source": [
    "from scipy.interpolate import griddata\n",
    "import numpy as np\n",
    "\n",
    "def plot_3d(df, x, y, z):\n",
    "    fig = plt.figure(figsize=(10, 7))\n",
    "    ax = fig.add_subplot(111, projection='3d')\n",
    "\n",
    "    # Create a grid of points\n",
    "    xi = np.linspace(df[x].min(), df[x].max(), 100)\n",
    "    yi = np.linspace(df[y].min(), df[y].max(), 100)\n",
    "    xi, yi = np.meshgrid(xi, yi)\n",
    "\n",
    "    # Interpolate z values over the grid\n",
    "    zi = griddata((df[x], df[y]), df[z], (xi, yi), method='linear')\n",
    "\n",
    "    # Plot a wireframe\n",
    "    ax.plot_wireframe(xi, yi, zi, color='k')\n",
    "\n",
    "    ax.set_xlabel(x)\n",
    "    ax.set_ylabel(y)\n",
    "    ax.set_zlabel(z)\n",
    "\n",
    "    plt.title(f'{z} based on {x} and {y}')\n",
    "\n",
    "    plt.show()\n",
    "\n",
    "# List of variables\n",
    "variables = ['num_agents', 'sequence_length', 'hidden_size_x_num_hidden_layers']\n",
    "\n",
    "# Generate 3D plots for all 2-combinations of variables\n",
    "for i in range(len(variables)):\n",
    "    for j in range(i+1, len(variables)):\n",
    "        for k in range(len(variables)):\n",
    "            if k != i and k != j:\n",
    "                plot_3d(df, variables[i], variables[j], variables[k])"
   ]
  },
  {
   "cell_type": "code",
   "execution_count": null,
   "metadata": {},
   "outputs": [],
   "source": [
    "def plot_3d(df, x, y, z):\n",
    "    fig = plt.figure(figsize=(10, 7))\n",
    "    ax = fig.add_subplot(111, projection='3d')\n",
    "\n",
    "    # Plot x and y variables on x and y axes, z variable on z axis, and accuracy as color\n",
    "    sc = ax.scatter(df[x], df[y], df[z], c=df['accuracy'], cmap='viridis')\n",
    "\n",
    "    ax.set_xlabel(x)\n",
    "    ax.set_ylabel(y)\n",
    "    ax.set_zlabel(z)\n",
    "\n",
    "    plt.title(f'{z} based on {x} and {y} with accuracy')\n",
    "\n",
    "    # Add a color bar\n",
    "    plt.colorbar(sc, label='Accuracy')\n",
    "\n",
    "    plt.show()\n",
    "\n",
    "# List of variables\n",
    "variables = ['num_agents', 'sequence_length', 'hidden_size_x_num_hidden_layers']\n",
    "\n",
    "# Generate 3D plots for all 2-combinations of variables\n",
    "for i in range(len(variables)):\n",
    "    for j in range(i+1, len(variables)):\n",
    "        for k in range(len(variables)):\n",
    "            if k != i and k != j:\n",
    "                plot_3d(df_log2, variables[i], variables[j], variables[k])"
   ]
  },
  {
   "cell_type": "code",
   "execution_count": null,
   "metadata": {},
   "outputs": [],
   "source": [
    "from matplotlib import cm\n",
    "from scipy.interpolate import griddata\n",
    "import numpy as np\n",
    "\n",
    "def plot_3d(df, x, y, z):\n",
    "    fig = plt.figure(figsize=(10, 7))\n",
    "    ax = fig.add_subplot(111, projection='3d')\n",
    "\n",
    "    # Create a grid of points\n",
    "    xi = np.linspace(df[x].min(), df[x].max(), 100)\n",
    "    yi = np.linspace(df[y].min(), df[y].max(), 100)\n",
    "    xi, yi = np.meshgrid(xi, yi)\n",
    "\n",
    "    # Interpolate z values over the grid\n",
    "    zi = griddata((df[x], df[y]), df[z], (xi, yi), method='linear')\n",
    "\n",
    "    # Interpolate accuracy values over the grid for color mapping\n",
    "    acc = griddata((df[x], df[y]), df['accuracy'], (xi, yi), method='linear')\n",
    "\n",
    "    # Normalize to [0,1]\n",
    "    norm = plt.Normalize(acc.min(), acc.max())\n",
    "\n",
    "    # Plot a surface with facecolors set by the 'accuracy' colormap\n",
    "    surf = ax.plot_surface(xi, yi, zi, rstride=1, cstride=1, facecolors=cm.viridis(norm(acc)), linewidth=0, antialiased=False, shade=False, alpha=0.5)\n",
    "\n",
    "    ax.set_xlabel(x)\n",
    "    ax.set_ylabel(y)\n",
    "    ax.set_zlabel(z)\n",
    "\n",
    "    plt.title(f'{z} based on {x} and {y} with accuracy')\n",
    "\n",
    "    # Add a color bar\n",
    "    m = cm.ScalarMappable(cmap=cm.viridis, norm=norm)\n",
    "    m.set_array(acc)\n",
    "    fig.colorbar(m, ax=ax, label='Accuracy')\n",
    "\n",
    "    plt.show()\n",
    "\n",
    "    return fig\n",
    "\n",
    "# List of variables\n",
    "variables = ['num_agents', 'sequence_length', 'hidden_size_x_num_hidden_layers']\n",
    "\n",
    "# Generate 3D plots for all 2-combinations of variables\n",
    "for i in range(len(variables)):\n",
    "    for j in range(i+1, len(variables)):\n",
    "        for k in range(len(variables)):\n",
    "            if k != i and k != j:\n",
    "                fig = plot_3d(df, variables[i], variables[j], variables[k])\n",
    "                # save the plot\n",
    "                fig.savefig(f'{variables[i]}_{variables[j]}_{variables[k]}.png')"
   ]
  },
  {
   "cell_type": "code",
   "execution_count": null,
   "metadata": {},
   "outputs": [],
   "source": []
  }
 ],
 "metadata": {
  "kernelspec": {
   "display_name": ".venv",
   "language": "python",
   "name": "python3"
  },
  "language_info": {
   "codemirror_mode": {
    "name": "ipython",
    "version": 3
   },
   "file_extension": ".py",
   "mimetype": "text/x-python",
   "name": "python",
   "nbconvert_exporter": "python",
   "pygments_lexer": "ipython3",
   "version": "3.10.6"
  }
 },
 "nbformat": 4,
 "nbformat_minor": 2
}
