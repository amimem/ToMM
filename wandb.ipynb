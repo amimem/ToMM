{
 "cells": [
  {
   "cell_type": "code",
   "execution_count": null,
   "metadata": {},
   "outputs": [],
   "source": [
    "import wandb\n",
    "# Import the necessary libraries\n",
    "import matplotlib.pyplot as plt\n",
    "\n",
    "# Initialize wandb\n",
    "wandb.init()\n",
    "\n",
    "# Access the saved data\n",
    "runs = wandb.runs()\n",
    "run = next(runs)\n",
    "history = run.history()\n",
    "\n",
    "# Plot the data\n",
    "plt.plot(history['loss'], label='Loss')\n",
    "plt.plot(history['accuracy'], label='Accuracy')\n",
    "plt.xlabel('Epoch')\n",
    "plt.ylabel('Value')\n",
    "plt.legend()\n",
    "plt.show()\n"
   ]
  }
 ],
 "metadata": {
  "language_info": {
   "name": "python"
  }
 },
 "nbformat": 4,
 "nbformat_minor": 2
}
